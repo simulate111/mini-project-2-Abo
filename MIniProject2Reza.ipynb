{
  "cells": [
    {
      "cell_type": "markdown",
      "metadata": {
        "id": "view-in-github",
        "colab_type": "text"
      },
      "source": [
        "<a href=\"https://colab.research.google.com/github/simulate111/mini-project-2-Abo/blob/main/MIniProject2Reza.ipynb\" target=\"_parent\"><img src=\"https://colab.research.google.com/assets/colab-badge.svg\" alt=\"Open In Colab\"/></a>"
      ]
    },
    {
      "cell_type": "code",
      "execution_count": 1,
      "id": "93d3d731-0939-4948-bb10-5e828d9fdb21",
      "metadata": {
        "tags": [],
        "id": "93d3d731-0939-4948-bb10-5e828d9fdb21",
        "outputId": "3bde1355-a72e-4095-b6d2-742d6067b810",
        "colab": {
          "base_uri": "https://localhost:8080/",
          "height": 397
        }
      },
      "outputs": [
        {
          "output_type": "display_data",
          "data": {
            "text/plain": [
              "   sentiment_label                                         tweet_text\n",
              "0                4  @elephantbird Hey dear, Happy Friday to You  A...\n",
              "1                4  Ughhh layin downnnn    Waiting for zeina to co...\n",
              "2                0  @greeniebach I reckon he'll play, even if he's...\n",
              "3                0              @vaLewee I know!  Saw it on the news!\n",
              "4                0  very sad that http://www.fabchannel.com/ has c..."
            ],
            "text/html": [
              "\n",
              "  <div id=\"df-653010b9-af2c-41b9-a24e-bed93da22871\" class=\"colab-df-container\">\n",
              "    <div>\n",
              "<style scoped>\n",
              "    .dataframe tbody tr th:only-of-type {\n",
              "        vertical-align: middle;\n",
              "    }\n",
              "\n",
              "    .dataframe tbody tr th {\n",
              "        vertical-align: top;\n",
              "    }\n",
              "\n",
              "    .dataframe thead th {\n",
              "        text-align: right;\n",
              "    }\n",
              "</style>\n",
              "<table border=\"1\" class=\"dataframe\">\n",
              "  <thead>\n",
              "    <tr style=\"text-align: right;\">\n",
              "      <th></th>\n",
              "      <th>sentiment_label</th>\n",
              "      <th>tweet_text</th>\n",
              "    </tr>\n",
              "  </thead>\n",
              "  <tbody>\n",
              "    <tr>\n",
              "      <th>0</th>\n",
              "      <td>4</td>\n",
              "      <td>@elephantbird Hey dear, Happy Friday to You  A...</td>\n",
              "    </tr>\n",
              "    <tr>\n",
              "      <th>1</th>\n",
              "      <td>4</td>\n",
              "      <td>Ughhh layin downnnn    Waiting for zeina to co...</td>\n",
              "    </tr>\n",
              "    <tr>\n",
              "      <th>2</th>\n",
              "      <td>0</td>\n",
              "      <td>@greeniebach I reckon he'll play, even if he's...</td>\n",
              "    </tr>\n",
              "    <tr>\n",
              "      <th>3</th>\n",
              "      <td>0</td>\n",
              "      <td>@vaLewee I know!  Saw it on the news!</td>\n",
              "    </tr>\n",
              "    <tr>\n",
              "      <th>4</th>\n",
              "      <td>0</td>\n",
              "      <td>very sad that http://www.fabchannel.com/ has c...</td>\n",
              "    </tr>\n",
              "  </tbody>\n",
              "</table>\n",
              "</div>\n",
              "    <div class=\"colab-df-buttons\">\n",
              "\n",
              "  <div class=\"colab-df-container\">\n",
              "    <button class=\"colab-df-convert\" onclick=\"convertToInteractive('df-653010b9-af2c-41b9-a24e-bed93da22871')\"\n",
              "            title=\"Convert this dataframe to an interactive table.\"\n",
              "            style=\"display:none;\">\n",
              "\n",
              "  <svg xmlns=\"http://www.w3.org/2000/svg\" height=\"24px\" viewBox=\"0 -960 960 960\">\n",
              "    <path d=\"M120-120v-720h720v720H120Zm60-500h600v-160H180v160Zm220 220h160v-160H400v160Zm0 220h160v-160H400v160ZM180-400h160v-160H180v160Zm440 0h160v-160H620v160ZM180-180h160v-160H180v160Zm440 0h160v-160H620v160Z\"/>\n",
              "  </svg>\n",
              "    </button>\n",
              "\n",
              "  <style>\n",
              "    .colab-df-container {\n",
              "      display:flex;\n",
              "      gap: 12px;\n",
              "    }\n",
              "\n",
              "    .colab-df-convert {\n",
              "      background-color: #E8F0FE;\n",
              "      border: none;\n",
              "      border-radius: 50%;\n",
              "      cursor: pointer;\n",
              "      display: none;\n",
              "      fill: #1967D2;\n",
              "      height: 32px;\n",
              "      padding: 0 0 0 0;\n",
              "      width: 32px;\n",
              "    }\n",
              "\n",
              "    .colab-df-convert:hover {\n",
              "      background-color: #E2EBFA;\n",
              "      box-shadow: 0px 1px 2px rgba(60, 64, 67, 0.3), 0px 1px 3px 1px rgba(60, 64, 67, 0.15);\n",
              "      fill: #174EA6;\n",
              "    }\n",
              "\n",
              "    .colab-df-buttons div {\n",
              "      margin-bottom: 4px;\n",
              "    }\n",
              "\n",
              "    [theme=dark] .colab-df-convert {\n",
              "      background-color: #3B4455;\n",
              "      fill: #D2E3FC;\n",
              "    }\n",
              "\n",
              "    [theme=dark] .colab-df-convert:hover {\n",
              "      background-color: #434B5C;\n",
              "      box-shadow: 0px 1px 3px 1px rgba(0, 0, 0, 0.15);\n",
              "      filter: drop-shadow(0px 1px 2px rgba(0, 0, 0, 0.3));\n",
              "      fill: #FFFFFF;\n",
              "    }\n",
              "  </style>\n",
              "\n",
              "    <script>\n",
              "      const buttonEl =\n",
              "        document.querySelector('#df-653010b9-af2c-41b9-a24e-bed93da22871 button.colab-df-convert');\n",
              "      buttonEl.style.display =\n",
              "        google.colab.kernel.accessAllowed ? 'block' : 'none';\n",
              "\n",
              "      async function convertToInteractive(key) {\n",
              "        const element = document.querySelector('#df-653010b9-af2c-41b9-a24e-bed93da22871');\n",
              "        const dataTable =\n",
              "          await google.colab.kernel.invokeFunction('convertToInteractive',\n",
              "                                                    [key], {});\n",
              "        if (!dataTable) return;\n",
              "\n",
              "        const docLinkHtml = 'Like what you see? Visit the ' +\n",
              "          '<a target=\"_blank\" href=https://colab.research.google.com/notebooks/data_table.ipynb>data table notebook</a>'\n",
              "          + ' to learn more about interactive tables.';\n",
              "        element.innerHTML = '';\n",
              "        dataTable['output_type'] = 'display_data';\n",
              "        await google.colab.output.renderOutput(dataTable, element);\n",
              "        const docLink = document.createElement('div');\n",
              "        docLink.innerHTML = docLinkHtml;\n",
              "        element.appendChild(docLink);\n",
              "      }\n",
              "    </script>\n",
              "  </div>\n",
              "\n",
              "\n",
              "<div id=\"df-8bef6b6e-b058-49f0-ae15-c8913da5fb67\">\n",
              "  <button class=\"colab-df-quickchart\" onclick=\"quickchart('df-8bef6b6e-b058-49f0-ae15-c8913da5fb67')\"\n",
              "            title=\"Suggest charts\"\n",
              "            style=\"display:none;\">\n",
              "\n",
              "<svg xmlns=\"http://www.w3.org/2000/svg\" height=\"24px\"viewBox=\"0 0 24 24\"\n",
              "     width=\"24px\">\n",
              "    <g>\n",
              "        <path d=\"M19 3H5c-1.1 0-2 .9-2 2v14c0 1.1.9 2 2 2h14c1.1 0 2-.9 2-2V5c0-1.1-.9-2-2-2zM9 17H7v-7h2v7zm4 0h-2V7h2v10zm4 0h-2v-4h2v4z\"/>\n",
              "    </g>\n",
              "</svg>\n",
              "  </button>\n",
              "\n",
              "<style>\n",
              "  .colab-df-quickchart {\n",
              "      --bg-color: #E8F0FE;\n",
              "      --fill-color: #1967D2;\n",
              "      --hover-bg-color: #E2EBFA;\n",
              "      --hover-fill-color: #174EA6;\n",
              "      --disabled-fill-color: #AAA;\n",
              "      --disabled-bg-color: #DDD;\n",
              "  }\n",
              "\n",
              "  [theme=dark] .colab-df-quickchart {\n",
              "      --bg-color: #3B4455;\n",
              "      --fill-color: #D2E3FC;\n",
              "      --hover-bg-color: #434B5C;\n",
              "      --hover-fill-color: #FFFFFF;\n",
              "      --disabled-bg-color: #3B4455;\n",
              "      --disabled-fill-color: #666;\n",
              "  }\n",
              "\n",
              "  .colab-df-quickchart {\n",
              "    background-color: var(--bg-color);\n",
              "    border: none;\n",
              "    border-radius: 50%;\n",
              "    cursor: pointer;\n",
              "    display: none;\n",
              "    fill: var(--fill-color);\n",
              "    height: 32px;\n",
              "    padding: 0;\n",
              "    width: 32px;\n",
              "  }\n",
              "\n",
              "  .colab-df-quickchart:hover {\n",
              "    background-color: var(--hover-bg-color);\n",
              "    box-shadow: 0 1px 2px rgba(60, 64, 67, 0.3), 0 1px 3px 1px rgba(60, 64, 67, 0.15);\n",
              "    fill: var(--button-hover-fill-color);\n",
              "  }\n",
              "\n",
              "  .colab-df-quickchart-complete:disabled,\n",
              "  .colab-df-quickchart-complete:disabled:hover {\n",
              "    background-color: var(--disabled-bg-color);\n",
              "    fill: var(--disabled-fill-color);\n",
              "    box-shadow: none;\n",
              "  }\n",
              "\n",
              "  .colab-df-spinner {\n",
              "    border: 2px solid var(--fill-color);\n",
              "    border-color: transparent;\n",
              "    border-bottom-color: var(--fill-color);\n",
              "    animation:\n",
              "      spin 1s steps(1) infinite;\n",
              "  }\n",
              "\n",
              "  @keyframes spin {\n",
              "    0% {\n",
              "      border-color: transparent;\n",
              "      border-bottom-color: var(--fill-color);\n",
              "      border-left-color: var(--fill-color);\n",
              "    }\n",
              "    20% {\n",
              "      border-color: transparent;\n",
              "      border-left-color: var(--fill-color);\n",
              "      border-top-color: var(--fill-color);\n",
              "    }\n",
              "    30% {\n",
              "      border-color: transparent;\n",
              "      border-left-color: var(--fill-color);\n",
              "      border-top-color: var(--fill-color);\n",
              "      border-right-color: var(--fill-color);\n",
              "    }\n",
              "    40% {\n",
              "      border-color: transparent;\n",
              "      border-right-color: var(--fill-color);\n",
              "      border-top-color: var(--fill-color);\n",
              "    }\n",
              "    60% {\n",
              "      border-color: transparent;\n",
              "      border-right-color: var(--fill-color);\n",
              "    }\n",
              "    80% {\n",
              "      border-color: transparent;\n",
              "      border-right-color: var(--fill-color);\n",
              "      border-bottom-color: var(--fill-color);\n",
              "    }\n",
              "    90% {\n",
              "      border-color: transparent;\n",
              "      border-bottom-color: var(--fill-color);\n",
              "    }\n",
              "  }\n",
              "</style>\n",
              "\n",
              "  <script>\n",
              "    async function quickchart(key) {\n",
              "      const quickchartButtonEl =\n",
              "        document.querySelector('#' + key + ' button');\n",
              "      quickchartButtonEl.disabled = true;  // To prevent multiple clicks.\n",
              "      quickchartButtonEl.classList.add('colab-df-spinner');\n",
              "      try {\n",
              "        const charts = await google.colab.kernel.invokeFunction(\n",
              "            'suggestCharts', [key], {});\n",
              "      } catch (error) {\n",
              "        console.error('Error during call to suggestCharts:', error);\n",
              "      }\n",
              "      quickchartButtonEl.classList.remove('colab-df-spinner');\n",
              "      quickchartButtonEl.classList.add('colab-df-quickchart-complete');\n",
              "    }\n",
              "    (() => {\n",
              "      let quickchartButtonEl =\n",
              "        document.querySelector('#df-8bef6b6e-b058-49f0-ae15-c8913da5fb67 button');\n",
              "      quickchartButtonEl.style.display =\n",
              "        google.colab.kernel.accessAllowed ? 'block' : 'none';\n",
              "    })();\n",
              "  </script>\n",
              "</div>\n",
              "    </div>\n",
              "  </div>\n"
            ],
            "application/vnd.google.colaboratory.intrinsic+json": {
              "type": "dataframe",
              "summary": "{\n  \"name\": \"df\",\n  \"rows\": 5,\n  \"fields\": [\n    {\n      \"column\": \"sentiment_label\",\n      \"properties\": {\n        \"dtype\": \"number\",\n        \"std\": 2,\n        \"min\": 0,\n        \"max\": 4,\n        \"samples\": [\n          0,\n          4\n        ],\n        \"num_unique_values\": 2,\n        \"semantic_type\": \"\",\n        \"description\": \"\"\n      }\n    },\n    {\n      \"column\": \"tweet_text\",\n      \"properties\": {\n        \"dtype\": \"string\",\n        \"samples\": [\n          \"Ughhh layin downnnn    Waiting for zeina to cook breakfast\",\n          \"very sad that http://www.fabchannel.com/ has closed down. One of the few web services that I've used for over 5 years \"\n        ],\n        \"num_unique_values\": 5,\n        \"semantic_type\": \"\",\n        \"description\": \"\"\n      }\n    }\n  ]\n}"
            }
          },
          "metadata": {}
        },
        {
          "output_type": "stream",
          "name": "stdout",
          "text": [
            "\n",
            "DataFrame Info:\n",
            "<class 'pandas.core.frame.DataFrame'>\n",
            "RangeIndex: 160000 entries, 0 to 159999\n",
            "Data columns (total 2 columns):\n",
            " #   Column           Non-Null Count   Dtype \n",
            "---  ------           --------------   ----- \n",
            " 0   sentiment_label  160000 non-null  int64 \n",
            " 1   tweet_text       160000 non-null  object\n",
            "dtypes: int64(1), object(1)\n",
            "memory usage: 2.4+ MB\n"
          ]
        }
      ],
      "source": [
        "import pandas as pd\n",
        "\n",
        "# Replace 'your_path' with the actual path to the file if it's not in the current working directory\n",
        "file_path = 'https://raw.githubusercontent.com/simulate111/mini-project-2-Abo/main/Sentiment140.tenPercent.sample.tweets.tsv'\n",
        "\n",
        "# Read the TSV file into a Pandas DataFrame without defining column names\n",
        "df = pd.read_csv(file_path, sep='\\t', header=0)\n",
        "\n",
        "# Display the first few rows of the DataFrame\n",
        "display(df.head())\n",
        "\n",
        "# Display a concise summary of the DataFrame\n",
        "print(\"\\nDataFrame Info:\")\n",
        "df.info()\n"
      ]
    },
    {
      "cell_type": "code",
      "execution_count": 2,
      "id": "79a88430-670a-471d-ae5e-37a0e3d268dd",
      "metadata": {
        "tags": [],
        "id": "79a88430-670a-471d-ae5e-37a0e3d268dd",
        "outputId": "03ee038d-e6cb-42f5-9a79-958d96a7b1c1",
        "colab": {
          "base_uri": "https://localhost:8080/"
        }
      },
      "outputs": [
        {
          "output_type": "stream",
          "name": "stdout",
          "text": [
            "Unique Sentiment Labels and Counts:\n",
            "4    80000\n",
            "0    80000\n",
            "Name: sentiment_label, dtype: int64\n"
          ]
        }
      ],
      "source": [
        "# Display unique values and their counts for the 'sentiment_label' column\n",
        "sentiment_label_counts = df['sentiment_label'].value_counts()\n",
        "\n",
        "# Display the result\n",
        "print(\"Unique Sentiment Labels and Counts:\")\n",
        "print(sentiment_label_counts)\n"
      ]
    },
    {
      "cell_type": "code",
      "execution_count": 3,
      "id": "ca4f8e1a-0de9-4a84-9471-578c8a9c3a8d",
      "metadata": {
        "tags": [],
        "id": "ca4f8e1a-0de9-4a84-9471-578c8a9c3a8d",
        "outputId": "30d46073-0d4d-4941-972c-d704bbed84b2",
        "colab": {
          "base_uri": "https://localhost:8080/",
          "height": 675
        }
      },
      "outputs": [
        {
          "output_type": "display_data",
          "data": {
            "text/plain": [
              "<Figure size 800x800 with 1 Axes>"
            ],
            "image/png": "[encoded data removed]"
          },
          "metadata": {}
        }
      ],
      "source": [
        "import matplotlib.pyplot as plt\n",
        "\n",
        "# Get unique values and their counts for the 'sentiment_label' column\n",
        "sentiment_label_counts = df['sentiment_label'].value_counts()\n",
        "\n",
        "# Plotting the pie chart with labels\n",
        "plt.figure(figsize=(8, 8))\n",
        "plt.pie(sentiment_label_counts, labels=sentiment_label_counts.index, autopct=lambda p: '{:.0f} ({:.1f}%)'.format(p * sentiment_label_counts.sum() / 100, p),\n",
        "        startangle=140, colors=plt.cm.Paired.colors)\n",
        "plt.title('Sentiment Label Distribution')\n",
        "plt.show()\n"
      ]
    },
    {
      "cell_type": "code",
      "execution_count": 4,
      "id": "a9f04de2-6348-48ee-a4c3-6271f65cb8a8",
      "metadata": {
        "tags": [],
        "id": "a9f04de2-6348-48ee-a4c3-6271f65cb8a8",
        "outputId": "cd3ef39e-fab7-46cb-c1cd-77cea17516e5",
        "colab": {
          "base_uri": "https://localhost:8080/"
        }
      },
      "outputs": [
        {
          "output_type": "stream",
          "name": "stdout",
          "text": [
            "Missing Values:\n",
            "sentiment_label    0\n",
            "tweet_text         0\n",
            "dtype: int64\n"
          ]
        }
      ],
      "source": [
        "# Check for missing values in the DataFrame\n",
        "missing_values = df.isnull().sum()\n",
        "\n",
        "# Display the result\n",
        "print(\"Missing Values:\")\n",
        "print(missing_values)\n"
      ]
    },
    {
      "cell_type": "code",
      "execution_count": 5,
      "id": "5a0370fb-b1b3-4a23-a12a-f611a4a5c55c",
      "metadata": {
        "tags": [],
        "id": "5a0370fb-b1b3-4a23-a12a-f611a4a5c55c",
        "outputId": "dc6dbe7d-f3bd-403d-d94a-fab2d294d797",
        "colab": {
          "base_uri": "https://localhost:8080/"
        }
      },
      "outputs": [
        {
          "output_type": "stream",
          "name": "stdout",
          "text": [
            "Missing Values in 'sentiment_label' column: 0\n"
          ]
        }
      ],
      "source": [
        "# Check for missing values in the 'sentiment_label' column\n",
        "missing_values_sentiment = df['sentiment_label'].isnull().sum()\n",
        "\n",
        "# Display the result\n",
        "print(\"Missing Values in 'sentiment_label' column:\", missing_values_sentiment)\n"
      ]
    },
    {
      "cell_type": "code",
      "execution_count": 6,
      "id": "9cd6e08d-0d56-489f-8418-0d8bceafb7ac",
      "metadata": {
        "tags": [],
        "id": "9cd6e08d-0d56-489f-8418-0d8bceafb7ac",
        "outputId": "47993f93-cf60-476c-e3a0-8a2cd938180b",
        "colab": {
          "base_uri": "https://localhost:8080/"
        }
      },
      "outputs": [
        {
          "output_type": "stream",
          "name": "stdout",
          "text": [
            "Text Length Summary:\n",
            "count    160000.000000\n",
            "mean         74.113481\n",
            "std          36.440383\n",
            "min           6.000000\n",
            "25%          44.000000\n",
            "50%          69.000000\n",
            "75%         104.000000\n",
            "max         186.000000\n",
            "Name: text_length, dtype: float64\n"
          ]
        }
      ],
      "source": [
        "# Check text lengths\n",
        "df['text_length'] = df['tweet_text'].apply(len)\n",
        "print(\"Text Length Summary:\")\n",
        "print(df['text_length'].describe())\n"
      ]
    },
    {
      "cell_type": "code",
      "execution_count": 7,
      "id": "bb405191-67ae-4bdc-a5e5-203635b7e22b",
      "metadata": {
        "tags": [],
        "id": "bb405191-67ae-4bdc-a5e5-203635b7e22b",
        "outputId": "16be6a4e-bd48-4e73-e7bd-3171f152783c",
        "colab": {
          "base_uri": "https://localhost:8080/",
          "height": 206
        }
      },
      "outputs": [
        {
          "output_type": "display_data",
          "data": {
            "text/plain": [
              "   sentiment_label                                         tweet_text  \\\n",
              "0                1  @elephantbird Hey dear, Happy Friday to You  A...   \n",
              "1                1  Ughhh layin downnnn    Waiting for zeina to co...   \n",
              "2                0  @greeniebach I reckon he'll play, even if he's...   \n",
              "3                0              @vaLewee I know!  Saw it on the news!   \n",
              "4                0  very sad that http://www.fabchannel.com/ has c...   \n",
              "\n",
              "   text_length  \n",
              "0           85  \n",
              "1           58  \n",
              "2          116  \n",
              "3           37  \n",
              "4          118  "
            ],
            "text/html": [
              "\n",
              "  <div id=\"df-87016bda-231c-4d59-b65d-cf369b9331c3\" class=\"colab-df-container\">\n",
              "    <div>\n",
              "<style scoped>\n",
              "    .dataframe tbody tr th:only-of-type {\n",
              "        vertical-align: middle;\n",
              "    }\n",
              "\n",
              "    .dataframe tbody tr th {\n",
              "        vertical-align: top;\n",
              "    }\n",
              "\n",
              "    .dataframe thead th {\n",
              "        text-align: right;\n",
              "    }\n",
              "</style>\n",
              "<table border=\"1\" class=\"dataframe\">\n",
              "  <thead>\n",
              "    <tr style=\"text-align: right;\">\n",
              "      <th></th>\n",
              "      <th>sentiment_label</th>\n",
              "      <th>tweet_text</th>\n",
              "      <th>text_length</th>\n",
              "    </tr>\n",
              "  </thead>\n",
              "  <tbody>\n",
              "    <tr>\n",
              "      <th>0</th>\n",
              "      <td>1</td>\n",
              "      <td>@elephantbird Hey dear, Happy Friday to You  A...</td>\n",
              "      <td>85</td>\n",
              "    </tr>\n",
              "    <tr>\n",
              "      <th>1</th>\n",
              "      <td>1</td>\n",
              "      <td>Ughhh layin downnnn    Waiting for zeina to co...</td>\n",
              "      <td>58</td>\n",
              "    </tr>\n",
              "    <tr>\n",
              "      <th>2</th>\n",
              "      <td>0</td>\n",
              "      <td>@greeniebach I reckon he'll play, even if he's...</td>\n",
              "      <td>116</td>\n",
              "    </tr>\n",
              "    <tr>\n",
              "      <th>3</th>\n",
              "      <td>0</td>\n",
              "      <td>@vaLewee I know!  Saw it on the news!</td>\n",
              "      <td>37</td>\n",
              "    </tr>\n",
              "    <tr>\n",
              "      <th>4</th>\n",
              "      <td>0</td>\n",
              "      <td>very sad that http://www.fabchannel.com/ has c...</td>\n",
              "      <td>118</td>\n",
              "    </tr>\n",
              "  </tbody>\n",
              "</table>\n",
              "</div>\n",
              "    <div class=\"colab-df-buttons\">\n",
              "\n",
              "  <div class=\"colab-df-container\">\n",
              "    <button class=\"colab-df-convert\" onclick=\"convertToInteractive('df-87016bda-231c-4d59-b65d-cf369b9331c3')\"\n",
              "            title=\"Convert this dataframe to an interactive table.\"\n",
              "            style=\"display:none;\">\n",
              "\n",
              "  <svg xmlns=\"http://www.w3.org/2000/svg\" height=\"24px\" viewBox=\"0 -960 960 960\">\n",
              "    <path d=\"M120-120v-720h720v720H120Zm60-500h600v-160H180v160Zm220 220h160v-160H400v160Zm0 220h160v-160H400v160ZM180-400h160v-160H180v160Zm440 0h160v-160H620v160ZM180-180h160v-160H180v160Zm440 0h160v-160H620v160Z\"/>\n",
              "  </svg>\n",
              "    </button>\n",
              "\n",
              "  <style>\n",
              "    .colab-df-container {\n",
              "      display:flex;\n",
              "      gap: 12px;\n",
              "    }\n",
              "\n",
              "    .colab-df-convert {\n",
              "      background-color: #E8F0FE;\n",
              "      border: none;\n",
              "      border-radius: 50%;\n",
              "      cursor: pointer;\n",
              "      display: none;\n",
              "      fill: #1967D2;\n",
              "      height: 32px;\n",
              "      padding: 0 0 0 0;\n",
              "      width: 32px;\n",
              "    }\n",
              "\n",
              "    .colab-df-convert:hover {\n",
              "      background-color: #E2EBFA;\n",
              "      box-shadow: 0px 1px 2px rgba(60, 64, 67, 0.3), 0px 1px 3px 1px rgba(60, 64, 67, 0.15);\n",
              "      fill: #174EA6;\n",
              "    }\n",
              "\n",
              "    .colab-df-buttons div {\n",
              "      margin-bottom: 4px;\n",
              "    }\n",
              "\n",
              "    [theme=dark] .colab-df-convert {\n",
              "      background-color: #3B4455;\n",
              "      fill: #D2E3FC;\n",
              "    }\n",
              "\n",
              "    [theme=dark] .colab-df-convert:hover {\n",
              "      background-color: #434B5C;\n",
              "      box-shadow: 0px 1px 3px 1px rgba(0, 0, 0, 0.15);\n",
              "      filter: drop-shadow(0px 1px 2px rgba(0, 0, 0, 0.3));\n",
              "      fill: #FFFFFF;\n",
              "    }\n",
              "  </style>\n",
              "\n",
              "    <script>\n",
              "      const buttonEl =\n",
              "        document.querySelector('#df-87016bda-231c-4d59-b65d-cf369b9331c3 button.colab-df-convert');\n",
              "      buttonEl.style.display =\n",
              "        google.colab.kernel.accessAllowed ? 'block' : 'none';\n",
              "\n",
              "      async function convertToInteractive(key) {\n",
              "        const element = document.querySelector('#df-87016bda-231c-4d59-b65d-cf369b9331c3');\n",
              "        const dataTable =\n",
              "          await google.colab.kernel.invokeFunction('convertToInteractive',\n",
              "                                                    [key], {});\n",
              "        if (!dataTable) return;\n",
              "\n",
              "        const docLinkHtml = 'Like what you see? Visit the ' +\n",
              "          '<a target=\"_blank\" href=https://colab.research.google.com/notebooks/data_table.ipynb>data table notebook</a>'\n",
              "          + ' to learn more about interactive tables.';\n",
              "        element.innerHTML = '';\n",
              "        dataTable['output_type'] = 'display_data';\n",
              "        await google.colab.output.renderOutput(dataTable, element);\n",
              "        const docLink = document.createElement('div');\n",
              "        docLink.innerHTML = docLinkHtml;\n",
              "        element.appendChild(docLink);\n",
              "      }\n",
              "    </script>\n",
              "  </div>\n",
              "\n",
              "\n",
              "<div id=\"df-c201d702-f474-47b6-b048-b356eec3f8f7\">\n",
              "  <button class=\"colab-df-quickchart\" onclick=\"quickchart('df-c201d702-f474-47b6-b048-b356eec3f8f7')\"\n",
              "            title=\"Suggest charts\"\n",
              "            style=\"display:none;\">\n",
              "\n",
              "<svg xmlns=\"http://www.w3.org/2000/svg\" height=\"24px\"viewBox=\"0 0 24 24\"\n",
              "     width=\"24px\">\n",
              "    <g>\n",
              "        <path d=\"M19 3H5c-1.1 0-2 .9-2 2v14c0 1.1.9 2 2 2h14c1.1 0 2-.9 2-2V5c0-1.1-.9-2-2-2zM9 17H7v-7h2v7zm4 0h-2V7h2v10zm4 0h-2v-4h2v4z\"/>\n",
              "    </g>\n",
              "</svg>\n",
              "  </button>\n",
              "\n",
              "<style>\n",
              "  .colab-df-quickchart {\n",
              "      --bg-color: #E8F0FE;\n",
              "      --fill-color: #1967D2;\n",
              "      --hover-bg-color: #E2EBFA;\n",
              "      --hover-fill-color: #174EA6;\n",
              "      --disabled-fill-color: #AAA;\n",
              "      --disabled-bg-color: #DDD;\n",
              "  }\n",
              "\n",
              "  [theme=dark] .colab-df-quickchart {\n",
              "      --bg-color: #3B4455;\n",
              "      --fill-color: #D2E3FC;\n",
              "      --hover-bg-color: #434B5C;\n",
              "      --hover-fill-color: #FFFFFF;\n",
              "      --disabled-bg-color: #3B4455;\n",
              "      --disabled-fill-color: #666;\n",
              "  }\n",
              "\n",
              "  .colab-df-quickchart {\n",
              "    background-color: var(--bg-color);\n",
              "    border: none;\n",
              "    border-radius: 50%;\n",
              "    cursor: pointer;\n",
              "    display: none;\n",
              "    fill: var(--fill-color);\n",
              "    height: 32px;\n",
              "    padding: 0;\n",
              "    width: 32px;\n",
              "  }\n",
              "\n",
              "  .colab-df-quickchart:hover {\n",
              "    background-color: var(--hover-bg-color);\n",
              "    box-shadow: 0 1px 2px rgba(60, 64, 67, 0.3), 0 1px 3px 1px rgba(60, 64, 67, 0.15);\n",
              "    fill: var(--button-hover-fill-color);\n",
              "  }\n",
              "\n",
              "  .colab-df-quickchart-complete:disabled,\n",
              "  .colab-df-quickchart-complete:disabled:hover {\n",
              "    background-color: var(--disabled-bg-color);\n",
              "    fill: var(--disabled-fill-color);\n",
              "    box-shadow: none;\n",
              "  }\n",
              "\n",
              "  .colab-df-spinner {\n",
              "    border: 2px solid var(--fill-color);\n",
              "    border-color: transparent;\n",
              "    border-bottom-color: var(--fill-color);\n",
              "    animation:\n",
              "      spin 1s steps(1) infinite;\n",
              "  }\n",
              "\n",
              "  @keyframes spin {\n",
              "    0% {\n",
              "      border-color: transparent;\n",
              "      border-bottom-color: var(--fill-color);\n",
              "      border-left-color: var(--fill-color);\n",
              "    }\n",
              "    20% {\n",
              "      border-color: transparent;\n",
              "      border-left-color: var(--fill-color);\n",
              "      border-top-color: var(--fill-color);\n",
              "    }\n",
              "    30% {\n",
              "      border-color: transparent;\n",
              "      border-left-color: var(--fill-color);\n",
              "      border-top-color: var(--fill-color);\n",
              "      border-right-color: var(--fill-color);\n",
              "    }\n",
              "    40% {\n",
              "      border-color: transparent;\n",
              "      border-right-color: var(--fill-color);\n",
              "      border-top-color: var(--fill-color);\n",
              "    }\n",
              "    60% {\n",
              "      border-color: transparent;\n",
              "      border-right-color: var(--fill-color);\n",
              "    }\n",
              "    80% {\n",
              "      border-color: transparent;\n",
              "      border-right-color: var(--fill-color);\n",
              "      border-bottom-color: var(--fill-color);\n",
              "    }\n",
              "    90% {\n",
              "      border-color: transparent;\n",
              "      border-bottom-color: var(--fill-color);\n",
              "    }\n",
              "  }\n",
              "</style>\n",
              "\n",
              "  <script>\n",
              "    async function quickchart(key) {\n",
              "      const quickchartButtonEl =\n",
              "        document.querySelector('#' + key + ' button');\n",
              "      quickchartButtonEl.disabled = true;  // To prevent multiple clicks.\n",
              "      quickchartButtonEl.classList.add('colab-df-spinner');\n",
              "      try {\n",
              "        const charts = await google.colab.kernel.invokeFunction(\n",
              "            'suggestCharts', [key], {});\n",
              "      } catch (error) {\n",
              "        console.error('Error during call to suggestCharts:', error);\n",
              "      }\n",
              "      quickchartButtonEl.classList.remove('colab-df-spinner');\n",
              "      quickchartButtonEl.classList.add('colab-df-quickchart-complete');\n",
              "    }\n",
              "    (() => {\n",
              "      let quickchartButtonEl =\n",
              "        document.querySelector('#df-c201d702-f474-47b6-b048-b356eec3f8f7 button');\n",
              "      quickchartButtonEl.style.display =\n",
              "        google.colab.kernel.accessAllowed ? 'block' : 'none';\n",
              "    })();\n",
              "  </script>\n",
              "</div>\n",
              "    </div>\n",
              "  </div>\n"
            ],
            "application/vnd.google.colaboratory.intrinsic+json": {
              "type": "dataframe",
              "summary": "{\n  \"name\": \"display(df\",\n  \"rows\": 5,\n  \"fields\": [\n    {\n      \"column\": \"sentiment_label\",\n      \"properties\": {\n        \"dtype\": \"number\",\n        \"std\": 0,\n        \"min\": 0,\n        \"max\": 1,\n        \"samples\": [\n          0,\n          1\n        ],\n        \"num_unique_values\": 2,\n        \"semantic_type\": \"\",\n        \"description\": \"\"\n      }\n    },\n    {\n      \"column\": \"tweet_text\",\n      \"properties\": {\n        \"dtype\": \"string\",\n        \"samples\": [\n          \"Ughhh layin downnnn    Waiting for zeina to cook breakfast\",\n          \"very sad that http://www.fabchannel.com/ has closed down. One of the few web services that I've used for over 5 years \"\n        ],\n        \"num_unique_values\": 5,\n        \"semantic_type\": \"\",\n        \"description\": \"\"\n      }\n    },\n    {\n      \"column\": \"text_length\",\n      \"properties\": {\n        \"dtype\": \"number\",\n        \"std\": 35,\n        \"min\": 37,\n        \"max\": 118,\n        \"samples\": [\n          58,\n          118\n        ],\n        \"num_unique_values\": 5,\n        \"semantic_type\": \"\",\n        \"description\": \"\"\n      }\n    }\n  ]\n}"
            }
          },
          "metadata": {}
        }
      ],
      "source": [
        "# Replace values in the 'sentiment_label' column\n",
        "df['sentiment_label'] = df['sentiment_label'].replace({4: 1})\n",
        "\n",
        "# Display the first few rows to verify the changes\n",
        "display(df.head())\n"
      ]
    },
    {
      "cell_type": "code",
      "execution_count": 8,
      "id": "c1889ca7-f981-4ddc-8b04-3c9fb17c94c2",
      "metadata": {
        "tags": [],
        "id": "c1889ca7-f981-4ddc-8b04-3c9fb17c94c2",
        "outputId": "168ea283-e461-4df9-e744-61269387f20f",
        "colab": {
          "base_uri": "https://localhost:8080/",
          "height": 206
        }
      },
      "outputs": [
        {
          "output_type": "display_data",
          "data": {
            "text/plain": [
              "                                          tweet_text  \\\n",
              "0  @elephantbird Hey dear, Happy Friday to You  A...   \n",
              "1  Ughhh layin downnnn    Waiting for zeina to co...   \n",
              "2  @greeniebach I reckon he'll play, even if he's...   \n",
              "3              @vaLewee I know!  Saw it on the news!   \n",
              "4  very sad that http://www.fabchannel.com/ has c...   \n",
              "\n",
              "                                       cleaned_tweet  \n",
              "0  Hey dear Happy Friday to You Already had your ...  \n",
              "1  Ughhh layin downnnn Waiting for zeina to cook ...  \n",
              "2  I reckon he ll play even if he s not 100 but i...  \n",
              "3                          I know Saw it on the news  \n",
              "4  very sad that has closed down One of the few w...  "
            ],
            "text/html": [
              "\n",
              "  <div id=\"df-7b59f0c2-72af-4a5f-a7b4-3739126fef7a\" class=\"colab-df-container\">\n",
              "    <div>\n",
              "<style scoped>\n",
              "    .dataframe tbody tr th:only-of-type {\n",
              "        vertical-align: middle;\n",
              "    }\n",
              "\n",
              "    .dataframe tbody tr th {\n",
              "        vertical-align: top;\n",
              "    }\n",
              "\n",
              "    .dataframe thead th {\n",
              "        text-align: right;\n",
              "    }\n",
              "</style>\n",
              "<table border=\"1\" class=\"dataframe\">\n",
              "  <thead>\n",
              "    <tr style=\"text-align: right;\">\n",
              "      <th></th>\n",
              "      <th>tweet_text</th>\n",
              "      <th>cleaned_tweet</th>\n",
              "    </tr>\n",
              "  </thead>\n",
              "  <tbody>\n",
              "    <tr>\n",
              "      <th>0</th>\n",
              "      <td>@elephantbird Hey dear, Happy Friday to You  A...</td>\n",
              "      <td>Hey dear Happy Friday to You Already had your ...</td>\n",
              "    </tr>\n",
              "    <tr>\n",
              "      <th>1</th>\n",
              "      <td>Ughhh layin downnnn    Waiting for zeina to co...</td>\n",
              "      <td>Ughhh layin downnnn Waiting for zeina to cook ...</td>\n",
              "    </tr>\n",
              "    <tr>\n",
              "      <th>2</th>\n",
              "      <td>@greeniebach I reckon he'll play, even if he's...</td>\n",
              "      <td>I reckon he ll play even if he s not 100 but i...</td>\n",
              "    </tr>\n",
              "    <tr>\n",
              "      <th>3</th>\n",
              "      <td>@vaLewee I know!  Saw it on the news!</td>\n",
              "      <td>I know Saw it on the news</td>\n",
              "    </tr>\n",
              "    <tr>\n",
              "      <th>4</th>\n",
              "      <td>very sad that http://www.fabchannel.com/ has c...</td>\n",
              "      <td>very sad that has closed down One of the few w...</td>\n",
              "    </tr>\n",
              "  </tbody>\n",
              "</table>\n",
              "</div>\n",
              "    <div class=\"colab-df-buttons\">\n",
              "\n",
              "  <div class=\"colab-df-container\">\n",
              "    <button class=\"colab-df-convert\" onclick=\"convertToInteractive('df-7b59f0c2-72af-4a5f-a7b4-3739126fef7a')\"\n",
              "            title=\"Convert this dataframe to an interactive table.\"\n",
              "            style=\"display:none;\">\n",
              "\n",
              "  <svg xmlns=\"http://www.w3.org/2000/svg\" height=\"24px\" viewBox=\"0 -960 960 960\">\n",
              "    <path d=\"M120-120v-720h720v720H120Zm60-500h600v-160H180v160Zm220 220h160v-160H400v160Zm0 220h160v-160H400v160ZM180-400h160v-160H180v160Zm440 0h160v-160H620v160ZM180-180h160v-160H180v160Zm440 0h160v-160H620v160Z\"/>\n",
              "  </svg>\n",
              "    </button>\n",
              "\n",
              "  <style>\n",
              "    .colab-df-container {\n",
              "      display:flex;\n",
              "      gap: 12px;\n",
              "    }\n",
              "\n",
              "    .colab-df-convert {\n",
              "      background-color: #E8F0FE;\n",
              "      border: none;\n",
              "      border-radius: 50%;\n",
              "      cursor: pointer;\n",
              "      display: none;\n",
              "      fill: #1967D2;\n",
              "      height: 32px;\n",
              "      padding: 0 0 0 0;\n",
              "      width: 32px;\n",
              "    }\n",
              "\n",
              "    .colab-df-convert:hover {\n",
              "      background-color: #E2EBFA;\n",
              "      box-shadow: 0px 1px 2px rgba(60, 64, 67, 0.3), 0px 1px 3px 1px rgba(60, 64, 67, 0.15);\n",
              "      fill: #174EA6;\n",
              "    }\n",
              "\n",
              "    .colab-df-buttons div {\n",
              "      margin-bottom: 4px;\n",
              "    }\n",
              "\n",
              "    [theme=dark] .colab-df-convert {\n",
              "      background-color: #3B4455;\n",
              "      fill: #D2E3FC;\n",
              "    }\n",
              "\n",
              "    [theme=dark] .colab-df-convert:hover {\n",
              "      background-color: #434B5C;\n",
              "      box-shadow: 0px 1px 3px 1px rgba(0, 0, 0, 0.15);\n",
              "      filter: drop-shadow(0px 1px 2px rgba(0, 0, 0, 0.3));\n",
              "      fill: #FFFFFF;\n",
              "    }\n",
              "  </style>\n",
              "\n",
              "    <script>\n",
              "      const buttonEl =\n",
              "        document.querySelector('#df-7b59f0c2-72af-4a5f-a7b4-3739126fef7a button.colab-df-convert');\n",
              "      buttonEl.style.display =\n",
              "        google.colab.kernel.accessAllowed ? 'block' : 'none';\n",
              "\n",
              "      async function convertToInteractive(key) {\n",
              "        const element = document.querySelector('#df-7b59f0c2-72af-4a5f-a7b4-3739126fef7a');\n",
              "        const dataTable =\n",
              "          await google.colab.kernel.invokeFunction('convertToInteractive',\n",
              "                                                    [key], {});\n",
              "        if (!dataTable) return;\n",
              "\n",
              "        const docLinkHtml = 'Like what you see? Visit the ' +\n",
              "          '<a target=\"_blank\" href=https://colab.research.google.com/notebooks/data_table.ipynb>data table notebook</a>'\n",
              "          + ' to learn more about interactive tables.';\n",
              "        element.innerHTML = '';\n",
              "        dataTable['output_type'] = 'display_data';\n",
              "        await google.colab.output.renderOutput(dataTable, element);\n",
              "        const docLink = document.createElement('div');\n",
              "        docLink.innerHTML = docLinkHtml;\n",
              "        element.appendChild(docLink);\n",
              "      }\n",
              "    </script>\n",
              "  </div>\n",
              "\n",
              "\n",
              "<div id=\"df-85ea280c-1854-4ca8-b1fd-225e37a4ce75\">\n",
              "  <button class=\"colab-df-quickchart\" onclick=\"quickchart('df-85ea280c-1854-4ca8-b1fd-225e37a4ce75')\"\n",
              "            title=\"Suggest charts\"\n",
              "            style=\"display:none;\">\n",
              "\n",
              "<svg xmlns=\"http://www.w3.org/2000/svg\" height=\"24px\"viewBox=\"0 0 24 24\"\n",
              "     width=\"24px\">\n",
              "    <g>\n",
              "        <path d=\"M19 3H5c-1.1 0-2 .9-2 2v14c0 1.1.9 2 2 2h14c1.1 0 2-.9 2-2V5c0-1.1-.9-2-2-2zM9 17H7v-7h2v7zm4 0h-2V7h2v10zm4 0h-2v-4h2v4z\"/>\n",
              "    </g>\n",
              "</svg>\n",
              "  </button>\n",
              "\n",
              "<style>\n",
              "  .colab-df-quickchart {\n",
              "      --bg-color: #E8F0FE;\n",
              "      --fill-color: #1967D2;\n",
              "      --hover-bg-color: #E2EBFA;\n",
              "      --hover-fill-color: #174EA6;\n",
              "      --disabled-fill-color: #AAA;\n",
              "      --disabled-bg-color: #DDD;\n",
              "  }\n",
              "\n",
              "  [theme=dark] .colab-df-quickchart {\n",
              "      --bg-color: #3B4455;\n",
              "      --fill-color: #D2E3FC;\n",
              "      --hover-bg-color: #434B5C;\n",
              "      --hover-fill-color: #FFFFFF;\n",
              "      --disabled-bg-color: #3B4455;\n",
              "      --disabled-fill-color: #666;\n",
              "  }\n",
              "\n",
              "  .colab-df-quickchart {\n",
              "    background-color: var(--bg-color);\n",
              "    border: none;\n",
              "    border-radius: 50%;\n",
              "    cursor: pointer;\n",
              "    display: none;\n",
              "    fill: var(--fill-color);\n",
              "    height: 32px;\n",
              "    padding: 0;\n",
              "    width: 32px;\n",
              "  }\n",
              "\n",
              "  .colab-df-quickchart:hover {\n",
              "    background-color: var(--hover-bg-color);\n",
              "    box-shadow: 0 1px 2px rgba(60, 64, 67, 0.3), 0 1px 3px 1px rgba(60, 64, 67, 0.15);\n",
              "    fill: var(--button-hover-fill-color);\n",
              "  }\n",
              "\n",
              "  .colab-df-quickchart-complete:disabled,\n",
              "  .colab-df-quickchart-complete:disabled:hover {\n",
              "    background-color: var(--disabled-bg-color);\n",
              "    fill: var(--disabled-fill-color);\n",
              "    box-shadow: none;\n",
              "  }\n",
              "\n",
              "  .colab-df-spinner {\n",
              "    border: 2px solid var(--fill-color);\n",
              "    border-color: transparent;\n",
              "    border-bottom-color: var(--fill-color);\n",
              "    animation:\n",
              "      spin 1s steps(1) infinite;\n",
              "  }\n",
              "\n",
              "  @keyframes spin {\n",
              "    0% {\n",
              "      border-color: transparent;\n",
              "      border-bottom-color: var(--fill-color);\n",
              "      border-left-color: var(--fill-color);\n",
              "    }\n",
              "    20% {\n",
              "      border-color: transparent;\n",
              "      border-left-color: var(--fill-color);\n",
              "      border-top-color: var(--fill-color);\n",
              "    }\n",
              "    30% {\n",
              "      border-color: transparent;\n",
              "      border-left-color: var(--fill-color);\n",
              "      border-top-color: var(--fill-color);\n",
              "      border-right-color: var(--fill-color);\n",
              "    }\n",
              "    40% {\n",
              "      border-color: transparent;\n",
              "      border-right-color: var(--fill-color);\n",
              "      border-top-color: var(--fill-color);\n",
              "    }\n",
              "    60% {\n",
              "      border-color: transparent;\n",
              "      border-right-color: var(--fill-color);\n",
              "    }\n",
              "    80% {\n",
              "      border-color: transparent;\n",
              "      border-right-color: var(--fill-color);\n",
              "      border-bottom-color: var(--fill-color);\n",
              "    }\n",
              "    90% {\n",
              "      border-color: transparent;\n",
              "      border-bottom-color: var(--fill-color);\n",
              "    }\n",
              "  }\n",
              "</style>\n",
              "\n",
              "  <script>\n",
              "    async function quickchart(key) {\n",
              "      const quickchartButtonEl =\n",
              "        document.querySelector('#' + key + ' button');\n",
              "      quickchartButtonEl.disabled = true;  // To prevent multiple clicks.\n",
              "      quickchartButtonEl.classList.add('colab-df-spinner');\n",
              "      try {\n",
              "        const charts = await google.colab.kernel.invokeFunction(\n",
              "            'suggestCharts', [key], {});\n",
              "      } catch (error) {\n",
              "        console.error('Error during call to suggestCharts:', error);\n",
              "      }\n",
              "      quickchartButtonEl.classList.remove('colab-df-spinner');\n",
              "      quickchartButtonEl.classList.add('colab-df-quickchart-complete');\n",
              "    }\n",
              "    (() => {\n",
              "      let quickchartButtonEl =\n",
              "        document.querySelector('#df-85ea280c-1854-4ca8-b1fd-225e37a4ce75 button');\n",
              "      quickchartButtonEl.style.display =\n",
              "        google.colab.kernel.accessAllowed ? 'block' : 'none';\n",
              "    })();\n",
              "  </script>\n",
              "</div>\n",
              "    </div>\n",
              "  </div>\n"
            ],
            "application/vnd.google.colaboratory.intrinsic+json": {
              "type": "dataframe",
              "summary": "{\n  \"name\": \"display(df[['tweet_text', 'cleaned_tweet']]\",\n  \"rows\": 5,\n  \"fields\": [\n    {\n      \"column\": \"tweet_text\",\n      \"properties\": {\n        \"dtype\": \"string\",\n        \"samples\": [\n          \"Ughhh layin downnnn    Waiting for zeina to cook breakfast\",\n          \"very sad that http://www.fabchannel.com/ has closed down. One of the few web services that I've used for over 5 years \",\n          \"@greeniebach I reckon he'll play, even if he's not 100%...but i know nothing!! ;) It won't be the same without him. \"\n        ],\n        \"num_unique_values\": 5,\n        \"semantic_type\": \"\",\n        \"description\": \"\"\n      }\n    },\n    {\n      \"column\": \"cleaned_tweet\",\n      \"properties\": {\n        \"dtype\": \"string\",\n        \"samples\": [\n          \"Ughhh layin downnnn Waiting for zeina to cook breakfast\",\n          \"very sad that has closed down One of the few web services that I ve used for over 5 years\",\n          \"I reckon he ll play even if he s not 100 but i know nothing It won t be the same without him\"\n        ],\n        \"num_unique_values\": 5,\n        \"semantic_type\": \"\",\n        \"description\": \"\"\n      }\n    }\n  ]\n}"
            }
          },
          "metadata": {}
        }
      ],
      "source": [
        "import re\n",
        "\n",
        "# Function to clean tweets\n",
        "def clean_tweet(tweet):\n",
        "    # Remove mentions (@username)\n",
        "    tweet = re.sub(r'@[\\w]+', '', tweet)\n",
        "\n",
        "    # Remove links (http/https)\n",
        "    tweet = re.sub(r'http\\S+', '', tweet)\n",
        "\n",
        "    # Remove special characters\n",
        "    tweet = re.sub(r'[^A-Za-z0-9]+', ' ', tweet)\n",
        "\n",
        "    # Remove extra spaces\n",
        "    tweet = ' '.join(tweet.split())\n",
        "\n",
        "    return tweet\n",
        "\n",
        "# Apply the clean_tweet function to the 'tweet_text' column\n",
        "df['cleaned_tweet'] = df['tweet_text'].apply(clean_tweet)\n",
        "\n",
        "# Display the first few rows with cleaned tweets\n",
        "display(df[['tweet_text', 'cleaned_tweet']].head())\n"
      ]
    },
    {
      "cell_type": "code",
      "execution_count": 9,
      "id": "18354ba4-a7b4-41d3-a90f-c674029a97e9",
      "metadata": {
        "tags": [],
        "id": "18354ba4-a7b4-41d3-a90f-c674029a97e9",
        "outputId": "f6c828c5-7d35-4675-ca13-3fd8625a5d4e",
        "colab": {
          "base_uri": "https://localhost:8080/"
        }
      },
      "outputs": [
        {
          "output_type": "stream",
          "name": "stdout",
          "text": [
            "Summary of Null or Empty Cleaned Tweets:\n",
            "<class 'pandas.core.frame.DataFrame'>\n",
            "Int64Index: 330 entries, 183 to 159158\n",
            "Data columns (total 4 columns):\n",
            " #   Column           Non-Null Count  Dtype \n",
            "---  ------           --------------  ----- \n",
            " 0   sentiment_label  330 non-null    int64 \n",
            " 1   tweet_text       330 non-null    object\n",
            " 2   text_length      330 non-null    int64 \n",
            " 3   cleaned_tweet    330 non-null    object\n",
            "dtypes: int64(2), object(2)\n",
            "memory usage: 12.9+ KB\n",
            "None\n"
          ]
        }
      ],
      "source": [
        "# Check for null or empty content in the 'cleaned_tweet' column\n",
        "null_cleaned_tweets = df[df['cleaned_tweet'].isnull() | (df['cleaned_tweet'] == '')]\n",
        "\n",
        "# Display summary information about the rows with null or empty cleaned tweets\n",
        "print(\"Summary of Null or Empty Cleaned Tweets:\")\n",
        "print(null_cleaned_tweets.info())\n"
      ]
    },
    {
      "cell_type": "code",
      "execution_count": 10,
      "id": "9fe96b88-12a6-4f61-8b0f-9a3e9a0bf31a",
      "metadata": {
        "tags": [],
        "id": "9fe96b88-12a6-4f61-8b0f-9a3e9a0bf31a",
        "outputId": "70d1e108-92f9-42d7-cf9f-4f9bd3a94576",
        "colab": {
          "base_uri": "https://localhost:8080/"
        }
      },
      "outputs": [
        {
          "output_type": "stream",
          "name": "stdout",
          "text": [
            "Null values: \n",
            "\n",
            "sentiment_label    0\n",
            "tweet_text         0\n",
            "text_length        0\n",
            "cleaned_tweet      0\n",
            "dtype: int64\n"
          ]
        }
      ],
      "source": [
        "print(f\"Null values: \\n\\n{df.isna().sum()}\")\n"
      ]
    },
    {
      "cell_type": "code",
      "source": [
        "from tensorflow.keras.preprocessing.text import Tokenizer\n",
        "\n",
        "# Assuming 'cleaned_tweet' is the column containing your tokenized sequences\n",
        "tokenized_sequences = df['cleaned_tweet']\n",
        "\n",
        "# Create a tokenizer and fit on the tokenized sequences\n",
        "tokenizer = Tokenizer()\n",
        "tokenizer.fit_on_texts(tokenized_sequences)\n",
        "\n",
        "# Convert text data to sequences of integers\n",
        "sequences = tokenizer.texts_to_sequences(tokenized_sequences)\n",
        "\n",
        "# Print the first few sequences\n",
        "print(\"Sample Sequences:\", sequences[:5])\n"
      ],
      "metadata": {
        "id": "V7FnF-zwU0Rt",
        "outputId": "e419107f-df98-46d9-d6eb-f29243d35f88",
        "colab": {
          "base_uri": "https://localhost:8080/"
        }
      },
      "id": "V7FnF-zwU0Rt",
      "execution_count": 11,
      "outputs": [
        {
          "output_type": "stream",
          "name": "stdout",
          "text": [
            "Sample Sequences: [[150, 636, 120, 322, 2, 8, 206, 66, 45, 1748, 12, 2193, 10, 358], [2194, 3973, 20681, 298, 10, 29220, 2, 1155, 523], [1, 3715, 87, 80, 305, 156, 71, 87, 12, 26, 577, 21, 1, 58, 263, 7, 203, 14, 24, 3, 262, 380, 147], [1, 58, 274, 7, 15, 3, 459], [123, 113, 16, 104, 961, 158, 57, 13, 3, 310, 1019, 3785, 16, 1, 124, 475, 10, 135, 235, 477]]\n"
          ]
        }
      ]
    },
    {
      "cell_type": "code",
      "execution_count": 12,
      "id": "e2400fde-1d2f-4dd7-901b-4f0b507c494e",
      "metadata": {
        "tags": [],
        "id": "e2400fde-1d2f-4dd7-901b-4f0b507c494e",
        "outputId": "1cac7eac-2e67-4f5b-c761-d60d7537b7b9",
        "colab": {
          "base_uri": "https://localhost:8080/"
        }
      },
      "outputs": [
        {
          "output_type": "stream",
          "name": "stdout",
          "text": [
            "Shape of X_train: 128000\n",
            "Shape of X_test: 32000\n",
            "Shape of y_train: 128000\n",
            "Shape of y_test: 32000\n"
          ]
        }
      ],
      "source": [
        "from sklearn.model_selection import train_test_split\n",
        "\n",
        "# Assuming 'sequences' is your list of sequences and 'sentiment_label' is your target\n",
        "X = sequences\n",
        "y = df['sentiment_label']  # Use the correct target column\n",
        "\n",
        "# Split the data into training and test sets (80% training, 20% test)\n",
        "X_train, X_test, y_train, y_test = train_test_split(X, y, test_size=0.2, random_state=42)\n",
        "\n",
        "# Display the shapes of the resulting sets\n",
        "print(\"Shape of X_train:\", len(X_train))\n",
        "print(\"Shape of X_test:\", len(X_test))\n",
        "print(\"Shape of y_train:\", len(y_train))\n",
        "print(\"Shape of y_test:\", len(y_test))\n"
      ]
    },
    {
      "cell_type": "markdown",
      "id": "d2c97b43-6949-4b19-ac3b-2d9af1d90c13",
      "metadata": {
        "tags": [],
        "id": "d2c97b43-6949-4b19-ac3b-2d9af1d90c13"
      },
      "source": [
        "### Tokienization"
      ]
    },
    {
      "cell_type": "code",
      "execution_count": 13,
      "id": "df2366aa-9839-4f3d-b14b-718b43650759",
      "metadata": {
        "tags": [],
        "id": "df2366aa-9839-4f3d-b14b-718b43650759",
        "outputId": "35277dec-70aa-4b25-ee5b-fedfc1db36b0",
        "colab": {
          "base_uri": "https://localhost:8080/"
        }
      },
      "outputs": [
        {
          "output_type": "stream",
          "name": "stdout",
          "text": [
            "Word index length: 70393\n",
            "Some words: ['i', 'to', 'the', 'a', 'my', 'and', 'it', 'you', 'is', 'for']\n"
          ]
        }
      ],
      "source": [
        "\n",
        "\n",
        "# Assuming 'cleaned_tweet' is the column containing your tokenized sequences\n",
        "tokenized_sequences = df['cleaned_tweet']\n",
        "\n",
        "# Create a tokenizer and fit on the tokenized sequences\n",
        "tokenizer = Tokenizer()\n",
        "tokenizer.fit_on_texts(tokenized_sequences)\n",
        "\n",
        "# Print the length of the word index\n",
        "print(f\"Word index length: {len(tokenizer.word_index)}\")\n",
        "\n",
        "# Print some words from the word index\n",
        "some_words = list(tokenizer.word_index.keys())[:10]\n",
        "print(f\"Some words: {some_words}\")\n"
      ]
    },
    {
      "cell_type": "code",
      "execution_count": 13,
      "id": "210b32c2-9219-428a-a9ba-cc3dcceb95a2",
      "metadata": {
        "tags": [],
        "id": "210b32c2-9219-428a-a9ba-cc3dcceb95a2"
      },
      "outputs": [],
      "source": []
    },
    {
      "cell_type": "code",
      "execution_count": 14,
      "id": "7dca7f68-0bcb-4e2b-ba6f-5a69124bb6d8",
      "metadata": {
        "tags": [],
        "id": "7dca7f68-0bcb-4e2b-ba6f-5a69124bb6d8",
        "outputId": "b4fef9df-4a13-4eb8-e522-ce5b43f405f2",
        "colab": {
          "base_uri": "https://localhost:8080/"
        }
      },
      "outputs": [
        {
          "output_type": "stream",
          "name": "stdout",
          "text": [
            "Maximum Token Length: 169\n"
          ]
        }
      ],
      "source": [
        "# Assuming 'cleaned_tweet' is the column containing your tokenized sequences\n",
        "tokenized_sequences = df['cleaned_tweet']\n",
        "\n",
        "# Calculate the length of each tokenized sequence and find the maximum\n",
        "max_token_length = max(len(sequence) for sequence in tokenized_sequences)\n",
        "\n",
        "# Display the result\n",
        "print(f\"Maximum Token Length: {max_token_length}\")\n"
      ]
    },
    {
      "cell_type": "code",
      "execution_count": 15,
      "id": "912349b3-0e36-421b-9870-a3dd3d553758",
      "metadata": {
        "tags": [],
        "id": "912349b3-0e36-421b-9870-a3dd3d553758",
        "outputId": "862f6637-90e8-4746-906c-85b6e2c9470f",
        "colab": {
          "base_uri": "https://localhost:8080/"
        }
      },
      "outputs": [
        {
          "output_type": "stream",
          "name": "stdout",
          "text": [
            "Maximum Token Length: 46\n"
          ]
        }
      ],
      "source": [
        "# Assuming 'cleaned_tweet' is the column containing your tokenized sequences as strings\n",
        "tokenized_sequences = df['cleaned_tweet']\n",
        "\n",
        "# Split each string into tokens and calculate the maximum token length\n",
        "max_token_length = max(len(sequence.split()) for sequence in tokenized_sequences)\n",
        "\n",
        "# Display the result\n",
        "print(f\"Maximum Token Length: {max_token_length}\")\n"
      ]
    },
    {
      "cell_type": "code",
      "execution_count": 16,
      "id": "d6d5eab1-9799-4e6e-bdb0-22e430c23467",
      "metadata": {
        "tags": [],
        "id": "d6d5eab1-9799-4e6e-bdb0-22e430c23467",
        "outputId": "8b4401f0-9327-4fd2-abcd-7f7699fa709a",
        "colab": {
          "base_uri": "https://localhost:8080/"
        }
      },
      "outputs": [
        {
          "output_type": "stream",
          "name": "stdout",
          "text": [
            "Original Texts:\n",
            "0    Hey dear Happy Friday to You Already had your ...\n",
            "1    Ughhh layin downnnn Waiting for zeina to cook ...\n",
            "2    I reckon he ll play even if he s not 100 but i...\n",
            "3                            I know Saw it on the news\n",
            "4    very sad that has closed down One of the few w...\n",
            "Name: cleaned_tweet, dtype: object\n",
            "\n",
            "Sequences:\n",
            "[[150, 636, 120, 322, 2, 8, 206, 66, 45, 1748, 12, 2193, 10, 358], [2194, 3973, 20681, 298, 10, 29220, 2, 1155, 523], [1, 3715, 87, 80, 305, 156, 71, 87, 12, 26, 577, 21, 1, 58, 263, 7, 203, 14, 24, 3, 262, 380, 147], [1, 58, 274, 7, 15, 3, 459], [123, 113, 16, 104, 961, 158, 57, 13, 3, 310, 1019, 3785, 16, 1, 124, 475, 10, 135, 235, 477]]\n"
          ]
        }
      ],
      "source": [
        "from tensorflow.keras.preprocessing.text import Tokenizer\n",
        "\n",
        "# Assuming 'cleaned_tweet' is the column containing your text data\n",
        "texts = df['cleaned_tweet']\n",
        "\n",
        "# Create a tokenizer and fit on the text data\n",
        "tokenizer = Tokenizer()\n",
        "tokenizer.fit_on_texts(texts)\n",
        "\n",
        "# Convert texts to sequences of integers\n",
        "sequences = tokenizer.texts_to_sequences(texts)\n",
        "\n",
        "# Display the first few sequences\n",
        "print(\"Original Texts:\")\n",
        "print(texts.head())\n",
        "print(\"\\nSequences:\")\n",
        "print(sequences[:5])\n"
      ]
    },
    {
      "cell_type": "markdown",
      "id": "0fb09529-6eab-4b2c-b9dc-874a1a1bbfcf",
      "metadata": {
        "id": "0fb09529-6eab-4b2c-b9dc-874a1a1bbfcf"
      },
      "source": [
        "### NEural network"
      ]
    },
    {
      "cell_type": "code",
      "execution_count": 17,
      "id": "ce80d5c9-aa1d-4d40-9d63-7d71c34c5ceb",
      "metadata": {
        "tags": [],
        "id": "ce80d5c9-aa1d-4d40-9d63-7d71c34c5ceb"
      },
      "outputs": [],
      "source": [
        "import numpy as np\n",
        "import tensorflow as tf\n",
        "from tensorflow.keras.models import Sequential\n",
        "from tensorflow.keras.layers import Embedding, Flatten, Dense\n",
        "from zipfile import ZipFile\n",
        "import urllib.request\n",
        "import os\n",
        "\n",
        "# Assuming 'X_train', 'X_test', 'y_train', 'y_test' are defined from the previous steps\n",
        "# and 'tokenizer' is your Tokenizer instance\n",
        "\n",
        "# Pad sequences to make them of equal length\n",
        "max_sequence_length = max(len(sequence) for sequence in X_train)\n",
        "X_train_padded = tf.keras.preprocessing.sequence.pad_sequences(X_train, maxlen=max_sequence_length)\n",
        "X_test_padded = tf.keras.preprocessing.sequence.pad_sequences(X_test, maxlen=max_sequence_length)\n",
        "\n",
        "# Define the URL of the GloVe Twitter embeddings ZIP file\n",
        "glove_url = 'https://huggingface.co/stanfordnlp/glove/resolve/main/glove.twitter.27B.zip'\n",
        "\n",
        "# Create a directory to store the downloaded and extracted files\n",
        "download_dir = 'glove_twitter'\n",
        "os.makedirs(download_dir, exist_ok=True)\n",
        "\n",
        "# Download the GloVe Twitter embeddings ZIP file\n",
        "zip_file_path = os.path.join(download_dir, 'glove.twitter.27B.zip')\n",
        "urllib.request.urlretrieve(glove_url, zip_file_path)\n",
        "\n",
        "# Extract the contents of the ZIP file\n",
        "with ZipFile(zip_file_path, 'r') as zip_ref:\n",
        "    zip_ref.extractall(download_dir)\n",
        "\n",
        "# Provide the path to the extracted GloVe Twitter file\n",
        "glove_embeddings_path = os.path.join(download_dir, 'glove.twitter.27B.200d.txt')\n",
        "\n",
        "# Load the pre-trained GloVe Twitter embeddings\n",
        "embeddings_index = {}\n",
        "with open(glove_embeddings_path, 'r', encoding='utf-8') as file:\n",
        "    for line in file:\n",
        "        values = line.split()\n",
        "        word = values[0]\n",
        "        coefs = np.asarray(values[1:], dtype='float32')\n",
        "        embeddings_index[word] = coefs\n",
        "\n",
        "# Continue with the rest of your code"
      ]
    },
    {
      "cell_type": "code",
      "execution_count": 17,
      "id": "c6dea933-8c0a-46f1-b2f6-ee6bdb9b2f78",
      "metadata": {
        "id": "c6dea933-8c0a-46f1-b2f6-ee6bdb9b2f78"
      },
      "outputs": [],
      "source": []
    },
    {
      "cell_type": "code",
      "execution_count": 18,
      "id": "41eddee2-73d3-4af4-8540-afe8bd5bfa48",
      "metadata": {
        "tags": [],
        "id": "41eddee2-73d3-4af4-8540-afe8bd5bfa48",
        "outputId": "4514fb23-353d-4e7d-8c59-146c84b3e530",
        "colab": {
          "base_uri": "https://localhost:8080/"
        }
      },
      "outputs": [
        {
          "output_type": "stream",
          "name": "stdout",
          "text": [
            "Epoch 1/5\n",
            "4000/4000 [==============================] - 19s 4ms/step - loss: 0.5102 - accuracy: 0.7458 - val_loss: 0.4915 - val_accuracy: 0.7572\n",
            "Epoch 2/5\n",
            "4000/4000 [==============================] - 22s 5ms/step - loss: 0.4578 - accuracy: 0.7805 - val_loss: 0.4872 - val_accuracy: 0.7609\n",
            "Epoch 3/5\n",
            "4000/4000 [==============================] - 17s 4ms/step - loss: 0.4145 - accuracy: 0.8070 - val_loss: 0.5066 - val_accuracy: 0.7552\n",
            "Epoch 4/5\n",
            "4000/4000 [==============================] - 15s 4ms/step - loss: 0.3669 - accuracy: 0.8342 - val_loss: 0.5421 - val_accuracy: 0.7525\n",
            "Epoch 5/5\n",
            "4000/4000 [==============================] - 17s 4ms/step - loss: 0.3234 - accuracy: 0.8567 - val_loss: 0.5851 - val_accuracy: 0.7473\n"
          ]
        }
      ],
      "source": [
        "# Create an embedding matrix using GloVe embeddings\n",
        "embedding_dim = len(embeddings_index.get('a'))  # Dimensionality of the GloVe embeddings\n",
        "num_words = len(tokenizer.word_index) + 1\n",
        "embedding_matrix = np.zeros((num_words, embedding_dim))\n",
        "for word, i in tokenizer.word_index.items():\n",
        "    embedding_vector = embeddings_index.get(word)\n",
        "    if embedding_vector is not None:\n",
        "        embedding_matrix[i] = embedding_vector\n",
        "\n",
        "# Create a simple neural network model with GloVe embeddings\n",
        "model = Sequential([\n",
        "    Embedding(input_dim=num_words, output_dim=embedding_dim, weights=[embedding_matrix], input_length=max_sequence_length, trainable=False),\n",
        "    Flatten(),\n",
        "    Dense(32, activation='relu'),\n",
        "    Dense(1, activation='sigmoid')\n",
        "])\n",
        "\n",
        "# Compile the model\n",
        "model.compile(optimizer='adam', loss='binary_crossentropy', metrics=['accuracy'])\n",
        "\n",
        "# Train the model and get the training history\n",
        "history = model.fit(X_train_padded, y_train, epochs=5, validation_data=(X_test_padded, y_test))\n"
      ]
    },
    {
      "cell_type": "code",
      "execution_count": 19,
      "id": "07c8d806-9f21-4235-a14d-d3575c4623bd",
      "metadata": {
        "tags": [],
        "id": "07c8d806-9f21-4235-a14d-d3575c4623bd",
        "outputId": "e9283e49-bd4a-49cc-827b-ca9ab1e05694",
        "colab": {
          "base_uri": "https://localhost:8080/"
        }
      },
      "outputs": [
        {
          "output_type": "stream",
          "name": "stdout",
          "text": [
            "Model: \"sequential\"\n",
            "_________________________________________________________________\n",
            " Layer (type)                Output Shape              Param #   \n",
            "=================================================================\n",
            " embedding (Embedding)       (None, 46, 200)           14078800  \n",
            "                                                                 \n",
            " flatten (Flatten)           (None, 9200)              0         \n",
            "                                                                 \n",
            " dense (Dense)               (None, 32)                294432    \n",
            "                                                                 \n",
            " dense_1 (Dense)             (None, 1)                 33        \n",
            "                                                                 \n",
            "=================================================================\n",
            "Total params: 14373265 (54.83 MB)\n",
            "Trainable params: 294465 (1.12 MB)\n",
            "Non-trainable params: 14078800 (53.71 MB)\n",
            "_________________________________________________________________\n"
          ]
        }
      ],
      "source": [
        "model.summary()"
      ]
    },
    {
      "cell_type": "code",
      "execution_count": 20,
      "id": "a47f46bf-6cd6-4134-ae14-b22718846452",
      "metadata": {
        "tags": [],
        "id": "a47f46bf-6cd6-4134-ae14-b22718846452",
        "outputId": "44930fb8-0c96-4001-c447-e21b7630197a",
        "colab": {
          "base_uri": "https://localhost:8080/",
          "height": 449
        }
      },
      "outputs": [
        {
          "output_type": "display_data",
          "data": {
            "text/plain": [
              "<Figure size 640x480 with 1 Axes>"
            ],
            "image/png": "[encoded data removed]"
          },
          "metadata": {}
        }
      ],
      "source": [
        "# Plot the training loss\n",
        "plt.plot(history.history['loss'], label='Training Loss')\n",
        "plt.plot(history.history['val_loss'], label='Validation Loss')\n",
        "plt.xlabel('Epoch')\n",
        "plt.ylabel('Loss')\n",
        "plt.legend()\n",
        "plt.show()"
      ]
    },
    {
      "cell_type": "code",
      "execution_count": 20,
      "id": "262f8b89-30a2-474a-91a7-4427d730b4a6",
      "metadata": {
        "id": "262f8b89-30a2-474a-91a7-4427d730b4a6"
      },
      "outputs": [],
      "source": []
    },
    {
      "cell_type": "markdown",
      "id": "ba3da09c-46ee-453d-9a67-9a385c145d62",
      "metadata": {
        "id": "ba3da09c-46ee-453d-9a67-9a385c145d62"
      },
      "source": [
        "### Convolutional Neural Network (CNN):"
      ]
    },
    {
      "cell_type": "code",
      "execution_count": 21,
      "id": "586faa6e-ce94-4380-9927-52c6ecc592ec",
      "metadata": {
        "tags": [],
        "id": "586faa6e-ce94-4380-9927-52c6ecc592ec",
        "outputId": "5762c9e4-46e9-467a-979b-e8e49281e163",
        "colab": {
          "base_uri": "https://localhost:8080/"
        }
      },
      "outputs": [
        {
          "output_type": "stream",
          "name": "stdout",
          "text": [
            "Epoch 1/5\n",
            "4000/4000 [==============================] - 21s 5ms/step - loss: 0.4686 - accuracy: 0.7742 - val_loss: 0.4385 - val_accuracy: 0.7932\n",
            "Epoch 2/5\n",
            "4000/4000 [==============================] - 19s 5ms/step - loss: 0.4153 - accuracy: 0.8071 - val_loss: 0.4365 - val_accuracy: 0.7941\n",
            "Epoch 3/5\n",
            "4000/4000 [==============================] - 21s 5ms/step - loss: 0.3775 - accuracy: 0.8281 - val_loss: 0.4428 - val_accuracy: 0.7966\n",
            "Epoch 4/5\n",
            "4000/4000 [==============================] - 26s 6ms/step - loss: 0.3346 - accuracy: 0.8519 - val_loss: 0.4677 - val_accuracy: 0.7922\n",
            "Epoch 5/5\n",
            "4000/4000 [==============================] - 22s 5ms/step - loss: 0.2922 - accuracy: 0.8733 - val_loss: 0.5149 - val_accuracy: 0.7863\n",
            "1000/1000 [==============================] - 2s 2ms/step - loss: 0.5149 - accuracy: 0.7863\n",
            "Test Accuracy: 78.63%\n",
            "Test Loss: 0.5149\n"
          ]
        }
      ],
      "source": [
        "import numpy as np\n",
        "import tensorflow as tf\n",
        "from tensorflow.keras.models import Sequential\n",
        "from tensorflow.keras.layers import Embedding, Conv1D, GlobalMaxPooling1D, Dense\n",
        "\n",
        "# Create an embedding matrix using GloVe embeddings\n",
        "embedding_dim = len(embeddings_index.get('a'))  # Dimensionality of the GloVe embeddings\n",
        "num_words = len(tokenizer.word_index) + 1\n",
        "embedding_matrix = np.zeros((num_words, embedding_dim))\n",
        "for word, i in tokenizer.word_index.items():\n",
        "    embedding_vector = embeddings_index.get(word)\n",
        "    if embedding_vector is not None:\n",
        "        embedding_matrix[i] = embedding_vector\n",
        "\n",
        "# Create a simple CNN model with GloVe embeddings\n",
        "model = Sequential([\n",
        "    Embedding(input_dim=num_words, output_dim=embedding_dim, weights=[embedding_matrix], input_length=max_sequence_length, trainable=False),\n",
        "    Conv1D(128, 5, activation='relu'),\n",
        "    GlobalMaxPooling1D(),\n",
        "    Dense(32, activation='relu'),\n",
        "    Dense(1, activation='sigmoid')\n",
        "])\n",
        "\n",
        "# Compile the model\n",
        "model.compile(optimizer='adam', loss='binary_crossentropy', metrics=['accuracy'])\n",
        "\n",
        "# Train the model and store the history\n",
        "history = model.fit(X_train_padded, y_train, epochs=5, validation_data=(X_test_padded, y_test))\n",
        "\n",
        "# Evaluate the model on the test set\n",
        "test_loss, test_accuracy = model.evaluate(X_test_padded, y_test)\n",
        "print(f'Test Accuracy: {test_accuracy * 100:.2f}%')\n",
        "print(f'Test Loss: {test_loss:.4f}')\n"
      ]
    },
    {
      "cell_type": "code",
      "execution_count": 22,
      "id": "c7b0f10e-34b5-4a51-b74c-b6c6495e1dfe",
      "metadata": {
        "tags": [],
        "id": "c7b0f10e-34b5-4a51-b74c-b6c6495e1dfe",
        "outputId": "917058cc-1874-4675-9408-f1ff15c54a11",
        "colab": {
          "base_uri": "https://localhost:8080/"
        }
      },
      "outputs": [
        {
          "output_type": "stream",
          "name": "stdout",
          "text": [
            "Model: \"sequential_1\"\n",
            "_________________________________________________________________\n",
            " Layer (type)                Output Shape              Param #   \n",
            "=================================================================\n",
            " embedding_1 (Embedding)     (None, 46, 200)           14078800  \n",
            "                                                                 \n",
            " conv1d (Conv1D)             (None, 42, 128)           128128    \n",
            "                                                                 \n",
            " global_max_pooling1d (Glob  (None, 128)               0         \n",
            " alMaxPooling1D)                                                 \n",
            "                                                                 \n",
            " dense_2 (Dense)             (None, 32)                4128      \n",
            "                                                                 \n",
            " dense_3 (Dense)             (None, 1)                 33        \n",
            "                                                                 \n",
            "=================================================================\n",
            "Total params: 14211089 (54.21 MB)\n",
            "Trainable params: 132289 (516.75 KB)\n",
            "Non-trainable params: 14078800 (53.71 MB)\n",
            "_________________________________________________________________\n"
          ]
        }
      ],
      "source": [
        "model.summary()\n"
      ]
    },
    {
      "cell_type": "code",
      "execution_count": 23,
      "id": "625e44cc-e715-4191-93f3-6312357a8f4d",
      "metadata": {
        "tags": [],
        "id": "625e44cc-e715-4191-93f3-6312357a8f4d",
        "outputId": "710f36a2-23a0-4caa-b868-e00b3b58e71d",
        "colab": {
          "base_uri": "https://localhost:8080/",
          "height": 472
        }
      },
      "outputs": [
        {
          "output_type": "display_data",
          "data": {
            "text/plain": [
              "<Figure size 640x480 with 1 Axes>"
            ],
            "image/png": "[encoded data removed]"
          },
          "metadata": {}
        }
      ],
      "source": [
        "import matplotlib.pyplot as plt\n",
        "\n",
        "# Plot training and validation loss\n",
        "plt.plot(history.history['loss'], label='Training Loss')\n",
        "plt.plot(history.history['val_loss'], label='Validation Loss')\n",
        "plt.title('Training and Validation Loss')\n",
        "plt.xlabel('Epoch')\n",
        "plt.ylabel('Loss')\n",
        "plt.legend()\n",
        "plt.show()\n"
      ]
    },
    {
      "cell_type": "code",
      "execution_count": 24,
      "id": "22707317-083d-46a9-9d2c-3f26668e5803",
      "metadata": {
        "tags": [],
        "id": "22707317-083d-46a9-9d2c-3f26668e5803",
        "outputId": "662a70be-465e-4023-9344-8244064160a7",
        "colab": {
          "base_uri": "https://localhost:8080/",
          "height": 472
        }
      },
      "outputs": [
        {
          "output_type": "display_data",
          "data": {
            "text/plain": [
              "<Figure size 640x480 with 1 Axes>"
            ],
            "image/png": "[encoded data removed]"
          },
          "metadata": {}
        }
      ],
      "source": [
        "import matplotlib.pyplot as plt\n",
        "\n",
        "# Assuming 'history' contains the training history\n",
        "accuracy = history.history['accuracy']\n",
        "val_accuracy = history.history['val_accuracy']\n",
        "\n",
        "epochs = range(1, len(accuracy) + 1)\n",
        "\n",
        "plt.plot(epochs, accuracy, 'bo', label='Training accuracy')\n",
        "plt.plot(epochs, val_accuracy, 'b', label='Validation accuracy')\n",
        "plt.title('Training and validation accuracy')\n",
        "plt.xlabel('Epochs')\n",
        "plt.ylabel('Accuracy')\n",
        "plt.legend()\n",
        "\n",
        "plt.show()\n"
      ]
    },
    {
      "cell_type": "markdown",
      "id": "d76d78d8-c4c5-4053-b791-c26048629c3f",
      "metadata": {
        "id": "d76d78d8-c4c5-4053-b791-c26048629c3f"
      },
      "source": [
        "### RNN"
      ]
    },
    {
      "cell_type": "code",
      "execution_count": 25,
      "id": "b1e9365a-6323-41bb-99f8-a279966c50b7",
      "metadata": {
        "tags": [],
        "id": "b1e9365a-6323-41bb-99f8-a279966c50b7"
      },
      "outputs": [],
      "source": [
        "from tensorflow.keras.preprocessing.sequence import pad_sequences\n",
        "\n",
        "# Pad sequences to a maximum length\n",
        "max_length = max(len(seq) for seq in sequences)\n",
        "padded_sequences = pad_sequences(sequences, maxlen=max_length, padding='post')\n"
      ]
    },
    {
      "cell_type": "code",
      "execution_count": 26,
      "id": "74e2e94c-46b7-4fcd-8c7a-ec90a1f48e9c",
      "metadata": {
        "tags": [],
        "id": "74e2e94c-46b7-4fcd-8c7a-ec90a1f48e9c"
      },
      "outputs": [],
      "source": [
        "from tensorflow.keras.models import Sequential\n",
        "from tensorflow.keras.layers import Embedding, SimpleRNN, Dense\n",
        "\n",
        "# Build the RNN model\n",
        "model = Sequential()\n",
        "model.add(Embedding(input_dim=len(tokenizer.word_index) + 1, output_dim=embedding_dim, input_length=max_length))\n",
        "model.add(SimpleRNN(units=64, activation='relu'))\n",
        "model.add(Dense(units=1, activation='sigmoid'))\n",
        "\n",
        "# Compile the model\n",
        "model.compile(optimizer='adam', loss='binary_crossentropy', metrics=['accuracy'])\n"
      ]
    },
    {
      "cell_type": "code",
      "execution_count": 27,
      "id": "704438c9-c613-4b48-8330-44aa8f196c8c",
      "metadata": {
        "tags": [],
        "id": "704438c9-c613-4b48-8330-44aa8f196c8c",
        "outputId": "d425c225-8431-420d-ca17-0cba99d43801",
        "colab": {
          "base_uri": "https://localhost:8080/"
        }
      },
      "outputs": [
        {
          "output_type": "stream",
          "name": "stdout",
          "text": [
            "Epoch 1/5\n",
            "4000/4000 [==============================] - 253s 63ms/step - loss: 0.4780 - accuracy: 0.7720 - val_loss: 0.4563 - val_accuracy: 0.7873\n",
            "Epoch 2/5\n",
            "4000/4000 [==============================] - 227s 57ms/step - loss: 0.3639 - accuracy: 0.8388 - val_loss: 0.4574 - val_accuracy: 0.7885\n",
            "Epoch 3/5\n",
            "4000/4000 [==============================] - 231s 58ms/step - loss: 0.2799 - accuracy: 0.8811 - val_loss: 0.4834 - val_accuracy: 0.7846\n",
            "Epoch 4/5\n",
            "4000/4000 [==============================] - 230s 57ms/step - loss: 0.2198 - accuracy: 0.9095 - val_loss: 0.5316 - val_accuracy: 0.7787\n",
            "Epoch 5/5\n",
            "4000/4000 [==============================] - 222s 56ms/step - loss: 0.1782 - accuracy: 0.9273 - val_loss: 0.6307 - val_accuracy: 0.7779\n"
          ]
        }
      ],
      "source": [
        "epochs = 5  # Replace 10 with your desired number of training epochs\n",
        "history = model.fit(X_train_padded, y_train, epochs=epochs, validation_data=(X_test_padded, y_test))\n"
      ]
    },
    {
      "cell_type": "code",
      "execution_count": 27,
      "id": "3ec85fca-04aa-468c-9316-24a3f1e42b32",
      "metadata": {
        "id": "3ec85fca-04aa-468c-9316-24a3f1e42b32"
      },
      "outputs": [],
      "source": []
    },
    {
      "cell_type": "code",
      "execution_count": 28,
      "id": "50734136-56a4-4992-ba7f-8f687d4856ec",
      "metadata": {
        "id": "50734136-56a4-4992-ba7f-8f687d4856ec",
        "outputId": "4a2a24dd-fa43-4b14-cc0a-20153fbe9d95",
        "colab": {
          "base_uri": "https://localhost:8080/"
        }
      },
      "outputs": [
        {
          "output_type": "stream",
          "name": "stdout",
          "text": [
            "1000/1000 [==============================] - 7s 7ms/step - loss: 0.6307 - accuracy: 0.7779\n",
            "Test Accuracy: 0.7779\n"
          ]
        }
      ],
      "source": [
        "test_loss, test_accuracy = model.evaluate(X_test_padded, y_test)\n",
        "print(f'Test Accuracy: {test_accuracy:.4f}')\n"
      ]
    }
  ],
  "metadata": {
    "kernelspec": {
      "display_name": "Python 3",
      "name": "python3"
    },
    "language_info": {
      "codemirror_mode": {
        "name": "ipython",
        "version": 3
      },
      "file_extension": ".py",
      "mimetype": "text/x-python",
      "name": "python",
      "nbconvert_exporter": "python",
      "pygments_lexer": "ipython3",
      "version": "3.11.4"
    },
    "colab": {
      "provenance": [],
      "gpuType": "T4",
      "include_colab_link": true
    },
    "accelerator": "GPU"
  },
  "nbformat": 4,
  "nbformat_minor": 5
}