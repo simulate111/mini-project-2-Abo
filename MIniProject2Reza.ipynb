{
  "cells": [
    {
      "cell_type": "markdown",
      "metadata": {
        "id": "view-in-github",
        "colab_type": "text"
      },
      "source": [
        "<a href=\"https://colab.research.google.com/github/simulate111/mini-project-2-Abo/blob/main/MIniProject2Reza.ipynb\" target=\"_parent\"><img src=\"https://colab.research.google.com/assets/colab-badge.svg\" alt=\"Open In Colab\"/></a>"
      ]
    },
    {
      "cell_type": "markdown",
      "source": [
        "Libraries"
      ],
      "metadata": {
        "id": "Lk9NblgWlijE"
      },
      "id": "Lk9NblgWlijE"
    },
    {
      "cell_type": "code",
      "source": [
        "import pandas as pd\n",
        "import matplotlib.pyplot as plt\n",
        "import re\n",
        "from tensorflow.keras.preprocessing.text import Tokenizer\n",
        "from sklearn.model_selection import train_test_split\n",
        "from tensorflow.keras.utils import plot_model\n",
        "import numpy as np\n",
        "import tensorflow as tf\n",
        "from tensorflow.keras.models import Sequential\n",
        "from tensorflow.keras.layers import Embedding, Flatten, Dense, Conv1D, SimpleRNN\n",
        "from zipfile import ZipFile\n",
        "import urllib.request\n",
        "import os\n",
        "from tensorflow.keras.preprocessing.sequence import pad_sequences"
      ],
      "metadata": {
        "id": "wnYDtAsHixPR"
      },
      "id": "wnYDtAsHixPR",
      "execution_count": 1,
      "outputs": []
    },
    {
      "cell_type": "code",
      "execution_count": 2,
      "id": "93d3d731-0939-4948-bb10-5e828d9fdb21",
      "metadata": {
        "tags": [],
        "id": "93d3d731-0939-4948-bb10-5e828d9fdb21",
        "outputId": "b47c8b75-3be5-4f22-afb0-33f99e01f788",
        "colab": {
          "base_uri": "https://localhost:8080/",
          "height": 362
        }
      },
      "outputs": [
        {
          "output_type": "display_data",
          "data": {
            "text/plain": [
              "   sentiment_label                                         tweet_text\n",
              "0                4  @elephantbird Hey dear, Happy Friday to You  A...\n",
              "1                4  Ughhh layin downnnn    Waiting for zeina to co...\n",
              "2                0  @greeniebach I reckon he'll play, even if he's...\n",
              "3                0              @vaLewee I know!  Saw it on the news!\n",
              "4                0  very sad that http://www.fabchannel.com/ has c..."
            ],
            "text/html": [
              "\n",
              "  <div id=\"df-abbf85e5-746a-46b9-8001-9f97c5c3bcf3\" class=\"colab-df-container\">\n",
              "    <div>\n",
              "<style scoped>\n",
              "    .dataframe tbody tr th:only-of-type {\n",
              "        vertical-align: middle;\n",
              "    }\n",
              "\n",
              "    .dataframe tbody tr th {\n",
              "        vertical-align: top;\n",
              "    }\n",
              "\n",
              "    .dataframe thead th {\n",
              "        text-align: right;\n",
              "    }\n",
              "</style>\n",
              "<table border=\"1\" class=\"dataframe\">\n",
              "  <thead>\n",
              "    <tr style=\"text-align: right;\">\n",
              "      <th></th>\n",
              "      <th>sentiment_label</th>\n",
              "      <th>tweet_text</th>\n",
              "    </tr>\n",
              "  </thead>\n",
              "  <tbody>\n",
              "    <tr>\n",
              "      <th>0</th>\n",
              "      <td>4</td>\n",
              "      <td>@elephantbird Hey dear, Happy Friday to You  A...</td>\n",
              "    </tr>\n",
              "    <tr>\n",
              "      <th>1</th>\n",
              "      <td>4</td>\n",
              "      <td>Ughhh layin downnnn    Waiting for zeina to co...</td>\n",
              "    </tr>\n",
              "    <tr>\n",
              "      <th>2</th>\n",
              "      <td>0</td>\n",
              "      <td>@greeniebach I reckon he'll play, even if he's...</td>\n",
              "    </tr>\n",
              "    <tr>\n",
              "      <th>3</th>\n",
              "      <td>0</td>\n",
              "      <td>@vaLewee I know!  Saw it on the news!</td>\n",
              "    </tr>\n",
              "    <tr>\n",
              "      <th>4</th>\n",
              "      <td>0</td>\n",
              "      <td>very sad that http://www.fabchannel.com/ has c...</td>\n",
              "    </tr>\n",
              "  </tbody>\n",
              "</table>\n",
              "</div>\n",
              "    <div class=\"colab-df-buttons\">\n",
              "\n",
              "  <div class=\"colab-df-container\">\n",
              "    <button class=\"colab-df-convert\" onclick=\"convertToInteractive('df-abbf85e5-746a-46b9-8001-9f97c5c3bcf3')\"\n",
              "            title=\"Convert this dataframe to an interactive table.\"\n",
              "            style=\"display:none;\">\n",
              "\n",
              "  <svg xmlns=\"http://www.w3.org/2000/svg\" height=\"24px\" viewBox=\"0 -960 960 960\">\n",
              "    <path d=\"M120-120v-720h720v720H120Zm60-500h600v-160H180v160Zm220 220h160v-160H400v160Zm0 220h160v-160H400v160ZM180-400h160v-160H180v160Zm440 0h160v-160H620v160ZM180-180h160v-160H180v160Zm440 0h160v-160H620v160Z\"/>\n",
              "  </svg>\n",
              "    </button>\n",
              "\n",
              "  <style>\n",
              "    .colab-df-container {\n",
              "      display:flex;\n",
              "      gap: 12px;\n",
              "    }\n",
              "\n",
              "    .colab-df-convert {\n",
              "      background-color: #E8F0FE;\n",
              "      border: none;\n",
              "      border-radius: 50%;\n",
              "      cursor: pointer;\n",
              "      display: none;\n",
              "      fill: #1967D2;\n",
              "      height: 32px;\n",
              "      padding: 0 0 0 0;\n",
              "      width: 32px;\n",
              "    }\n",
              "\n",
              "    .colab-df-convert:hover {\n",
              "      background-color: #E2EBFA;\n",
              "      box-shadow: 0px 1px 2px rgba(60, 64, 67, 0.3), 0px 1px 3px 1px rgba(60, 64, 67, 0.15);\n",
              "      fill: #174EA6;\n",
              "    }\n",
              "\n",
              "    .colab-df-buttons div {\n",
              "      margin-bottom: 4px;\n",
              "    }\n",
              "\n",
              "    [theme=dark] .colab-df-convert {\n",
              "      background-color: #3B4455;\n",
              "      fill: #D2E3FC;\n",
              "    }\n",
              "\n",
              "    [theme=dark] .colab-df-convert:hover {\n",
              "      background-color: #434B5C;\n",
              "      box-shadow: 0px 1px 3px 1px rgba(0, 0, 0, 0.15);\n",
              "      filter: drop-shadow(0px 1px 2px rgba(0, 0, 0, 0.3));\n",
              "      fill: #FFFFFF;\n",
              "    }\n",
              "  </style>\n",
              "\n",
              "    <script>\n",
              "      const buttonEl =\n",
              "        document.querySelector('#df-abbf85e5-746a-46b9-8001-9f97c5c3bcf3 button.colab-df-convert');\n",
              "      buttonEl.style.display =\n",
              "        google.colab.kernel.accessAllowed ? 'block' : 'none';\n",
              "\n",
              "      async function convertToInteractive(key) {\n",
              "        const element = document.querySelector('#df-abbf85e5-746a-46b9-8001-9f97c5c3bcf3');\n",
              "        const dataTable =\n",
              "          await google.colab.kernel.invokeFunction('convertToInteractive',\n",
              "                                                    [key], {});\n",
              "        if (!dataTable) return;\n",
              "\n",
              "        const docLinkHtml = 'Like what you see? Visit the ' +\n",
              "          '<a target=\"_blank\" href=https://colab.research.google.com/notebooks/data_table.ipynb>data table notebook</a>'\n",
              "          + ' to learn more about interactive tables.';\n",
              "        element.innerHTML = '';\n",
              "        dataTable['output_type'] = 'display_data';\n",
              "        await google.colab.output.renderOutput(dataTable, element);\n",
              "        const docLink = document.createElement('div');\n",
              "        docLink.innerHTML = docLinkHtml;\n",
              "        element.appendChild(docLink);\n",
              "      }\n",
              "    </script>\n",
              "  </div>\n",
              "\n",
              "\n",
              "<div id=\"df-2fb0869c-dbb5-49bc-ac9c-6610592a90ad\">\n",
              "  <button class=\"colab-df-quickchart\" onclick=\"quickchart('df-2fb0869c-dbb5-49bc-ac9c-6610592a90ad')\"\n",
              "            title=\"Suggest charts\"\n",
              "            style=\"display:none;\">\n",
              "\n",
              "<svg xmlns=\"http://www.w3.org/2000/svg\" height=\"24px\"viewBox=\"0 0 24 24\"\n",
              "     width=\"24px\">\n",
              "    <g>\n",
              "        <path d=\"M19 3H5c-1.1 0-2 .9-2 2v14c0 1.1.9 2 2 2h14c1.1 0 2-.9 2-2V5c0-1.1-.9-2-2-2zM9 17H7v-7h2v7zm4 0h-2V7h2v10zm4 0h-2v-4h2v4z\"/>\n",
              "    </g>\n",
              "</svg>\n",
              "  </button>\n",
              "\n",
              "<style>\n",
              "  .colab-df-quickchart {\n",
              "      --bg-color: #E8F0FE;\n",
              "      --fill-color: #1967D2;\n",
              "      --hover-bg-color: #E2EBFA;\n",
              "      --hover-fill-color: #174EA6;\n",
              "      --disabled-fill-color: #AAA;\n",
              "      --disabled-bg-color: #DDD;\n",
              "  }\n",
              "\n",
              "  [theme=dark] .colab-df-quickchart {\n",
              "      --bg-color: #3B4455;\n",
              "      --fill-color: #D2E3FC;\n",
              "      --hover-bg-color: #434B5C;\n",
              "      --hover-fill-color: #FFFFFF;\n",
              "      --disabled-bg-color: #3B4455;\n",
              "      --disabled-fill-color: #666;\n",
              "  }\n",
              "\n",
              "  .colab-df-quickchart {\n",
              "    background-color: var(--bg-color);\n",
              "    border: none;\n",
              "    border-radius: 50%;\n",
              "    cursor: pointer;\n",
              "    display: none;\n",
              "    fill: var(--fill-color);\n",
              "    height: 32px;\n",
              "    padding: 0;\n",
              "    width: 32px;\n",
              "  }\n",
              "\n",
              "  .colab-df-quickchart:hover {\n",
              "    background-color: var(--hover-bg-color);\n",
              "    box-shadow: 0 1px 2px rgba(60, 64, 67, 0.3), 0 1px 3px 1px rgba(60, 64, 67, 0.15);\n",
              "    fill: var(--button-hover-fill-color);\n",
              "  }\n",
              "\n",
              "  .colab-df-quickchart-complete:disabled,\n",
              "  .colab-df-quickchart-complete:disabled:hover {\n",
              "    background-color: var(--disabled-bg-color);\n",
              "    fill: var(--disabled-fill-color);\n",
              "    box-shadow: none;\n",
              "  }\n",
              "\n",
              "  .colab-df-spinner {\n",
              "    border: 2px solid var(--fill-color);\n",
              "    border-color: transparent;\n",
              "    border-bottom-color: var(--fill-color);\n",
              "    animation:\n",
              "      spin 1s steps(1) infinite;\n",
              "  }\n",
              "\n",
              "  @keyframes spin {\n",
              "    0% {\n",
              "      border-color: transparent;\n",
              "      border-bottom-color: var(--fill-color);\n",
              "      border-left-color: var(--fill-color);\n",
              "    }\n",
              "    20% {\n",
              "      border-color: transparent;\n",
              "      border-left-color: var(--fill-color);\n",
              "      border-top-color: var(--fill-color);\n",
              "    }\n",
              "    30% {\n",
              "      border-color: transparent;\n",
              "      border-left-color: var(--fill-color);\n",
              "      border-top-color: var(--fill-color);\n",
              "      border-right-color: var(--fill-color);\n",
              "    }\n",
              "    40% {\n",
              "      border-color: transparent;\n",
              "      border-right-color: var(--fill-color);\n",
              "      border-top-color: var(--fill-color);\n",
              "    }\n",
              "    60% {\n",
              "      border-color: transparent;\n",
              "      border-right-color: var(--fill-color);\n",
              "    }\n",
              "    80% {\n",
              "      border-color: transparent;\n",
              "      border-right-color: var(--fill-color);\n",
              "      border-bottom-color: var(--fill-color);\n",
              "    }\n",
              "    90% {\n",
              "      border-color: transparent;\n",
              "      border-bottom-color: var(--fill-color);\n",
              "    }\n",
              "  }\n",
              "</style>\n",
              "\n",
              "  <script>\n",
              "    async function quickchart(key) {\n",
              "      const quickchartButtonEl =\n",
              "        document.querySelector('#' + key + ' button');\n",
              "      quickchartButtonEl.disabled = true;  // To prevent multiple clicks.\n",
              "      quickchartButtonEl.classList.add('colab-df-spinner');\n",
              "      try {\n",
              "        const charts = await google.colab.kernel.invokeFunction(\n",
              "            'suggestCharts', [key], {});\n",
              "      } catch (error) {\n",
              "        console.error('Error during call to suggestCharts:', error);\n",
              "      }\n",
              "      quickchartButtonEl.classList.remove('colab-df-spinner');\n",
              "      quickchartButtonEl.classList.add('colab-df-quickchart-complete');\n",
              "    }\n",
              "    (() => {\n",
              "      let quickchartButtonEl =\n",
              "        document.querySelector('#df-2fb0869c-dbb5-49bc-ac9c-6610592a90ad button');\n",
              "      quickchartButtonEl.style.display =\n",
              "        google.colab.kernel.accessAllowed ? 'block' : 'none';\n",
              "    })();\n",
              "  </script>\n",
              "</div>\n",
              "    </div>\n",
              "  </div>\n"
            ],
            "application/vnd.google.colaboratory.intrinsic+json": {
              "type": "dataframe",
              "summary": "{\n  \"name\": \"df\",\n  \"rows\": 5,\n  \"fields\": [\n    {\n      \"column\": \"sentiment_label\",\n      \"properties\": {\n        \"dtype\": \"number\",\n        \"std\": 2,\n        \"min\": 0,\n        \"max\": 4,\n        \"samples\": [\n          0,\n          4\n        ],\n        \"num_unique_values\": 2,\n        \"semantic_type\": \"\",\n        \"description\": \"\"\n      }\n    },\n    {\n      \"column\": \"tweet_text\",\n      \"properties\": {\n        \"dtype\": \"string\",\n        \"samples\": [\n          \"Ughhh layin downnnn    Waiting for zeina to cook breakfast\",\n          \"very sad that http://www.fabchannel.com/ has closed down. One of the few web services that I've used for over 5 years \"\n        ],\n        \"num_unique_values\": 5,\n        \"semantic_type\": \"\",\n        \"description\": \"\"\n      }\n    }\n  ]\n}"
            }
          },
          "metadata": {}
        },
        {
          "output_type": "stream",
          "name": "stdout",
          "text": [
            "<class 'pandas.core.frame.DataFrame'>\n",
            "RangeIndex: 160000 entries, 0 to 159999\n",
            "Data columns (total 2 columns):\n",
            " #   Column           Non-Null Count   Dtype \n",
            "---  ------           --------------   ----- \n",
            " 0   sentiment_label  160000 non-null  int64 \n",
            " 1   tweet_text       160000 non-null  object\n",
            "dtypes: int64(1), object(1)\n",
            "memory usage: 2.4+ MB\n"
          ]
        }
      ],
      "source": [
        "file_path = 'https://raw.githubusercontent.com/simulate111/mini-project-2-Abo/main/Sentiment140.tenPercent.sample.tweets.tsv'\n",
        "df = pd.read_csv(file_path, sep='\\t', header=0)\n",
        "display(df.head())\n",
        "df.info()"
      ]
    },
    {
      "cell_type": "code",
      "execution_count": 3,
      "id": "79a88430-670a-471d-ae5e-37a0e3d268dd",
      "metadata": {
        "tags": [],
        "id": "79a88430-670a-471d-ae5e-37a0e3d268dd",
        "outputId": "a247d446-f572-4b18-cc62-f82ecba92a84",
        "colab": {
          "base_uri": "https://localhost:8080/"
        }
      },
      "outputs": [
        {
          "output_type": "stream",
          "name": "stdout",
          "text": [
            "4    80000\n",
            "0    80000\n",
            "Name: sentiment_label, dtype: int64\n"
          ]
        }
      ],
      "source": [
        "sentiment_label_counts = df['sentiment_label'].value_counts()\n",
        "print(sentiment_label_counts)"
      ]
    },
    {
      "cell_type": "code",
      "execution_count": 4,
      "id": "ca4f8e1a-0de9-4a84-9471-578c8a9c3a8d",
      "metadata": {
        "tags": [],
        "id": "ca4f8e1a-0de9-4a84-9471-578c8a9c3a8d",
        "outputId": "bd1c5502-1604-43de-c6fb-f4fd27765d2a",
        "colab": {
          "base_uri": "https://localhost:8080/",
          "height": 428
        }
      },
      "outputs": [
        {
          "output_type": "display_data",
          "data": {
            "text/plain": [
              "<Figure size 640x480 with 1 Axes>"
            ],
            "image/png": "[encoded data removed]"
          },
          "metadata": {}
        }
      ],
      "source": [
        "sentiment_label_counts = df['sentiment_label'].value_counts()\n",
        "plt.pie(sentiment_label_counts, labels=sentiment_label_counts.index, autopct=lambda p: '{:.0f} ({:.1f}%)'.format(p * sentiment_label_counts.sum() / 100, p),\n",
        "        startangle=140, colors=plt.cm.Paired.colors)\n",
        "plt.title('Sentiment Label Distribution')\n",
        "plt.show()"
      ]
    },
    {
      "cell_type": "code",
      "execution_count": 5,
      "id": "a9f04de2-6348-48ee-a4c3-6271f65cb8a8",
      "metadata": {
        "tags": [],
        "id": "a9f04de2-6348-48ee-a4c3-6271f65cb8a8",
        "outputId": "656c73b4-0e59-4b4c-ade5-0a1931204741",
        "colab": {
          "base_uri": "https://localhost:8080/"
        }
      },
      "outputs": [
        {
          "output_type": "stream",
          "name": "stdout",
          "text": [
            "Missing Values:\n",
            "sentiment_label    0\n",
            "tweet_text         0\n",
            "dtype: int64\n"
          ]
        }
      ],
      "source": [
        "missing_values = df.isnull().sum()\n",
        "print(\"Missing Values:\")\n",
        "print(missing_values)"
      ]
    },
    {
      "cell_type": "code",
      "execution_count": 6,
      "id": "9cd6e08d-0d56-489f-8418-0d8bceafb7ac",
      "metadata": {
        "tags": [],
        "id": "9cd6e08d-0d56-489f-8418-0d8bceafb7ac",
        "outputId": "02cd0503-a9c4-4446-943e-89538ab4c6be",
        "colab": {
          "base_uri": "https://localhost:8080/"
        }
      },
      "outputs": [
        {
          "output_type": "stream",
          "name": "stdout",
          "text": [
            "Text Length Summary:\n",
            "count    160000.000000\n",
            "mean         74.113481\n",
            "std          36.440383\n",
            "min           6.000000\n",
            "25%          44.000000\n",
            "50%          69.000000\n",
            "75%         104.000000\n",
            "max         186.000000\n",
            "Name: text_length, dtype: float64\n"
          ]
        }
      ],
      "source": [
        "df['text_length'] = df['tweet_text'].apply(len)\n",
        "print(\"Text Length Summary:\")\n",
        "print(df['text_length'].describe())"
      ]
    },
    {
      "cell_type": "code",
      "execution_count": 7,
      "id": "bb405191-67ae-4bdc-a5e5-203635b7e22b",
      "metadata": {
        "tags": [],
        "id": "bb405191-67ae-4bdc-a5e5-203635b7e22b",
        "outputId": "bbc7bae2-6238-4732-dcca-4e64cc17eca3",
        "colab": {
          "base_uri": "https://localhost:8080/",
          "height": 206
        }
      },
      "outputs": [
        {
          "output_type": "display_data",
          "data": {
            "text/plain": [
              "   sentiment_label                                         tweet_text  \\\n",
              "0                1  @elephantbird Hey dear, Happy Friday to You  A...   \n",
              "1                1  Ughhh layin downnnn    Waiting for zeina to co...   \n",
              "2                0  @greeniebach I reckon he'll play, even if he's...   \n",
              "3                0              @vaLewee I know!  Saw it on the news!   \n",
              "4                0  very sad that http://www.fabchannel.com/ has c...   \n",
              "\n",
              "   text_length  \n",
              "0           85  \n",
              "1           58  \n",
              "2          116  \n",
              "3           37  \n",
              "4          118  "
            ],
            "text/html": [
              "\n",
              "  <div id=\"df-c264b1bb-e4b2-4c96-aa1b-37e231fb4189\" class=\"colab-df-container\">\n",
              "    <div>\n",
              "<style scoped>\n",
              "    .dataframe tbody tr th:only-of-type {\n",
              "        vertical-align: middle;\n",
              "    }\n",
              "\n",
              "    .dataframe tbody tr th {\n",
              "        vertical-align: top;\n",
              "    }\n",
              "\n",
              "    .dataframe thead th {\n",
              "        text-align: right;\n",
              "    }\n",
              "</style>\n",
              "<table border=\"1\" class=\"dataframe\">\n",
              "  <thead>\n",
              "    <tr style=\"text-align: right;\">\n",
              "      <th></th>\n",
              "      <th>sentiment_label</th>\n",
              "      <th>tweet_text</th>\n",
              "      <th>text_length</th>\n",
              "    </tr>\n",
              "  </thead>\n",
              "  <tbody>\n",
              "    <tr>\n",
              "      <th>0</th>\n",
              "      <td>1</td>\n",
              "      <td>@elephantbird Hey dear, Happy Friday to You  A...</td>\n",
              "      <td>85</td>\n",
              "    </tr>\n",
              "    <tr>\n",
              "      <th>1</th>\n",
              "      <td>1</td>\n",
              "      <td>Ughhh layin downnnn    Waiting for zeina to co...</td>\n",
              "      <td>58</td>\n",
              "    </tr>\n",
              "    <tr>\n",
              "      <th>2</th>\n",
              "      <td>0</td>\n",
              "      <td>@greeniebach I reckon he'll play, even if he's...</td>\n",
              "      <td>116</td>\n",
              "    </tr>\n",
              "    <tr>\n",
              "      <th>3</th>\n",
              "      <td>0</td>\n",
              "      <td>@vaLewee I know!  Saw it on the news!</td>\n",
              "      <td>37</td>\n",
              "    </tr>\n",
              "    <tr>\n",
              "      <th>4</th>\n",
              "      <td>0</td>\n",
              "      <td>very sad that http://www.fabchannel.com/ has c...</td>\n",
              "      <td>118</td>\n",
              "    </tr>\n",
              "  </tbody>\n",
              "</table>\n",
              "</div>\n",
              "    <div class=\"colab-df-buttons\">\n",
              "\n",
              "  <div class=\"colab-df-container\">\n",
              "    <button class=\"colab-df-convert\" onclick=\"convertToInteractive('df-c264b1bb-e4b2-4c96-aa1b-37e231fb4189')\"\n",
              "            title=\"Convert this dataframe to an interactive table.\"\n",
              "            style=\"display:none;\">\n",
              "\n",
              "  <svg xmlns=\"http://www.w3.org/2000/svg\" height=\"24px\" viewBox=\"0 -960 960 960\">\n",
              "    <path d=\"M120-120v-720h720v720H120Zm60-500h600v-160H180v160Zm220 220h160v-160H400v160Zm0 220h160v-160H400v160ZM180-400h160v-160H180v160Zm440 0h160v-160H620v160ZM180-180h160v-160H180v160Zm440 0h160v-160H620v160Z\"/>\n",
              "  </svg>\n",
              "    </button>\n",
              "\n",
              "  <style>\n",
              "    .colab-df-container {\n",
              "      display:flex;\n",
              "      gap: 12px;\n",
              "    }\n",
              "\n",
              "    .colab-df-convert {\n",
              "      background-color: #E8F0FE;\n",
              "      border: none;\n",
              "      border-radius: 50%;\n",
              "      cursor: pointer;\n",
              "      display: none;\n",
              "      fill: #1967D2;\n",
              "      height: 32px;\n",
              "      padding: 0 0 0 0;\n",
              "      width: 32px;\n",
              "    }\n",
              "\n",
              "    .colab-df-convert:hover {\n",
              "      background-color: #E2EBFA;\n",
              "      box-shadow: 0px 1px 2px rgba(60, 64, 67, 0.3), 0px 1px 3px 1px rgba(60, 64, 67, 0.15);\n",
              "      fill: #174EA6;\n",
              "    }\n",
              "\n",
              "    .colab-df-buttons div {\n",
              "      margin-bottom: 4px;\n",
              "    }\n",
              "\n",
              "    [theme=dark] .colab-df-convert {\n",
              "      background-color: #3B4455;\n",
              "      fill: #D2E3FC;\n",
              "    }\n",
              "\n",
              "    [theme=dark] .colab-df-convert:hover {\n",
              "      background-color: #434B5C;\n",
              "      box-shadow: 0px 1px 3px 1px rgba(0, 0, 0, 0.15);\n",
              "      filter: drop-shadow(0px 1px 2px rgba(0, 0, 0, 0.3));\n",
              "      fill: #FFFFFF;\n",
              "    }\n",
              "  </style>\n",
              "\n",
              "    <script>\n",
              "      const buttonEl =\n",
              "        document.querySelector('#df-c264b1bb-e4b2-4c96-aa1b-37e231fb4189 button.colab-df-convert');\n",
              "      buttonEl.style.display =\n",
              "        google.colab.kernel.accessAllowed ? 'block' : 'none';\n",
              "\n",
              "      async function convertToInteractive(key) {\n",
              "        const element = document.querySelector('#df-c264b1bb-e4b2-4c96-aa1b-37e231fb4189');\n",
              "        const dataTable =\n",
              "          await google.colab.kernel.invokeFunction('convertToInteractive',\n",
              "                                                    [key], {});\n",
              "        if (!dataTable) return;\n",
              "\n",
              "        const docLinkHtml = 'Like what you see? Visit the ' +\n",
              "          '<a target=\"_blank\" href=https://colab.research.google.com/notebooks/data_table.ipynb>data table notebook</a>'\n",
              "          + ' to learn more about interactive tables.';\n",
              "        element.innerHTML = '';\n",
              "        dataTable['output_type'] = 'display_data';\n",
              "        await google.colab.output.renderOutput(dataTable, element);\n",
              "        const docLink = document.createElement('div');\n",
              "        docLink.innerHTML = docLinkHtml;\n",
              "        element.appendChild(docLink);\n",
              "      }\n",
              "    </script>\n",
              "  </div>\n",
              "\n",
              "\n",
              "<div id=\"df-266712d1-f77b-4671-aee2-44e25a7f88ea\">\n",
              "  <button class=\"colab-df-quickchart\" onclick=\"quickchart('df-266712d1-f77b-4671-aee2-44e25a7f88ea')\"\n",
              "            title=\"Suggest charts\"\n",
              "            style=\"display:none;\">\n",
              "\n",
              "<svg xmlns=\"http://www.w3.org/2000/svg\" height=\"24px\"viewBox=\"0 0 24 24\"\n",
              "     width=\"24px\">\n",
              "    <g>\n",
              "        <path d=\"M19 3H5c-1.1 0-2 .9-2 2v14c0 1.1.9 2 2 2h14c1.1 0 2-.9 2-2V5c0-1.1-.9-2-2-2zM9 17H7v-7h2v7zm4 0h-2V7h2v10zm4 0h-2v-4h2v4z\"/>\n",
              "    </g>\n",
              "</svg>\n",
              "  </button>\n",
              "\n",
              "<style>\n",
              "  .colab-df-quickchart {\n",
              "      --bg-color: #E8F0FE;\n",
              "      --fill-color: #1967D2;\n",
              "      --hover-bg-color: #E2EBFA;\n",
              "      --hover-fill-color: #174EA6;\n",
              "      --disabled-fill-color: #AAA;\n",
              "      --disabled-bg-color: #DDD;\n",
              "  }\n",
              "\n",
              "  [theme=dark] .colab-df-quickchart {\n",
              "      --bg-color: #3B4455;\n",
              "      --fill-color: #D2E3FC;\n",
              "      --hover-bg-color: #434B5C;\n",
              "      --hover-fill-color: #FFFFFF;\n",
              "      --disabled-bg-color: #3B4455;\n",
              "      --disabled-fill-color: #666;\n",
              "  }\n",
              "\n",
              "  .colab-df-quickchart {\n",
              "    background-color: var(--bg-color);\n",
              "    border: none;\n",
              "    border-radius: 50%;\n",
              "    cursor: pointer;\n",
              "    display: none;\n",
              "    fill: var(--fill-color);\n",
              "    height: 32px;\n",
              "    padding: 0;\n",
              "    width: 32px;\n",
              "  }\n",
              "\n",
              "  .colab-df-quickchart:hover {\n",
              "    background-color: var(--hover-bg-color);\n",
              "    box-shadow: 0 1px 2px rgba(60, 64, 67, 0.3), 0 1px 3px 1px rgba(60, 64, 67, 0.15);\n",
              "    fill: var(--button-hover-fill-color);\n",
              "  }\n",
              "\n",
              "  .colab-df-quickchart-complete:disabled,\n",
              "  .colab-df-quickchart-complete:disabled:hover {\n",
              "    background-color: var(--disabled-bg-color);\n",
              "    fill: var(--disabled-fill-color);\n",
              "    box-shadow: none;\n",
              "  }\n",
              "\n",
              "  .colab-df-spinner {\n",
              "    border: 2px solid var(--fill-color);\n",
              "    border-color: transparent;\n",
              "    border-bottom-color: var(--fill-color);\n",
              "    animation:\n",
              "      spin 1s steps(1) infinite;\n",
              "  }\n",
              "\n",
              "  @keyframes spin {\n",
              "    0% {\n",
              "      border-color: transparent;\n",
              "      border-bottom-color: var(--fill-color);\n",
              "      border-left-color: var(--fill-color);\n",
              "    }\n",
              "    20% {\n",
              "      border-color: transparent;\n",
              "      border-left-color: var(--fill-color);\n",
              "      border-top-color: var(--fill-color);\n",
              "    }\n",
              "    30% {\n",
              "      border-color: transparent;\n",
              "      border-left-color: var(--fill-color);\n",
              "      border-top-color: var(--fill-color);\n",
              "      border-right-color: var(--fill-color);\n",
              "    }\n",
              "    40% {\n",
              "      border-color: transparent;\n",
              "      border-right-color: var(--fill-color);\n",
              "      border-top-color: var(--fill-color);\n",
              "    }\n",
              "    60% {\n",
              "      border-color: transparent;\n",
              "      border-right-color: var(--fill-color);\n",
              "    }\n",
              "    80% {\n",
              "      border-color: transparent;\n",
              "      border-right-color: var(--fill-color);\n",
              "      border-bottom-color: var(--fill-color);\n",
              "    }\n",
              "    90% {\n",
              "      border-color: transparent;\n",
              "      border-bottom-color: var(--fill-color);\n",
              "    }\n",
              "  }\n",
              "</style>\n",
              "\n",
              "  <script>\n",
              "    async function quickchart(key) {\n",
              "      const quickchartButtonEl =\n",
              "        document.querySelector('#' + key + ' button');\n",
              "      quickchartButtonEl.disabled = true;  // To prevent multiple clicks.\n",
              "      quickchartButtonEl.classList.add('colab-df-spinner');\n",
              "      try {\n",
              "        const charts = await google.colab.kernel.invokeFunction(\n",
              "            'suggestCharts', [key], {});\n",
              "      } catch (error) {\n",
              "        console.error('Error during call to suggestCharts:', error);\n",
              "      }\n",
              "      quickchartButtonEl.classList.remove('colab-df-spinner');\n",
              "      quickchartButtonEl.classList.add('colab-df-quickchart-complete');\n",
              "    }\n",
              "    (() => {\n",
              "      let quickchartButtonEl =\n",
              "        document.querySelector('#df-266712d1-f77b-4671-aee2-44e25a7f88ea button');\n",
              "      quickchartButtonEl.style.display =\n",
              "        google.colab.kernel.accessAllowed ? 'block' : 'none';\n",
              "    })();\n",
              "  </script>\n",
              "</div>\n",
              "    </div>\n",
              "  </div>\n"
            ],
            "application/vnd.google.colaboratory.intrinsic+json": {
              "type": "dataframe",
              "summary": "{\n  \"name\": \"display(df\",\n  \"rows\": 5,\n  \"fields\": [\n    {\n      \"column\": \"sentiment_label\",\n      \"properties\": {\n        \"dtype\": \"number\",\n        \"std\": 0,\n        \"min\": 0,\n        \"max\": 1,\n        \"samples\": [\n          0,\n          1\n        ],\n        \"num_unique_values\": 2,\n        \"semantic_type\": \"\",\n        \"description\": \"\"\n      }\n    },\n    {\n      \"column\": \"tweet_text\",\n      \"properties\": {\n        \"dtype\": \"string\",\n        \"samples\": [\n          \"Ughhh layin downnnn    Waiting for zeina to cook breakfast\",\n          \"very sad that http://www.fabchannel.com/ has closed down. One of the few web services that I've used for over 5 years \"\n        ],\n        \"num_unique_values\": 5,\n        \"semantic_type\": \"\",\n        \"description\": \"\"\n      }\n    },\n    {\n      \"column\": \"text_length\",\n      \"properties\": {\n        \"dtype\": \"number\",\n        \"std\": 35,\n        \"min\": 37,\n        \"max\": 118,\n        \"samples\": [\n          58,\n          118\n        ],\n        \"num_unique_values\": 5,\n        \"semantic_type\": \"\",\n        \"description\": \"\"\n      }\n    }\n  ]\n}"
            }
          },
          "metadata": {}
        }
      ],
      "source": [
        "df['sentiment_label'] = df['sentiment_label'].replace({4: 1})\n",
        "display(df.head())"
      ]
    },
    {
      "cell_type": "code",
      "execution_count": 8,
      "id": "c1889ca7-f981-4ddc-8b04-3c9fb17c94c2",
      "metadata": {
        "tags": [],
        "id": "c1889ca7-f981-4ddc-8b04-3c9fb17c94c2",
        "outputId": "bad3e398-3ab4-4da5-9c2b-ce483ad0ca7d",
        "colab": {
          "base_uri": "https://localhost:8080/",
          "height": 206
        }
      },
      "outputs": [
        {
          "output_type": "display_data",
          "data": {
            "text/plain": [
              "                                          tweet_text  \\\n",
              "0  @elephantbird Hey dear, Happy Friday to You  A...   \n",
              "1  Ughhh layin downnnn    Waiting for zeina to co...   \n",
              "2  @greeniebach I reckon he'll play, even if he's...   \n",
              "3              @vaLewee I know!  Saw it on the news!   \n",
              "4  very sad that http://www.fabchannel.com/ has c...   \n",
              "\n",
              "                                       cleaned_tweet  \n",
              "0  Hey dear Happy Friday to You Already had your ...  \n",
              "1  Ughhh layin downnnn Waiting for zeina to cook ...  \n",
              "2  I reckon he ll play even if he s not 100 but i...  \n",
              "3                          I know Saw it on the news  \n",
              "4  very sad that has closed down One of the few w...  "
            ],
            "text/html": [
              "\n",
              "  <div id=\"df-312f7420-93d7-4e45-aed7-f4cdcc73a56b\" class=\"colab-df-container\">\n",
              "    <div>\n",
              "<style scoped>\n",
              "    .dataframe tbody tr th:only-of-type {\n",
              "        vertical-align: middle;\n",
              "    }\n",
              "\n",
              "    .dataframe tbody tr th {\n",
              "        vertical-align: top;\n",
              "    }\n",
              "\n",
              "    .dataframe thead th {\n",
              "        text-align: right;\n",
              "    }\n",
              "</style>\n",
              "<table border=\"1\" class=\"dataframe\">\n",
              "  <thead>\n",
              "    <tr style=\"text-align: right;\">\n",
              "      <th></th>\n",
              "      <th>tweet_text</th>\n",
              "      <th>cleaned_tweet</th>\n",
              "    </tr>\n",
              "  </thead>\n",
              "  <tbody>\n",
              "    <tr>\n",
              "      <th>0</th>\n",
              "      <td>@elephantbird Hey dear, Happy Friday to You  A...</td>\n",
              "      <td>Hey dear Happy Friday to You Already had your ...</td>\n",
              "    </tr>\n",
              "    <tr>\n",
              "      <th>1</th>\n",
              "      <td>Ughhh layin downnnn    Waiting for zeina to co...</td>\n",
              "      <td>Ughhh layin downnnn Waiting for zeina to cook ...</td>\n",
              "    </tr>\n",
              "    <tr>\n",
              "      <th>2</th>\n",
              "      <td>@greeniebach I reckon he'll play, even if he's...</td>\n",
              "      <td>I reckon he ll play even if he s not 100 but i...</td>\n",
              "    </tr>\n",
              "    <tr>\n",
              "      <th>3</th>\n",
              "      <td>@vaLewee I know!  Saw it on the news!</td>\n",
              "      <td>I know Saw it on the news</td>\n",
              "    </tr>\n",
              "    <tr>\n",
              "      <th>4</th>\n",
              "      <td>very sad that http://www.fabchannel.com/ has c...</td>\n",
              "      <td>very sad that has closed down One of the few w...</td>\n",
              "    </tr>\n",
              "  </tbody>\n",
              "</table>\n",
              "</div>\n",
              "    <div class=\"colab-df-buttons\">\n",
              "\n",
              "  <div class=\"colab-df-container\">\n",
              "    <button class=\"colab-df-convert\" onclick=\"convertToInteractive('df-312f7420-93d7-4e45-aed7-f4cdcc73a56b')\"\n",
              "            title=\"Convert this dataframe to an interactive table.\"\n",
              "            style=\"display:none;\">\n",
              "\n",
              "  <svg xmlns=\"http://www.w3.org/2000/svg\" height=\"24px\" viewBox=\"0 -960 960 960\">\n",
              "    <path d=\"M120-120v-720h720v720H120Zm60-500h600v-160H180v160Zm220 220h160v-160H400v160Zm0 220h160v-160H400v160ZM180-400h160v-160H180v160Zm440 0h160v-160H620v160ZM180-180h160v-160H180v160Zm440 0h160v-160H620v160Z\"/>\n",
              "  </svg>\n",
              "    </button>\n",
              "\n",
              "  <style>\n",
              "    .colab-df-container {\n",
              "      display:flex;\n",
              "      gap: 12px;\n",
              "    }\n",
              "\n",
              "    .colab-df-convert {\n",
              "      background-color: #E8F0FE;\n",
              "      border: none;\n",
              "      border-radius: 50%;\n",
              "      cursor: pointer;\n",
              "      display: none;\n",
              "      fill: #1967D2;\n",
              "      height: 32px;\n",
              "      padding: 0 0 0 0;\n",
              "      width: 32px;\n",
              "    }\n",
              "\n",
              "    .colab-df-convert:hover {\n",
              "      background-color: #E2EBFA;\n",
              "      box-shadow: 0px 1px 2px rgba(60, 64, 67, 0.3), 0px 1px 3px 1px rgba(60, 64, 67, 0.15);\n",
              "      fill: #174EA6;\n",
              "    }\n",
              "\n",
              "    .colab-df-buttons div {\n",
              "      margin-bottom: 4px;\n",
              "    }\n",
              "\n",
              "    [theme=dark] .colab-df-convert {\n",
              "      background-color: #3B4455;\n",
              "      fill: #D2E3FC;\n",
              "    }\n",
              "\n",
              "    [theme=dark] .colab-df-convert:hover {\n",
              "      background-color: #434B5C;\n",
              "      box-shadow: 0px 1px 3px 1px rgba(0, 0, 0, 0.15);\n",
              "      filter: drop-shadow(0px 1px 2px rgba(0, 0, 0, 0.3));\n",
              "      fill: #FFFFFF;\n",
              "    }\n",
              "  </style>\n",
              "\n",
              "    <script>\n",
              "      const buttonEl =\n",
              "        document.querySelector('#df-312f7420-93d7-4e45-aed7-f4cdcc73a56b button.colab-df-convert');\n",
              "      buttonEl.style.display =\n",
              "        google.colab.kernel.accessAllowed ? 'block' : 'none';\n",
              "\n",
              "      async function convertToInteractive(key) {\n",
              "        const element = document.querySelector('#df-312f7420-93d7-4e45-aed7-f4cdcc73a56b');\n",
              "        const dataTable =\n",
              "          await google.colab.kernel.invokeFunction('convertToInteractive',\n",
              "                                                    [key], {});\n",
              "        if (!dataTable) return;\n",
              "\n",
              "        const docLinkHtml = 'Like what you see? Visit the ' +\n",
              "          '<a target=\"_blank\" href=https://colab.research.google.com/notebooks/data_table.ipynb>data table notebook</a>'\n",
              "          + ' to learn more about interactive tables.';\n",
              "        element.innerHTML = '';\n",
              "        dataTable['output_type'] = 'display_data';\n",
              "        await google.colab.output.renderOutput(dataTable, element);\n",
              "        const docLink = document.createElement('div');\n",
              "        docLink.innerHTML = docLinkHtml;\n",
              "        element.appendChild(docLink);\n",
              "      }\n",
              "    </script>\n",
              "  </div>\n",
              "\n",
              "\n",
              "<div id=\"df-ff88d838-f193-40c7-93d4-591223aa3dd6\">\n",
              "  <button class=\"colab-df-quickchart\" onclick=\"quickchart('df-ff88d838-f193-40c7-93d4-591223aa3dd6')\"\n",
              "            title=\"Suggest charts\"\n",
              "            style=\"display:none;\">\n",
              "\n",
              "<svg xmlns=\"http://www.w3.org/2000/svg\" height=\"24px\"viewBox=\"0 0 24 24\"\n",
              "     width=\"24px\">\n",
              "    <g>\n",
              "        <path d=\"M19 3H5c-1.1 0-2 .9-2 2v14c0 1.1.9 2 2 2h14c1.1 0 2-.9 2-2V5c0-1.1-.9-2-2-2zM9 17H7v-7h2v7zm4 0h-2V7h2v10zm4 0h-2v-4h2v4z\"/>\n",
              "    </g>\n",
              "</svg>\n",
              "  </button>\n",
              "\n",
              "<style>\n",
              "  .colab-df-quickchart {\n",
              "      --bg-color: #E8F0FE;\n",
              "      --fill-color: #1967D2;\n",
              "      --hover-bg-color: #E2EBFA;\n",
              "      --hover-fill-color: #174EA6;\n",
              "      --disabled-fill-color: #AAA;\n",
              "      --disabled-bg-color: #DDD;\n",
              "  }\n",
              "\n",
              "  [theme=dark] .colab-df-quickchart {\n",
              "      --bg-color: #3B4455;\n",
              "      --fill-color: #D2E3FC;\n",
              "      --hover-bg-color: #434B5C;\n",
              "      --hover-fill-color: #FFFFFF;\n",
              "      --disabled-bg-color: #3B4455;\n",
              "      --disabled-fill-color: #666;\n",
              "  }\n",
              "\n",
              "  .colab-df-quickchart {\n",
              "    background-color: var(--bg-color);\n",
              "    border: none;\n",
              "    border-radius: 50%;\n",
              "    cursor: pointer;\n",
              "    display: none;\n",
              "    fill: var(--fill-color);\n",
              "    height: 32px;\n",
              "    padding: 0;\n",
              "    width: 32px;\n",
              "  }\n",
              "\n",
              "  .colab-df-quickchart:hover {\n",
              "    background-color: var(--hover-bg-color);\n",
              "    box-shadow: 0 1px 2px rgba(60, 64, 67, 0.3), 0 1px 3px 1px rgba(60, 64, 67, 0.15);\n",
              "    fill: var(--button-hover-fill-color);\n",
              "  }\n",
              "\n",
              "  .colab-df-quickchart-complete:disabled,\n",
              "  .colab-df-quickchart-complete:disabled:hover {\n",
              "    background-color: var(--disabled-bg-color);\n",
              "    fill: var(--disabled-fill-color);\n",
              "    box-shadow: none;\n",
              "  }\n",
              "\n",
              "  .colab-df-spinner {\n",
              "    border: 2px solid var(--fill-color);\n",
              "    border-color: transparent;\n",
              "    border-bottom-color: var(--fill-color);\n",
              "    animation:\n",
              "      spin 1s steps(1) infinite;\n",
              "  }\n",
              "\n",
              "  @keyframes spin {\n",
              "    0% {\n",
              "      border-color: transparent;\n",
              "      border-bottom-color: var(--fill-color);\n",
              "      border-left-color: var(--fill-color);\n",
              "    }\n",
              "    20% {\n",
              "      border-color: transparent;\n",
              "      border-left-color: var(--fill-color);\n",
              "      border-top-color: var(--fill-color);\n",
              "    }\n",
              "    30% {\n",
              "      border-color: transparent;\n",
              "      border-left-color: var(--fill-color);\n",
              "      border-top-color: var(--fill-color);\n",
              "      border-right-color: var(--fill-color);\n",
              "    }\n",
              "    40% {\n",
              "      border-color: transparent;\n",
              "      border-right-color: var(--fill-color);\n",
              "      border-top-color: var(--fill-color);\n",
              "    }\n",
              "    60% {\n",
              "      border-color: transparent;\n",
              "      border-right-color: var(--fill-color);\n",
              "    }\n",
              "    80% {\n",
              "      border-color: transparent;\n",
              "      border-right-color: var(--fill-color);\n",
              "      border-bottom-color: var(--fill-color);\n",
              "    }\n",
              "    90% {\n",
              "      border-color: transparent;\n",
              "      border-bottom-color: var(--fill-color);\n",
              "    }\n",
              "  }\n",
              "</style>\n",
              "\n",
              "  <script>\n",
              "    async function quickchart(key) {\n",
              "      const quickchartButtonEl =\n",
              "        document.querySelector('#' + key + ' button');\n",
              "      quickchartButtonEl.disabled = true;  // To prevent multiple clicks.\n",
              "      quickchartButtonEl.classList.add('colab-df-spinner');\n",
              "      try {\n",
              "        const charts = await google.colab.kernel.invokeFunction(\n",
              "            'suggestCharts', [key], {});\n",
              "      } catch (error) {\n",
              "        console.error('Error during call to suggestCharts:', error);\n",
              "      }\n",
              "      quickchartButtonEl.classList.remove('colab-df-spinner');\n",
              "      quickchartButtonEl.classList.add('colab-df-quickchart-complete');\n",
              "    }\n",
              "    (() => {\n",
              "      let quickchartButtonEl =\n",
              "        document.querySelector('#df-ff88d838-f193-40c7-93d4-591223aa3dd6 button');\n",
              "      quickchartButtonEl.style.display =\n",
              "        google.colab.kernel.accessAllowed ? 'block' : 'none';\n",
              "    })();\n",
              "  </script>\n",
              "</div>\n",
              "    </div>\n",
              "  </div>\n"
            ],
            "application/vnd.google.colaboratory.intrinsic+json": {
              "type": "dataframe",
              "summary": "{\n  \"name\": \"display(df[['tweet_text', 'cleaned_tweet']]\",\n  \"rows\": 5,\n  \"fields\": [\n    {\n      \"column\": \"tweet_text\",\n      \"properties\": {\n        \"dtype\": \"string\",\n        \"samples\": [\n          \"Ughhh layin downnnn    Waiting for zeina to cook breakfast\",\n          \"very sad that http://www.fabchannel.com/ has closed down. One of the few web services that I've used for over 5 years \",\n          \"@greeniebach I reckon he'll play, even if he's not 100%...but i know nothing!! ;) It won't be the same without him. \"\n        ],\n        \"num_unique_values\": 5,\n        \"semantic_type\": \"\",\n        \"description\": \"\"\n      }\n    },\n    {\n      \"column\": \"cleaned_tweet\",\n      \"properties\": {\n        \"dtype\": \"string\",\n        \"samples\": [\n          \"Ughhh layin downnnn Waiting for zeina to cook breakfast\",\n          \"very sad that has closed down One of the few web services that I ve used for over 5 years\",\n          \"I reckon he ll play even if he s not 100 but i know nothing It won t be the same without him\"\n        ],\n        \"num_unique_values\": 5,\n        \"semantic_type\": \"\",\n        \"description\": \"\"\n      }\n    }\n  ]\n}"
            }
          },
          "metadata": {}
        }
      ],
      "source": [
        "#Cleaning the data\n",
        "def clean_tweet(tweet):\n",
        "    tweet = re.sub(r'@[\\w]+', '', tweet)\n",
        "    tweet = re.sub(r'http\\S+', '', tweet)\n",
        "    tweet = re.sub(r'[^A-Za-z0-9]+', ' ', tweet)\n",
        "    tweet = ' '.join(tweet.split())\n",
        "    return tweet\n",
        "df['cleaned_tweet'] = df['tweet_text'].apply(clean_tweet)\n",
        "display(df[['tweet_text', 'cleaned_tweet']].head())"
      ]
    },
    {
      "cell_type": "code",
      "execution_count": 9,
      "id": "18354ba4-a7b4-41d3-a90f-c674029a97e9",
      "metadata": {
        "tags": [],
        "id": "18354ba4-a7b4-41d3-a90f-c674029a97e9",
        "outputId": "91f2fc4e-333e-4f65-f73b-f5087c69a65c",
        "colab": {
          "base_uri": "https://localhost:8080/"
        }
      },
      "outputs": [
        {
          "output_type": "stream",
          "name": "stdout",
          "text": [
            "Summary of Null or Empty Cleaned Tweets:\n",
            "<class 'pandas.core.frame.DataFrame'>\n",
            "Int64Index: 330 entries, 183 to 159158\n",
            "Data columns (total 4 columns):\n",
            " #   Column           Non-Null Count  Dtype \n",
            "---  ------           --------------  ----- \n",
            " 0   sentiment_label  330 non-null    int64 \n",
            " 1   tweet_text       330 non-null    object\n",
            " 2   text_length      330 non-null    int64 \n",
            " 3   cleaned_tweet    330 non-null    object\n",
            "dtypes: int64(2), object(2)\n",
            "memory usage: 12.9+ KB\n",
            "None\n",
            "Null values: \n",
            "\n",
            "sentiment_label    0\n",
            "tweet_text         0\n",
            "text_length        0\n",
            "cleaned_tweet      0\n",
            "dtype: int64\n"
          ]
        }
      ],
      "source": [
        "# Check for null or empty content\n",
        "null_cleaned_tweets = df[df['cleaned_tweet'].isnull() | (df['cleaned_tweet'] == '')]\n",
        "print(\"Summary of Null or Empty Cleaned Tweets:\")\n",
        "print(null_cleaned_tweets.info())\n",
        "print(f\"Null values: \\n\\n{df.isna().sum()}\")"
      ]
    },
    {
      "cell_type": "markdown",
      "source": [
        "### Tokienization"
      ],
      "metadata": {
        "id": "yCW1txoiknrZ"
      },
      "id": "yCW1txoiknrZ"
    },
    {
      "cell_type": "code",
      "source": [
        "tokenized_sequences = df['cleaned_tweet']\n",
        "tokenizer = Tokenizer()\n",
        "tokenizer.fit_on_texts(tokenized_sequences)\n",
        "# Convert text data to sequences of integers\n",
        "sequences = tokenizer.texts_to_sequences(tokenized_sequences)\n",
        "print(\"Sample Sequences:\", sequences[:2])\n",
        "print(f\"Word index length: {len(tokenizer.word_index)}\")\n",
        "some_words = list(tokenizer.word_index.keys())[:10]\n",
        "print(f\"Some words: {some_words}\")"
      ],
      "metadata": {
        "id": "V7FnF-zwU0Rt",
        "outputId": "0748ab25-491c-442d-fe7b-d73f935bbfdf",
        "colab": {
          "base_uri": "https://localhost:8080/"
        }
      },
      "id": "V7FnF-zwU0Rt",
      "execution_count": 10,
      "outputs": [
        {
          "output_type": "stream",
          "name": "stdout",
          "text": [
            "Sample Sequences: [[150, 636, 120, 322, 2, 8, 206, 66, 45, 1748, 12, 2193, 10, 358], [2194, 3973, 20681, 298, 10, 29220, 2, 1155, 523]]\n",
            "Word index length: 70393\n",
            "Some words: ['i', 'to', 'the', 'a', 'my', 'and', 'it', 'you', 'is', 'for']\n"
          ]
        }
      ]
    },
    {
      "cell_type": "code",
      "execution_count": 11,
      "id": "e2400fde-1d2f-4dd7-901b-4f0b507c494e",
      "metadata": {
        "tags": [],
        "id": "e2400fde-1d2f-4dd7-901b-4f0b507c494e",
        "outputId": "e692c42e-b7e0-4a15-dbd7-404f8d0145ef",
        "colab": {
          "base_uri": "https://localhost:8080/"
        }
      },
      "outputs": [
        {
          "output_type": "stream",
          "name": "stdout",
          "text": [
            "X_train: 128000\n",
            "X_test: 32000\n",
            " y_train: 128000\n",
            "y_test: 32000\n"
          ]
        }
      ],
      "source": [
        "X = sequences\n",
        "y = df['sentiment_label']\n",
        "X_train, X_test, y_train, y_test = train_test_split(X, y, test_size=0.2, random_state=42)\n",
        "print(\"X_train:\", len(X_train))\n",
        "print(\"X_test:\", len(X_test))\n",
        "print(\" y_train:\", len(y_train))\n",
        "print(\"y_test:\", len(y_test))"
      ]
    },
    {
      "cell_type": "code",
      "execution_count": 12,
      "id": "7dca7f68-0bcb-4e2b-ba6f-5a69124bb6d8",
      "metadata": {
        "tags": [],
        "id": "7dca7f68-0bcb-4e2b-ba6f-5a69124bb6d8",
        "outputId": "9bbfcc87-8244-4cf2-e29c-05ecec139bcd",
        "colab": {
          "base_uri": "https://localhost:8080/"
        }
      },
      "outputs": [
        {
          "output_type": "stream",
          "name": "stdout",
          "text": [
            "Maximum Token Length: 169\n"
          ]
        }
      ],
      "source": [
        "max_token_length = max(len(sequence) for sequence in tokenized_sequences)\n",
        "print(f\"Maximum Token Length: {max_token_length}\")"
      ]
    },
    {
      "cell_type": "markdown",
      "id": "0fb09529-6eab-4b2c-b9dc-874a1a1bbfcf",
      "metadata": {
        "id": "0fb09529-6eab-4b2c-b9dc-874a1a1bbfcf"
      },
      "source": [
        "### NEural network"
      ]
    },
    {
      "cell_type": "code",
      "execution_count": 13,
      "id": "ce80d5c9-aa1d-4d40-9d63-7d71c34c5ceb",
      "metadata": {
        "tags": [],
        "id": "ce80d5c9-aa1d-4d40-9d63-7d71c34c5ceb"
      },
      "outputs": [],
      "source": [
        "max_sequence_length = max(len(sequence) for sequence in X_train)\n",
        "X_train_padded = tf.keras.preprocessing.sequence.pad_sequences(X_train, maxlen=max_sequence_length)\n",
        "X_test_padded = tf.keras.preprocessing.sequence.pad_sequences(X_test, maxlen=max_sequence_length)\n",
        "glove_url = 'https://huggingface.co/stanfordnlp/glove/resolve/main/glove.twitter.27B.zip'\n",
        "# Create a directory to store the download files\n",
        "download_dir = 'glove_twitter'\n",
        "os.makedirs(download_dir, exist_ok=True)\n",
        "zip_file_path = os.path.join(download_dir, 'glove.twitter.27B.zip')\n",
        "urllib.request.urlretrieve(glove_url, zip_file_path)\n",
        "with ZipFile(zip_file_path, 'r') as zip_ref:\n",
        "    zip_ref.extractall(download_dir)\n",
        "\n",
        "glove_embeddings_path = os.path.join(download_dir, 'glove.twitter.27B.200d.txt')\n",
        "# Load the pre-trained GloVe\n",
        "embeddings_index = {}\n",
        "with open(glove_embeddings_path, 'r', encoding='utf-8') as file:\n",
        "    for line in file:\n",
        "        values = line.split()\n",
        "        word = values[0]\n",
        "        coefs = np.asarray(values[1:], dtype='float32')\n",
        "        embeddings_index[word] = coefs"
      ]
    },
    {
      "cell_type": "code",
      "execution_count": 14,
      "id": "41eddee2-73d3-4af4-8540-afe8bd5bfa48",
      "metadata": {
        "tags": [],
        "id": "41eddee2-73d3-4af4-8540-afe8bd5bfa48"
      },
      "outputs": [],
      "source": [
        "embedding_dim = len(embeddings_index.get('a'))\n",
        "num_words = len(tokenizer.word_index) + 1\n",
        "embedding_matrix = np.zeros((num_words, embedding_dim))\n",
        "for word, i in tokenizer.word_index.items():\n",
        "    embedding_vector = embeddings_index.get(word)\n",
        "    if embedding_vector is not None:\n",
        "        embedding_matrix[i] = embedding_vector"
      ]
    },
    {
      "cell_type": "code",
      "source": [
        "# Neural network model with GloVe embeddings\n",
        "model = Sequential([\n",
        "    Embedding(input_dim=num_words, output_dim=embedding_dim, weights=[embedding_matrix], input_length=max_sequence_length, trainable=False),\n",
        "    Flatten(), Dense(1, activation='sigmoid')])\n",
        "model.compile(optimizer='adam', loss='binary_crossentropy', metrics=['acc'])\n",
        "history = model.fit(X_train_padded, y_train, epochs=10, validation_data=(X_test_padded, y_test))"
      ],
      "metadata": {
        "id": "xKQ9SbB4mzpF",
        "outputId": "3fe4df32-4d4b-49e7-923f-51334efbbbf4",
        "colab": {
          "base_uri": "https://localhost:8080/"
        }
      },
      "id": "xKQ9SbB4mzpF",
      "execution_count": 15,
      "outputs": [
        {
          "output_type": "stream",
          "name": "stdout",
          "text": [
            "Epoch 1/10\n",
            "4000/4000 [==============================] - 18s 4ms/step - loss: 0.5287 - acc: 0.7421 - val_loss: 0.5223 - val_acc: 0.7467\n",
            "Epoch 2/10\n",
            "4000/4000 [==============================] - 26s 6ms/step - loss: 0.5033 - acc: 0.7603 - val_loss: 0.5216 - val_acc: 0.7476\n",
            "Epoch 3/10\n",
            "4000/4000 [==============================] - 27s 7ms/step - loss: 0.4985 - acc: 0.7639 - val_loss: 0.5224 - val_acc: 0.7530\n",
            "Epoch 4/10\n",
            "4000/4000 [==============================] - 24s 6ms/step - loss: 0.4964 - acc: 0.7655 - val_loss: 0.5240 - val_acc: 0.7525\n",
            "Epoch 5/10\n",
            "4000/4000 [==============================] - 19s 5ms/step - loss: 0.4949 - acc: 0.7676 - val_loss: 0.5269 - val_acc: 0.7533\n",
            "Epoch 6/10\n",
            "4000/4000 [==============================] - 21s 5ms/step - loss: 0.4947 - acc: 0.7670 - val_loss: 0.5273 - val_acc: 0.7521\n",
            "Epoch 7/10\n",
            "4000/4000 [==============================] - 18s 5ms/step - loss: 0.4943 - acc: 0.7675 - val_loss: 0.5338 - val_acc: 0.7503\n",
            "Epoch 8/10\n",
            "4000/4000 [==============================] - 22s 6ms/step - loss: 0.4935 - acc: 0.7670 - val_loss: 0.5298 - val_acc: 0.7521\n",
            "Epoch 9/10\n",
            "4000/4000 [==============================] - 18s 4ms/step - loss: 0.4930 - acc: 0.7677 - val_loss: 0.5314 - val_acc: 0.7510\n",
            "Epoch 10/10\n",
            "4000/4000 [==============================] - 22s 5ms/step - loss: 0.4927 - acc: 0.7679 - val_loss: 0.5365 - val_acc: 0.7484\n"
          ]
        }
      ]
    },
    {
      "cell_type": "code",
      "execution_count": 16,
      "id": "07c8d806-9f21-4235-a14d-d3575c4623bd",
      "metadata": {
        "tags": [],
        "id": "07c8d806-9f21-4235-a14d-d3575c4623bd",
        "outputId": "574c11a2-e215-4344-8a06-57118bfe7cc6",
        "colab": {
          "base_uri": "https://localhost:8080/"
        }
      },
      "outputs": [
        {
          "output_type": "stream",
          "name": "stdout",
          "text": [
            "Model: \"sequential\"\n",
            "_________________________________________________________________\n",
            " Layer (type)                Output Shape              Param #   \n",
            "=================================================================\n",
            " embedding (Embedding)       (None, 46, 200)           14078800  \n",
            "                                                                 \n",
            " flatten (Flatten)           (None, 9200)              0         \n",
            "                                                                 \n",
            " dense (Dense)               (None, 1)                 9201      \n",
            "                                                                 \n",
            "=================================================================\n",
            "Total params: 14088001 (53.74 MB)\n",
            "Trainable params: 9201 (35.94 KB)\n",
            "Non-trainable params: 14078800 (53.71 MB)\n",
            "_________________________________________________________________\n"
          ]
        }
      ],
      "source": [
        "model.summary()"
      ]
    },
    {
      "cell_type": "code",
      "source": [
        "plot_model(model, to_file='rnn_model.png', show_shapes=True, show_layer_names=True, expand_nested=True)"
      ],
      "metadata": {
        "id": "mlRv325iimvu",
        "outputId": "f986dab7-30bc-4ef7-b1b5-e35bb253b7bd",
        "colab": {
          "base_uri": "https://localhost:8080/",
          "height": 422
        }
      },
      "id": "mlRv325iimvu",
      "execution_count": 17,
      "outputs": [
        {
          "output_type": "execute_result",
          "data": {
            "image/png": "[encoded data removed]",
            "text/plain": [
              "<IPython.core.display.Image object>"
            ]
          },
          "metadata": {},
          "execution_count": 17
        }
      ]
    },
    {
      "cell_type": "code",
      "execution_count": 18,
      "id": "a47f46bf-6cd6-4134-ae14-b22718846452",
      "metadata": {
        "tags": [],
        "id": "a47f46bf-6cd6-4134-ae14-b22718846452",
        "outputId": "1e2891aa-0a06-4382-a46e-9c3f16a0d5c5",
        "colab": {
          "base_uri": "https://localhost:8080/",
          "height": 449
        }
      },
      "outputs": [
        {
          "output_type": "display_data",
          "data": {
            "text/plain": [
              "<Figure size 640x480 with 1 Axes>"
            ],
            "image/png": "[encoded data removed]"
          },
          "metadata": {}
        }
      ],
      "source": [
        "# Plot\n",
        "plt.plot(history.history['loss'], label='Training Loss')\n",
        "plt.plot(history.history['val_loss'], label='Validation Loss')\n",
        "plt.xlabel('Epoch')\n",
        "plt.ylabel('Loss')\n",
        "plt.legend()\n",
        "plt.show()"
      ]
    },
    {
      "cell_type": "markdown",
      "id": "ba3da09c-46ee-453d-9a67-9a385c145d62",
      "metadata": {
        "id": "ba3da09c-46ee-453d-9a67-9a385c145d62"
      },
      "source": [
        "### Convolutional Neural Network (CNN):"
      ]
    },
    {
      "cell_type": "code",
      "execution_count": 19,
      "id": "586faa6e-ce94-4380-9927-52c6ecc592ec",
      "metadata": {
        "tags": [],
        "id": "586faa6e-ce94-4380-9927-52c6ecc592ec",
        "outputId": "bb33e28b-4907-4700-b1f3-436696f6019d",
        "colab": {
          "base_uri": "https://localhost:8080/"
        }
      },
      "outputs": [
        {
          "output_type": "stream",
          "name": "stdout",
          "text": [
            "Epoch 1/10\n",
            "4000/4000 [==============================] - 231s 58ms/step - loss: 0.6659 - acc: 0.5594 - val_loss: 0.6628 - val_acc: 0.5499\n",
            "Epoch 2/10\n",
            "4000/4000 [==============================] - 224s 56ms/step - loss: 0.6598 - acc: 0.5655 - val_loss: 0.6599 - val_acc: 0.5650\n",
            "Epoch 3/10\n",
            "4000/4000 [==============================] - 225s 56ms/step - loss: 0.6560 - acc: 0.5688 - val_loss: 0.6608 - val_acc: 0.5649\n",
            "Epoch 4/10\n",
            "4000/4000 [==============================] - 249s 62ms/step - loss: 0.6522 - acc: 0.5726 - val_loss: 0.6613 - val_acc: 0.5647\n",
            "Epoch 5/10\n",
            "4000/4000 [==============================] - 223s 56ms/step - loss: 0.6485 - acc: 0.5755 - val_loss: 0.6668 - val_acc: 0.5632\n",
            "Epoch 6/10\n",
            "4000/4000 [==============================] - 227s 57ms/step - loss: 0.6452 - acc: 0.5779 - val_loss: 0.6648 - val_acc: 0.5630\n",
            "Epoch 7/10\n",
            "4000/4000 [==============================] - 225s 56ms/step - loss: 0.6418 - acc: 0.5800 - val_loss: 0.6667 - val_acc: 0.5635\n",
            "Epoch 8/10\n",
            "4000/4000 [==============================] - 225s 56ms/step - loss: 0.6388 - acc: 0.5825 - val_loss: 0.6700 - val_acc: 0.5623\n",
            "Epoch 9/10\n",
            "4000/4000 [==============================] - 242s 60ms/step - loss: 0.6360 - acc: 0.5843 - val_loss: 0.6720 - val_acc: 0.5614\n",
            "Epoch 10/10\n",
            "4000/4000 [==============================] - 245s 61ms/step - loss: 0.6334 - acc: 0.5862 - val_loss: 0.6731 - val_acc: 0.5605\n",
            "1000/1000 [==============================] - 16s 16ms/step - loss: 0.6731 - acc: 0.5605\n",
            "Test Accuracy: 56.05%\n",
            "Test Loss: 0.6731\n"
          ]
        }
      ],
      "source": [
        "modelCNN = Sequential([\n",
        "    Embedding(input_dim=num_words, output_dim=embedding_dim, weights=[embedding_matrix], input_length=max_sequence_length, trainable=False),\n",
        "    Conv1D(128, 5, activation='relu'), Conv1D(128, 3, activation='relu'), Dense(64, activation='relu'), Dense(128, activation='relu'),\n",
        "    Dense(1, activation='sigmoid')])\n",
        "\n",
        "modelCNN.compile(optimizer='adam', loss='binary_crossentropy', metrics=['acc'])\n",
        "historyCNN = modelCNN.fit(X_train_padded, y_train, epochs=10, validation_data=(X_test_padded, y_test))\n",
        "test_loss, test_accuracy = modelCNN.evaluate(X_test_padded, y_test)\n",
        "print(f'Test Accuracy: {test_accuracy * 100:.2f}%')\n",
        "print(f'Test Loss: {test_loss:.4f}')"
      ]
    },
    {
      "cell_type": "code",
      "execution_count": 20,
      "id": "c7b0f10e-34b5-4a51-b74c-b6c6495e1dfe",
      "metadata": {
        "tags": [],
        "id": "c7b0f10e-34b5-4a51-b74c-b6c6495e1dfe",
        "outputId": "3ea43e67-45db-4922-d85d-95b81b887413",
        "colab": {
          "base_uri": "https://localhost:8080/"
        }
      },
      "outputs": [
        {
          "output_type": "stream",
          "name": "stdout",
          "text": [
            "Model: \"sequential_1\"\n",
            "_________________________________________________________________\n",
            " Layer (type)                Output Shape              Param #   \n",
            "=================================================================\n",
            " embedding_1 (Embedding)     (None, 46, 200)           14078800  \n",
            "                                                                 \n",
            " conv1d (Conv1D)             (None, 42, 128)           128128    \n",
            "                                                                 \n",
            " conv1d_1 (Conv1D)           (None, 40, 128)           49280     \n",
            "                                                                 \n",
            " dense_1 (Dense)             (None, 40, 64)            8256      \n",
            "                                                                 \n",
            " dense_2 (Dense)             (None, 40, 128)           8320      \n",
            "                                                                 \n",
            " dense_3 (Dense)             (None, 40, 1)             129       \n",
            "                                                                 \n",
            "=================================================================\n",
            "Total params: 14272913 (54.45 MB)\n",
            "Trainable params: 194113 (758.25 KB)\n",
            "Non-trainable params: 14078800 (53.71 MB)\n",
            "_________________________________________________________________\n"
          ]
        }
      ],
      "source": [
        "modelCNN.summary()"
      ]
    },
    {
      "cell_type": "code",
      "source": [
        "plot_model(modelCNN, to_file='rnn_model.png', show_shapes=True, show_layer_names=True, expand_nested=True)"
      ],
      "metadata": {
        "id": "AQIcvX9SikhJ",
        "outputId": "c69e4808-5644-456c-949b-d83a72e87143",
        "colab": {
          "base_uri": "https://localhost:8080/",
          "height": 754
        }
      },
      "id": "AQIcvX9SikhJ",
      "execution_count": 21,
      "outputs": [
        {
          "output_type": "execute_result",
          "data": {
            "image/png": "[encoded data removed]",
            "text/plain": [
              "<IPython.core.display.Image object>"
            ]
          },
          "metadata": {},
          "execution_count": 21
        }
      ]
    },
    {
      "cell_type": "code",
      "execution_count": 22,
      "id": "625e44cc-e715-4191-93f3-6312357a8f4d",
      "metadata": {
        "tags": [],
        "id": "625e44cc-e715-4191-93f3-6312357a8f4d",
        "outputId": "6ac26c16-d068-454a-d649-9cc4738c371f",
        "colab": {
          "base_uri": "https://localhost:8080/",
          "height": 454
        }
      },
      "outputs": [
        {
          "output_type": "display_data",
          "data": {
            "text/plain": [
              "<Figure size 640x480 with 1 Axes>"
            ],
            "image/png": "[encoded data removed]"
          },
          "metadata": {}
        }
      ],
      "source": [
        "# Plot\n",
        "plt.plot(historyCNN.history['loss'], label='Training Loss')\n",
        "plt.plot(historyCNN.history['val_loss'], label='Validation Loss')\n",
        "plt.xlabel('Epoch')\n",
        "plt.ylabel('Loss')\n",
        "plt.legend()\n",
        "plt.show()"
      ]
    },
    {
      "cell_type": "code",
      "execution_count": 23,
      "id": "22707317-083d-46a9-9d2c-3f26668e5803",
      "metadata": {
        "tags": [],
        "id": "22707317-083d-46a9-9d2c-3f26668e5803",
        "outputId": "f0528cfa-26d3-44d1-b114-c6f39c9dd353",
        "colab": {
          "base_uri": "https://localhost:8080/",
          "height": 472
        }
      },
      "outputs": [
        {
          "output_type": "display_data",
          "data": {
            "text/plain": [
              "<Figure size 640x480 with 1 Axes>"
            ],
            "image/png": "[encoded data removed]"
          },
          "metadata": {}
        }
      ],
      "source": [
        "accuracy = historyCNN.history['acc']\n",
        "val_accuracy = historyCNN.history['val_acc']\n",
        "epochs = range(1, len(accuracy) + 1)\n",
        "plt.plot(epochs, accuracy, 'bo', label='Training accuracy')\n",
        "plt.plot(epochs, val_accuracy, 'b', label='Validation accuracy')\n",
        "plt.title('Training and validation accuracy')\n",
        "plt.xlabel('Epochs')\n",
        "plt.ylabel('Accuracy')\n",
        "plt.legend()\n",
        "plt.show()"
      ]
    },
    {
      "cell_type": "markdown",
      "id": "d76d78d8-c4c5-4053-b791-c26048629c3f",
      "metadata": {
        "id": "d76d78d8-c4c5-4053-b791-c26048629c3f"
      },
      "source": [
        "### RNN"
      ]
    },
    {
      "cell_type": "code",
      "execution_count": 24,
      "id": "74e2e94c-46b7-4fcd-8c7a-ec90a1f48e9c",
      "metadata": {
        "tags": [],
        "id": "74e2e94c-46b7-4fcd-8c7a-ec90a1f48e9c"
      },
      "outputs": [],
      "source": [
        "max_length = max(len(seq) for seq in sequences)\n",
        "padded_sequences = pad_sequences(sequences, maxlen=max_length, padding='post')\n",
        "modelRNN = Sequential()\n",
        "modelRNN.add(Embedding(input_dim=len(tokenizer.word_index) + 1, output_dim=embedding_dim, input_length=max_length))\n",
        "modelRNN.add(SimpleRNN(units=64, activation='relu', return_sequences=True))  # Return sequences to connect multiple SimpleRNN layers\n",
        "modelRNN.add(SimpleRNN(units=128, activation='relu'))\n",
        "modelRNN.add(Dense(units=1, activation='sigmoid'))\n",
        "modelRNN.compile(optimizer='adam', loss='binary_crossentropy', metrics=['acc'])"
      ]
    },
    {
      "cell_type": "code",
      "execution_count": null,
      "id": "704438c9-c613-4b48-8330-44aa8f196c8c",
      "metadata": {
        "tags": [],
        "id": "704438c9-c613-4b48-8330-44aa8f196c8c",
        "outputId": "a64ac8f9-3789-4b3a-b719-195093b4f8d8",
        "colab": {
          "base_uri": "https://localhost:8080/"
        }
      },
      "outputs": [
        {
          "output_type": "stream",
          "name": "stdout",
          "text": [
            "Epoch 1/10\n",
            "4000/4000 [==============================] - 2189s 546ms/step - loss: 0.4776 - acc: 0.7713 - val_loss: 0.4453 - val_acc: 0.7914\n",
            "Epoch 2/10\n",
            "4000/4000 [==============================] - 2242s 560ms/step - loss: 0.3611 - acc: 0.8420 - val_loss: 0.4533 - val_acc: 0.7925\n",
            "Epoch 3/10\n",
            "3409/4000 [========================>.....] - ETA: 5:30 - loss: 0.2758 - acc: 0.8830"
          ]
        }
      ],
      "source": [
        "epochs = 10\n",
        "historyRNN = modelRNN.fit(X_train_padded, y_train, epochs=epochs, validation_data=(X_test_padded, y_test))"
      ]
    },
    {
      "cell_type": "code",
      "execution_count": null,
      "id": "50734136-56a4-4992-ba7f-8f687d4856ec",
      "metadata": {
        "id": "50734136-56a4-4992-ba7f-8f687d4856ec"
      },
      "outputs": [],
      "source": [
        "test_loss, test_accuracy = modelRNN.evaluate(X_test_padded, y_test)\n",
        "print(f'Test Accuracy: {test_accuracy:.4f}')"
      ]
    },
    {
      "cell_type": "code",
      "source": [
        "plt.plot(historyRNN.history['loss'])\n",
        "plt.plot(historyRNN.history['val_loss'])\n",
        "plt.title('Model Loss')\n",
        "plt.ylabel('Loss')\n",
        "plt.xlabel('Epoch')\n",
        "plt.legend(['Train', 'Validation'], loc='upper right')\n",
        "plt.show()"
      ],
      "metadata": {
        "id": "ewYWJTf_iT15"
      },
      "id": "ewYWJTf_iT15",
      "execution_count": null,
      "outputs": []
    },
    {
      "cell_type": "code",
      "source": [
        "plot_model(modelRNN, to_file='rnn_model.png', show_shapes=True, show_layer_names=True, expand_nested=True)"
      ],
      "metadata": {
        "id": "f7n4dLh4idFs"
      },
      "id": "f7n4dLh4idFs",
      "execution_count": null,
      "outputs": []
    },
    {
      "cell_type": "code",
      "source": [
        "accuracy = historyRNN.history['acc']\n",
        "val_accuracy = historyRNN.history['val_acc']\n",
        "epochs = range(1, len(accuracy) + 1)\n",
        "plt.plot(epochs, accuracy, 'bo', label='Training accuracy')\n",
        "plt.plot(epochs, val_accuracy, 'b', label='Validation accuracy')\n",
        "plt.title('Training and validation accuracy')\n",
        "plt.xlabel('Epochs')\n",
        "plt.ylabel('Accuracy')\n",
        "plt.legend()\n",
        "plt.show()"
      ],
      "metadata": {
        "id": "xPzq633xq_d1"
      },
      "id": "xPzq633xq_d1",
      "execution_count": null,
      "outputs": []
    }
  ],
  "metadata": {
    "kernelspec": {
      "display_name": "Python 3",
      "name": "python3"
    },
    "language_info": {
      "codemirror_mode": {
        "name": "ipython",
        "version": 3
      },
      "file_extension": ".py",
      "mimetype": "text/x-python",
      "name": "python",
      "nbconvert_exporter": "python",
      "pygments_lexer": "ipython3",
      "version": "3.11.4"
    },
    "colab": {
      "provenance": [],
      "include_colab_link": true
    }
  },
  "nbformat": 4,
  "nbformat_minor": 5
}