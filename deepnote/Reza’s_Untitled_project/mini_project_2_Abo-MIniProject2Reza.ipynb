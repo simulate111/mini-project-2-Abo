{
  "cells": [
    {
      "cell_type": "markdown",
      "source": "<a href=\"https://colab.research.google.com/github/simulate111/mini-project-2-Abo/blob/main/MIniProject2Reza.ipynb\" target=\"_parent\"><img src=\"https://colab.research.google.com/assets/colab-badge.svg\" alt=\"Open In Colab\"/></a>",
      "metadata": {
        "id": "view-in-github",
        "colab_type": "text",
        "cell_id": "804965a526604a67a0dc79f059a29252",
        "deepnote_cell_type": "markdown"
      },
      "block_group": "c966cbc63f244416ae82fc3831b81692"
    },
    {
      "cell_type": "markdown",
      "source": "Libraries",
      "metadata": {
        "id": "Lk9NblgWlijE",
        "cell_id": "8a17b0ce4b2c494ab41726be62551cd6",
        "deepnote_cell_type": "markdown"
      },
      "block_group": "9ad34e60a87d40adb3f2333543bfa56f"
    },
    {
      "cell_type": "code",
      "source": "import pandas as pd\nimport matplotlib.pyplot as plt\nimport re\nfrom tensorflow.keras.preprocessing.text import Tokenizer\nfrom sklearn.model_selection import train_test_split\nfrom tensorflow.keras.utils import plot_model\nimport numpy as np\nimport tensorflow as tf\nfrom tensorflow.keras.models import Sequential\nfrom tensorflow.keras.layers import Embedding, Flatten, Dense, Conv1D, SimpleRNN\nfrom zipfile import ZipFile\nimport urllib.request\nimport os\nfrom tensorflow.keras.preprocessing.sequence import pad_sequences",
      "metadata": {
        "id": "wnYDtAsHixPR",
        "source_hash": "3bc4146c",
        "execution_start": 1707937626532,
        "execution_millis": 4887,
        "deepnote_to_be_reexecuted": false,
        "cell_id": "313d097edcef4dbdb666e8ce3cd4801d",
        "deepnote_cell_type": "code"
      },
      "outputs": [
        {
          "name": "stderr",
          "text": "2024-02-14 19:07:08.524167: I tensorflow/core/platform/cpu_feature_guard.cc:193] This TensorFlow binary is optimized with oneAPI Deep Neural Network Library (oneDNN) to use the following CPU instructions in performance-critical operations:  AVX2 FMA\nTo enable them in other operations, rebuild TensorFlow with the appropriate compiler flags.\n2024-02-14 19:07:08.798155: W tensorflow/stream_executor/platform/default/dso_loader.cc:64] Could not load dynamic library 'libcudart.so.11.0'; dlerror: libcudart.so.11.0: cannot open shared object file: No such file or directory\n2024-02-14 19:07:08.798191: I tensorflow/stream_executor/cuda/cudart_stub.cc:29] Ignore above cudart dlerror if you do not have a GPU set up on your machine.\n2024-02-14 19:07:08.869063: E tensorflow/stream_executor/cuda/cuda_blas.cc:2981] Unable to register cuBLAS factory: Attempting to register factory for plugin cuBLAS when one has already been registered\n2024-02-14 19:07:09.804690: W tensorflow/stream_executor/platform/default/dso_loader.cc:64] Could not load dynamic library 'libnvinfer.so.7'; dlerror: libnvinfer.so.7: cannot open shared object file: No such file or directory\n2024-02-14 19:07:09.804761: W tensorflow/stream_executor/platform/default/dso_loader.cc:64] Could not load dynamic library 'libnvinfer_plugin.so.7'; dlerror: libnvinfer_plugin.so.7: cannot open shared object file: No such file or directory\n2024-02-14 19:07:09.804770: W tensorflow/compiler/tf2tensorrt/utils/py_utils.cc:38] TF-TRT Warning: Cannot dlopen some TensorRT libraries. If you would like to use Nvidia GPU with TensorRT, please make sure the missing libraries mentioned above are installed properly.\n",
          "output_type": "stream"
        }
      ],
      "outputs_reference": null,
      "execution_count": 1,
      "block_group": "781a58868a1347b88534e4c269733309"
    },
    {
      "cell_type": "code",
      "source": "file_path = 'https://raw.githubusercontent.com/simulate111/mini-project-2-Abo/main/Sentiment140.tenPercent.sample.tweets.tsv'\ndf = pd.read_csv(file_path, sep='\\t', header=0)\ndisplay(df.head())\ndf.info()",
      "metadata": {
        "id": "93d3d731-0939-4948-bb10-5e828d9fdb21",
        "tags": [],
        "colab": {
          "height": 362,
          "base_uri": "https://localhost:8080/"
        },
        "outputId": "b47c8b75-3be5-4f22-afb0-33f99e01f788",
        "source_hash": "d92182f6",
        "execution_start": 1707937631425,
        "execution_millis": 486,
        "deepnote_to_be_reexecuted": false,
        "cell_id": "1145b7c24ac645e8b5742efe424a5a2b",
        "deepnote_cell_type": "code"
      },
      "outputs": [
        {
          "data": {
            "application/vnd.deepnote.dataframe.v3+json": {
              "column_count": 2,
              "row_count": 5,
              "columns": [
                {
                  "name": "sentiment_label",
                  "dtype": "int64",
                  "stats": {
                    "unique_count": 2,
                    "nan_count": 0,
                    "min": "0",
                    "max": "4",
                    "histogram": [
                      {
                        "bin_start": 0,
                        "bin_end": 0.4,
                        "count": 3
                      },
                      {
                        "bin_start": 0.4,
                        "bin_end": 0.8,
                        "count": 0
                      },
                      {
                        "bin_start": 0.8,
                        "bin_end": 1.2000000000000002,
                        "count": 0
                      },
                      {
                        "bin_start": 1.2000000000000002,
                        "bin_end": 1.6,
                        "count": 0
                      },
                      {
                        "bin_start": 1.6,
                        "bin_end": 2,
                        "count": 0
                      },
                      {
                        "bin_start": 2,
                        "bin_end": 2.4000000000000004,
                        "count": 0
                      },
                      {
                        "bin_start": 2.4000000000000004,
                        "bin_end": 2.8000000000000003,
                        "count": 0
                      },
                      {
                        "bin_start": 2.8000000000000003,
                        "bin_end": 3.2,
                        "count": 0
                      },
                      {
                        "bin_start": 3.2,
                        "bin_end": 3.6,
                        "count": 0
                      },
                      {
                        "bin_start": 3.6,
                        "bin_end": 4,
                        "count": 2
                      }
                    ]
                  }
                },
                {
                  "name": "tweet_text",
                  "dtype": "object",
                  "stats": {
                    "unique_count": 5,
                    "nan_count": 0,
                    "categories": [
                      {
                        "name": "@elephantbird Hey dear, Happy Friday to You  Already had your rice's bowl for lunch ?",
                        "count": 1
                      },
                      {
                        "name": "Ughhh layin downnnn    Waiting for zeina to cook breakfast",
                        "count": 1
                      },
                      {
                        "name": "3 others",
                        "count": 3
                      }
                    ]
                  }
                },
                {
                  "name": "_deepnote_index_column",
                  "dtype": "int64"
                }
              ],
              "rows": [
                {
                  "sentiment_label": 4,
                  "tweet_text": "@elephantbird Hey dear, Happy Friday to You  Already had your rice's bowl for lunch ?",
                  "_deepnote_index_column": 0
                },
                {
                  "sentiment_label": 4,
                  "tweet_text": "Ughhh layin downnnn    Waiting for zeina to cook breakfast",
                  "_deepnote_index_column": 1
                },
                {
                  "sentiment_label": 0,
                  "tweet_text": "@greeniebach I reckon he'll play, even if he's not 100%...but i know nothing!! ;) It won't be the same without him. ",
                  "_deepnote_index_column": 2
                },
                {
                  "sentiment_label": 0,
                  "tweet_text": "@vaLewee I know!  Saw it on the news!",
                  "_deepnote_index_column": 3
                },
                {
                  "sentiment_label": 0,
                  "tweet_text": "very sad that http://www.fabchannel.com/ has closed down. One of the few web services that I've used for over 5 years ",
                  "_deepnote_index_column": 4
                }
              ]
            },
            "text/plain": "   sentiment_label                                         tweet_text\n0                4  @elephantbird Hey dear, Happy Friday to You  A...\n1                4  Ughhh layin downnnn    Waiting for zeina to co...\n2                0  @greeniebach I reckon he'll play, even if he's...\n3                0              @vaLewee I know!  Saw it on the news!\n4                0  very sad that http://www.fabchannel.com/ has c...",
            "text/html": "<div>\n<style scoped>\n    .dataframe tbody tr th:only-of-type {\n        vertical-align: middle;\n    }\n\n    .dataframe tbody tr th {\n        vertical-align: top;\n    }\n\n    .dataframe thead th {\n        text-align: right;\n    }\n</style>\n<table border=\"1\" class=\"dataframe\">\n  <thead>\n    <tr style=\"text-align: right;\">\n      <th></th>\n      <th>sentiment_label</th>\n      <th>tweet_text</th>\n    </tr>\n  </thead>\n  <tbody>\n    <tr>\n      <th>0</th>\n      <td>4</td>\n      <td>@elephantbird Hey dear, Happy Friday to You  A...</td>\n    </tr>\n    <tr>\n      <th>1</th>\n      <td>4</td>\n      <td>Ughhh layin downnnn    Waiting for zeina to co...</td>\n    </tr>\n    <tr>\n      <th>2</th>\n      <td>0</td>\n      <td>@greeniebach I reckon he'll play, even if he's...</td>\n    </tr>\n    <tr>\n      <th>3</th>\n      <td>0</td>\n      <td>@vaLewee I know!  Saw it on the news!</td>\n    </tr>\n    <tr>\n      <th>4</th>\n      <td>0</td>\n      <td>very sad that http://www.fabchannel.com/ has c...</td>\n    </tr>\n  </tbody>\n</table>\n</div>"
          },
          "metadata": {},
          "output_type": "display_data"
        },
        {
          "name": "stdout",
          "text": "<class 'pandas.core.frame.DataFrame'>\nRangeIndex: 160000 entries, 0 to 159999\nData columns (total 2 columns):\n #   Column           Non-Null Count   Dtype \n---  ------           --------------   ----- \n 0   sentiment_label  160000 non-null  int64 \n 1   tweet_text       160000 non-null  object\ndtypes: int64(1), object(1)\nmemory usage: 2.4+ MB\n",
          "output_type": "stream"
        }
      ],
      "outputs_reference": null,
      "execution_count": 2,
      "block_group": "7f9d9ef5341940aca61de76a23e60c9c"
    },
    {
      "cell_type": "code",
      "source": "sentiment_label_counts = df['sentiment_label'].value_counts()\nprint(sentiment_label_counts)",
      "metadata": {
        "id": "79a88430-670a-471d-ae5e-37a0e3d268dd",
        "tags": [],
        "colab": {
          "base_uri": "https://localhost:8080/"
        },
        "outputId": "a247d446-f572-4b18-cc62-f82ecba92a84",
        "source_hash": "7a4c4e9",
        "execution_start": 1707937631919,
        "execution_millis": 347,
        "deepnote_to_be_reexecuted": false,
        "cell_id": "2088841a339248fdb99de1f8eaa266fb",
        "deepnote_cell_type": "code"
      },
      "outputs": [
        {
          "name": "stdout",
          "text": "0    80000\n4    80000\nName: sentiment_label, dtype: int64\n",
          "output_type": "stream"
        }
      ],
      "outputs_reference": null,
      "execution_count": 3,
      "block_group": "373e6bafd5664122ba7c84b1f95dcf8e"
    },
    {
      "cell_type": "code",
      "source": "sentiment_label_counts = df['sentiment_label'].value_counts()\nplt.pie(sentiment_label_counts, labels=sentiment_label_counts.index, autopct=lambda p: '{:.0f} ({:.1f}%)'.format(p * sentiment_label_counts.sum() / 100, p),\n        startangle=140, colors=plt.cm.Paired.colors)\nplt.title('Sentiment Label Distribution')\nplt.show()",
      "metadata": {
        "id": "ca4f8e1a-0de9-4a84-9471-578c8a9c3a8d",
        "tags": [],
        "colab": {
          "height": 428,
          "base_uri": "https://localhost:8080/"
        },
        "outputId": "bd1c5502-1604-43de-c6fb-f4fd27765d2a",
        "source_hash": "21c1fa03",
        "execution_start": 1707937631928,
        "execution_millis": 338,
        "deepnote_to_be_reexecuted": false,
        "cell_id": "942cbcc1f02044208aa5905d6566354f",
        "deepnote_cell_type": "code"
      },
      "outputs": [
        {
          "data": {
            "text/plain": "<Figure size 640x480 with 1 Axes>",
            "image/png": "[encoded data removed]"
          },
          "metadata": {
            "image/png": {
              "width": 389,
              "height": 411
            }
          },
          "output_type": "display_data"
        }
      ],
      "outputs_reference": null,
      "execution_count": 4,
      "block_group": "920d27def2d546b59ca256e3ff4c08a5"
    },
    {
      "cell_type": "code",
      "source": "missing_values = df.isnull().sum()\nprint(\"Missing Values:\")\nprint(missing_values)",
      "metadata": {
        "id": "a9f04de2-6348-48ee-a4c3-6271f65cb8a8",
        "tags": [],
        "colab": {
          "base_uri": "https://localhost:8080/"
        },
        "outputId": "656c73b4-0e59-4b4c-ade5-0a1931204741",
        "source_hash": "ed761e5d",
        "execution_start": 1707937632087,
        "execution_millis": 386,
        "deepnote_to_be_reexecuted": false,
        "cell_id": "8abfdb5218164730970d9f78e9dfdcc6",
        "deepnote_cell_type": "code"
      },
      "outputs": [
        {
          "name": "stdout",
          "text": "Missing Values:\nsentiment_label    0\ntweet_text         0\ndtype: int64\n",
          "output_type": "stream"
        }
      ],
      "outputs_reference": null,
      "execution_count": 5,
      "block_group": "d8e8171f97514ab09653b5cc6fdb46c8"
    },
    {
      "cell_type": "code",
      "source": "df['text_length'] = df['tweet_text'].apply(len)\nprint(\"Text Length Summary:\")\nprint(df['text_length'].describe())",
      "metadata": {
        "id": "9cd6e08d-0d56-489f-8418-0d8bceafb7ac",
        "tags": [],
        "colab": {
          "base_uri": "https://localhost:8080/"
        },
        "outputId": "02cd0503-a9c4-4446-943e-89538ab4c6be",
        "source_hash": "1fd05a73",
        "execution_start": 1707937632182,
        "execution_millis": 292,
        "deepnote_to_be_reexecuted": false,
        "cell_id": "6107f3165ef6451097dede93ed0fc5a1",
        "deepnote_cell_type": "code"
      },
      "outputs": [
        {
          "name": "stdout",
          "text": "Text Length Summary:\ncount    160000.000000\nmean         74.113481\nstd          36.440383\nmin           6.000000\n25%          44.000000\n50%          69.000000\n75%         104.000000\nmax         186.000000\nName: text_length, dtype: float64\n",
          "output_type": "stream"
        }
      ],
      "outputs_reference": null,
      "execution_count": 6,
      "block_group": "a6cad54405014d53b2710a8748987fdd"
    },
    {
      "cell_type": "code",
      "source": "df['sentiment_label'] = df['sentiment_label'].replace({4: 1})\ndisplay(df.head())",
      "metadata": {
        "id": "bb405191-67ae-4bdc-a5e5-203635b7e22b",
        "tags": [],
        "colab": {
          "height": 206,
          "base_uri": "https://localhost:8080/"
        },
        "outputId": "bbc7bae2-6238-4732-dcca-4e64cc17eca3",
        "source_hash": "b2b337a0",
        "execution_start": 1707937632264,
        "execution_millis": 210,
        "deepnote_to_be_reexecuted": false,
        "cell_id": "6370329a735d459e9f79d0976641c7c7",
        "deepnote_cell_type": "code"
      },
      "outputs": [
        {
          "data": {
            "application/vnd.deepnote.dataframe.v3+json": {
              "column_count": 3,
              "row_count": 5,
              "columns": [
                {
                  "name": "sentiment_label",
                  "dtype": "int64",
                  "stats": {
                    "unique_count": 2,
                    "nan_count": 0,
                    "min": "0",
                    "max": "1",
                    "histogram": [
                      {
                        "bin_start": 0,
                        "bin_end": 0.1,
                        "count": 3
                      },
                      {
                        "bin_start": 0.1,
                        "bin_end": 0.2,
                        "count": 0
                      },
                      {
                        "bin_start": 0.2,
                        "bin_end": 0.30000000000000004,
                        "count": 0
                      },
                      {
                        "bin_start": 0.30000000000000004,
                        "bin_end": 0.4,
                        "count": 0
                      },
                      {
                        "bin_start": 0.4,
                        "bin_end": 0.5,
                        "count": 0
                      },
                      {
                        "bin_start": 0.5,
                        "bin_end": 0.6000000000000001,
                        "count": 0
                      },
                      {
                        "bin_start": 0.6000000000000001,
                        "bin_end": 0.7000000000000001,
                        "count": 0
                      },
                      {
                        "bin_start": 0.7000000000000001,
                        "bin_end": 0.8,
                        "count": 0
                      },
                      {
                        "bin_start": 0.8,
                        "bin_end": 0.9,
                        "count": 0
                      },
                      {
                        "bin_start": 0.9,
                        "bin_end": 1,
                        "count": 2
                      }
                    ]
                  }
                },
                {
                  "name": "tweet_text",
                  "dtype": "object",
                  "stats": {
                    "unique_count": 5,
                    "nan_count": 0,
                    "categories": [
                      {
                        "name": "@elephantbird Hey dear, Happy Friday to You  Already had your rice's bowl for lunch ?",
                        "count": 1
                      },
                      {
                        "name": "Ughhh layin downnnn    Waiting for zeina to cook breakfast",
                        "count": 1
                      },
                      {
                        "name": "3 others",
                        "count": 3
                      }
                    ]
                  }
                },
                {
                  "name": "text_length",
                  "dtype": "int64",
                  "stats": {
                    "unique_count": 5,
                    "nan_count": 0,
                    "min": "37",
                    "max": "118",
                    "histogram": [
                      {
                        "bin_start": 37,
                        "bin_end": 45.1,
                        "count": 1
                      },
                      {
                        "bin_start": 45.1,
                        "bin_end": 53.2,
                        "count": 0
                      },
                      {
                        "bin_start": 53.2,
                        "bin_end": 61.3,
                        "count": 1
                      },
                      {
                        "bin_start": 61.3,
                        "bin_end": 69.4,
                        "count": 0
                      },
                      {
                        "bin_start": 69.4,
                        "bin_end": 77.5,
                        "count": 0
                      },
                      {
                        "bin_start": 77.5,
                        "bin_end": 85.6,
                        "count": 1
                      },
                      {
                        "bin_start": 85.6,
                        "bin_end": 93.69999999999999,
                        "count": 0
                      },
                      {
                        "bin_start": 93.69999999999999,
                        "bin_end": 101.8,
                        "count": 0
                      },
                      {
                        "bin_start": 101.8,
                        "bin_end": 109.89999999999999,
                        "count": 0
                      },
                      {
                        "bin_start": 109.89999999999999,
                        "bin_end": 118,
                        "count": 2
                      }
                    ]
                  }
                },
                {
                  "name": "_deepnote_index_column",
                  "dtype": "int64"
                }
              ],
              "rows": [
                {
                  "sentiment_label": 1,
                  "tweet_text": "@elephantbird Hey dear, Happy Friday to You  Already had your rice's bowl for lunch ?",
                  "text_length": 85,
                  "_deepnote_index_column": 0
                },
                {
                  "sentiment_label": 1,
                  "tweet_text": "Ughhh layin downnnn    Waiting for zeina to cook breakfast",
                  "text_length": 58,
                  "_deepnote_index_column": 1
                },
                {
                  "sentiment_label": 0,
                  "tweet_text": "@greeniebach I reckon he'll play, even if he's not 100%...but i know nothing!! ;) It won't be the same without him. ",
                  "text_length": 116,
                  "_deepnote_index_column": 2
                },
                {
                  "sentiment_label": 0,
                  "tweet_text": "@vaLewee I know!  Saw it on the news!",
                  "text_length": 37,
                  "_deepnote_index_column": 3
                },
                {
                  "sentiment_label": 0,
                  "tweet_text": "very sad that http://www.fabchannel.com/ has closed down. One of the few web services that I've used for over 5 years ",
                  "text_length": 118,
                  "_deepnote_index_column": 4
                }
              ]
            },
            "text/plain": "   sentiment_label                                         tweet_text  \\\n0                1  @elephantbird Hey dear, Happy Friday to You  A...   \n1                1  Ughhh layin downnnn    Waiting for zeina to co...   \n2                0  @greeniebach I reckon he'll play, even if he's...   \n3                0              @vaLewee I know!  Saw it on the news!   \n4                0  very sad that http://www.fabchannel.com/ has c...   \n\n   text_length  \n0           85  \n1           58  \n2          116  \n3           37  \n4          118  ",
            "text/html": "<div>\n<style scoped>\n    .dataframe tbody tr th:only-of-type {\n        vertical-align: middle;\n    }\n\n    .dataframe tbody tr th {\n        vertical-align: top;\n    }\n\n    .dataframe thead th {\n        text-align: right;\n    }\n</style>\n<table border=\"1\" class=\"dataframe\">\n  <thead>\n    <tr style=\"text-align: right;\">\n      <th></th>\n      <th>sentiment_label</th>\n      <th>tweet_text</th>\n      <th>text_length</th>\n    </tr>\n  </thead>\n  <tbody>\n    <tr>\n      <th>0</th>\n      <td>1</td>\n      <td>@elephantbird Hey dear, Happy Friday to You  A...</td>\n      <td>85</td>\n    </tr>\n    <tr>\n      <th>1</th>\n      <td>1</td>\n      <td>Ughhh layin downnnn    Waiting for zeina to co...</td>\n      <td>58</td>\n    </tr>\n    <tr>\n      <th>2</th>\n      <td>0</td>\n      <td>@greeniebach I reckon he'll play, even if he's...</td>\n      <td>116</td>\n    </tr>\n    <tr>\n      <th>3</th>\n      <td>0</td>\n      <td>@vaLewee I know!  Saw it on the news!</td>\n      <td>37</td>\n    </tr>\n    <tr>\n      <th>4</th>\n      <td>0</td>\n      <td>very sad that http://www.fabchannel.com/ has c...</td>\n      <td>118</td>\n    </tr>\n  </tbody>\n</table>\n</div>"
          },
          "metadata": {},
          "output_type": "display_data"
        }
      ],
      "outputs_reference": null,
      "execution_count": 7,
      "block_group": "ab5d5b6a4de041fda53599ea5390223b"
    },
    {
      "cell_type": "code",
      "source": "#Cleaning the data\ndef clean_tweet(tweet):\n    tweet = re.sub(r'@[\\w]+', '', tweet)\n    tweet = re.sub(r'http\\S+', '', tweet)\n    tweet = re.sub(r'[^A-Za-z0-9]+', ' ', tweet)\n    tweet = ' '.join(tweet.split())\n    return tweet\ndf['cleaned_tweet'] = df['tweet_text'].apply(clean_tweet)\ndisplay(df[['tweet_text', 'cleaned_tweet']].head())",
      "metadata": {
        "id": "c1889ca7-f981-4ddc-8b04-3c9fb17c94c2",
        "tags": [],
        "colab": {
          "height": 206,
          "base_uri": "https://localhost:8080/"
        },
        "outputId": "bad3e398-3ab4-4da5-9c2b-ce483ad0ca7d",
        "source_hash": "4326d581",
        "execution_start": 1707937632316,
        "execution_millis": 1230,
        "deepnote_to_be_reexecuted": false,
        "cell_id": "ef87472f1f6047de85e997457d8beb0b",
        "deepnote_cell_type": "code"
      },
      "outputs": [
        {
          "data": {
            "application/vnd.deepnote.dataframe.v3+json": {
              "column_count": 2,
              "row_count": 5,
              "columns": [
                {
                  "name": "tweet_text",
                  "dtype": "object",
                  "stats": {
                    "unique_count": 5,
                    "nan_count": 0,
                    "categories": [
                      {
                        "name": "@elephantbird Hey dear, Happy Friday to You  Already had your rice's bowl for lunch ?",
                        "count": 1
                      },
                      {
                        "name": "Ughhh layin downnnn    Waiting for zeina to cook breakfast",
                        "count": 1
                      },
                      {
                        "name": "3 others",
                        "count": 3
                      }
                    ]
                  }
                },
                {
                  "name": "cleaned_tweet",
                  "dtype": "object",
                  "stats": {
                    "unique_count": 5,
                    "nan_count": 0,
                    "categories": [
                      {
                        "name": "Hey dear Happy Friday to You Already had your rice s bowl for lunch",
                        "count": 1
                      },
                      {
                        "name": "Ughhh layin downnnn Waiting for zeina to cook breakfast",
                        "count": 1
                      },
                      {
                        "name": "3 others",
                        "count": 3
                      }
                    ]
                  }
                },
                {
                  "name": "_deepnote_index_column",
                  "dtype": "int64"
                }
              ],
              "rows": [
                {
                  "tweet_text": "@elephantbird Hey dear, Happy Friday to You  Already had your rice's bowl for lunch ?",
                  "cleaned_tweet": "Hey dear Happy Friday to You Already had your rice s bowl for lunch",
                  "_deepnote_index_column": 0
                },
                {
                  "tweet_text": "Ughhh layin downnnn    Waiting for zeina to cook breakfast",
                  "cleaned_tweet": "Ughhh layin downnnn Waiting for zeina to cook breakfast",
                  "_deepnote_index_column": 1
                },
                {
                  "tweet_text": "@greeniebach I reckon he'll play, even if he's not 100%...but i know nothing!! ;) It won't be the same without him. ",
                  "cleaned_tweet": "I reckon he ll play even if he s not 100 but i know nothing It won t be the same without him",
                  "_deepnote_index_column": 2
                },
                {
                  "tweet_text": "@vaLewee I know!  Saw it on the news!",
                  "cleaned_tweet": "I know Saw it on the news",
                  "_deepnote_index_column": 3
                },
                {
                  "tweet_text": "very sad that http://www.fabchannel.com/ has closed down. One of the few web services that I've used for over 5 years ",
                  "cleaned_tweet": "very sad that has closed down One of the few web services that I ve used for over 5 years",
                  "_deepnote_index_column": 4
                }
              ]
            },
            "text/plain": "                                          tweet_text  \\\n0  @elephantbird Hey dear, Happy Friday to You  A...   \n1  Ughhh layin downnnn    Waiting for zeina to co...   \n2  @greeniebach I reckon he'll play, even if he's...   \n3              @vaLewee I know!  Saw it on the news!   \n4  very sad that http://www.fabchannel.com/ has c...   \n\n                                       cleaned_tweet  \n0  Hey dear Happy Friday to You Already had your ...  \n1  Ughhh layin downnnn Waiting for zeina to cook ...  \n2  I reckon he ll play even if he s not 100 but i...  \n3                          I know Saw it on the news  \n4  very sad that has closed down One of the few w...  ",
            "text/html": "<div>\n<style scoped>\n    .dataframe tbody tr th:only-of-type {\n        vertical-align: middle;\n    }\n\n    .dataframe tbody tr th {\n        vertical-align: top;\n    }\n\n    .dataframe thead th {\n        text-align: right;\n    }\n</style>\n<table border=\"1\" class=\"dataframe\">\n  <thead>\n    <tr style=\"text-align: right;\">\n      <th></th>\n      <th>tweet_text</th>\n      <th>cleaned_tweet</th>\n    </tr>\n  </thead>\n  <tbody>\n    <tr>\n      <th>0</th>\n      <td>@elephantbird Hey dear, Happy Friday to You  A...</td>\n      <td>Hey dear Happy Friday to You Already had your ...</td>\n    </tr>\n    <tr>\n      <th>1</th>\n      <td>Ughhh layin downnnn    Waiting for zeina to co...</td>\n      <td>Ughhh layin downnnn Waiting for zeina to cook ...</td>\n    </tr>\n    <tr>\n      <th>2</th>\n      <td>@greeniebach I reckon he'll play, even if he's...</td>\n      <td>I reckon he ll play even if he s not 100 but i...</td>\n    </tr>\n    <tr>\n      <th>3</th>\n      <td>@vaLewee I know!  Saw it on the news!</td>\n      <td>I know Saw it on the news</td>\n    </tr>\n    <tr>\n      <th>4</th>\n      <td>very sad that http://www.fabchannel.com/ has c...</td>\n      <td>very sad that has closed down One of the few w...</td>\n    </tr>\n  </tbody>\n</table>\n</div>"
          },
          "metadata": {},
          "output_type": "display_data"
        }
      ],
      "outputs_reference": null,
      "execution_count": 8,
      "block_group": "9d56f53ca533481a8ff9fccc28cdd84f"
    },
    {
      "cell_type": "code",
      "source": "# Check for null or empty content\nnull_cleaned_tweets = df[df['cleaned_tweet'].isnull() | (df['cleaned_tweet'] == '')]\nprint(\"Summary of Null or Empty Cleaned Tweets:\")\nprint(null_cleaned_tweets.info())\nprint(f\"Null values: \\n\\n{df.isna().sum()}\")",
      "metadata": {
        "id": "18354ba4-a7b4-41d3-a90f-c674029a97e9",
        "tags": [],
        "colab": {
          "base_uri": "https://localhost:8080/"
        },
        "outputId": "91f2fc4e-333e-4f65-f73b-f5087c69a65c",
        "source_hash": "fa804bc3",
        "execution_start": 1707937633565,
        "execution_millis": 103,
        "deepnote_to_be_reexecuted": false,
        "cell_id": "1aaf97c507d14c2a98978a602fd39f04",
        "deepnote_cell_type": "code"
      },
      "outputs": [
        {
          "name": "stdout",
          "text": "Summary of Null or Empty Cleaned Tweets:\n<class 'pandas.core.frame.DataFrame'>\nInt64Index: 330 entries, 183 to 159158\nData columns (total 4 columns):\n #   Column           Non-Null Count  Dtype \n---  ------           --------------  ----- \n 0   sentiment_label  330 non-null    int64 \n 1   tweet_text       330 non-null    object\n 2   text_length      330 non-null    int64 \n 3   cleaned_tweet    330 non-null    object\ndtypes: int64(2), object(2)\nmemory usage: 12.9+ KB\nNone\nNull values: \n\nsentiment_label    0\ntweet_text         0\ntext_length        0\ncleaned_tweet      0\ndtype: int64\n",
          "output_type": "stream"
        }
      ],
      "outputs_reference": null,
      "execution_count": 9,
      "block_group": "fd969fa5561c4dbbb5e30bcc5ee29791"
    },
    {
      "cell_type": "markdown",
      "source": "### Tokienization",
      "metadata": {
        "id": "yCW1txoiknrZ",
        "cell_id": "5df461893f0e4f7fb4d4b74f80030e4b",
        "deepnote_cell_type": "markdown"
      },
      "block_group": "9a25316471354a9dab38a527c0e6f444"
    },
    {
      "cell_type": "code",
      "source": "tokenized_sequences = df['cleaned_tweet']\ntokenizer = Tokenizer()\ntokenizer.fit_on_texts(tokenized_sequences)\n# Convert text data to sequences of integers\nsequences = tokenizer.texts_to_sequences(tokenized_sequences)\nprint(\"Sample Sequences:\", sequences[:2])\nprint(f\"Word index length: {len(tokenizer.word_index)}\")\nsome_words = list(tokenizer.word_index.keys())[:10]\nprint(f\"Some words: {some_words}\")",
      "metadata": {
        "id": "V7FnF-zwU0Rt",
        "colab": {
          "base_uri": "https://localhost:8080/"
        },
        "outputId": "0748ab25-491c-442d-fe7b-d73f935bbfdf",
        "source_hash": "2da1cd95",
        "execution_start": 1707937633665,
        "execution_millis": 5155,
        "deepnote_to_be_reexecuted": false,
        "cell_id": "b5366b327a4d40ee8474a76b617a2aa3",
        "deepnote_cell_type": "code"
      },
      "outputs": [
        {
          "name": "stdout",
          "text": "Sample Sequences: [[150, 636, 120, 322, 2, 8, 206, 66, 45, 1748, 12, 2193, 10, 358], [2194, 3973, 20681, 298, 10, 29220, 2, 1155, 523]]\nWord index length: 70393\nSome words: ['i', 'to', 'the', 'a', 'my', 'and', 'it', 'you', 'is', 'for']\n",
          "output_type": "stream"
        }
      ],
      "outputs_reference": null,
      "execution_count": 10,
      "block_group": "8ceda87393744b108a7afb91725bf9ef"
    },
    {
      "cell_type": "code",
      "source": "X = sequences\ny = df['sentiment_label']\nX_train, X_test, y_train, y_test = train_test_split(X, y, test_size=0.2, random_state=42)\nprint(\"X_train:\", len(X_train))\nprint(\"X_test:\", len(X_test))\nprint(\" y_train:\", len(y_train))\nprint(\"y_test:\", len(y_test))",
      "metadata": {
        "id": "e2400fde-1d2f-4dd7-901b-4f0b507c494e",
        "tags": [],
        "colab": {
          "base_uri": "https://localhost:8080/"
        },
        "outputId": "e692c42e-b7e0-4a15-dbd7-404f8d0145ef",
        "source_hash": "ef617129",
        "execution_start": 1707937638831,
        "execution_millis": 59,
        "deepnote_to_be_reexecuted": false,
        "cell_id": "e8d8632d66584050a0c6c3cf89f5111d",
        "deepnote_cell_type": "code"
      },
      "outputs": [
        {
          "name": "stdout",
          "text": "X_train: 128000\nX_test: 32000\n y_train: 128000\ny_test: 32000\n",
          "output_type": "stream"
        }
      ],
      "outputs_reference": null,
      "execution_count": 11,
      "block_group": "ba5a2fcf3ed347099ebc1577ae63c2c6"
    },
    {
      "cell_type": "code",
      "source": "max_token_length = max(len(sequence) for sequence in tokenized_sequences)\nprint(f\"Maximum Token Length: {max_token_length}\")",
      "metadata": {
        "id": "7dca7f68-0bcb-4e2b-ba6f-5a69124bb6d8",
        "tags": [],
        "colab": {
          "base_uri": "https://localhost:8080/"
        },
        "outputId": "9bbfcc87-8244-4cf2-e29c-05ecec139bcd",
        "source_hash": "ad46124e",
        "execution_start": 1707937638893,
        "execution_millis": 35,
        "deepnote_to_be_reexecuted": false,
        "cell_id": "c49e7aa6a89b41999e4caa4896f223ff",
        "deepnote_cell_type": "code"
      },
      "outputs": [
        {
          "name": "stdout",
          "text": "Maximum Token Length: 169\n",
          "output_type": "stream"
        }
      ],
      "outputs_reference": null,
      "execution_count": 12,
      "block_group": "2032bb7f8036441794bc92f4c2c4c25a"
    },
    {
      "cell_type": "markdown",
      "source": "### NEural network",
      "metadata": {
        "id": "0fb09529-6eab-4b2c-b9dc-874a1a1bbfcf",
        "cell_id": "b2c9e808a03747aa864301c18e57efd3",
        "deepnote_cell_type": "markdown"
      },
      "block_group": "7d3a47214e42447fb94e9c1d1fe23d0d"
    },
    {
      "cell_type": "code",
      "source": "max_sequence_length = max(len(sequence) for sequence in X_train)\nX_train_padded = tf.keras.preprocessing.sequence.pad_sequences(X_train, maxlen=max_sequence_length)\nX_test_padded = tf.keras.preprocessing.sequence.pad_sequences(X_test, maxlen=max_sequence_length)\nglove_url = 'https://huggingface.co/stanfordnlp/glove/resolve/main/glove.twitter.27B.zip'\n# Create a directory to store the download files\ndownload_dir = 'glove_twitter'\nos.makedirs(download_dir, exist_ok=True)\nzip_file_path = os.path.join(download_dir, 'glove.twitter.27B.zip')\nurllib.request.urlretrieve(glove_url, zip_file_path)\nwith ZipFile(zip_file_path, 'r') as zip_ref:\n    zip_ref.extractall(download_dir)\n\nglove_embeddings_path = os.path.join(download_dir, 'glove.twitter.27B.200d.txt')\n# Load the pre-trained GloVe\nembeddings_index = {}\nwith open(glove_embeddings_path, 'r', encoding='utf-8') as file:\n    for line in file:\n        values = line.split()\n        word = values[0]\n        coefs = np.asarray(values[1:], dtype='float32')\n        embeddings_index[word] = coefs",
      "metadata": {
        "id": "ce80d5c9-aa1d-4d40-9d63-7d71c34c5ceb",
        "tags": [],
        "source_hash": "45abf9a5",
        "execution_start": 1707937638931,
        "execution_millis": 133805,
        "deepnote_to_be_reexecuted": false,
        "cell_id": "bcda28fc030b4edba773c2246d92f020",
        "deepnote_cell_type": "code"
      },
      "outputs": [],
      "outputs_reference": null,
      "execution_count": 13,
      "block_group": "d640c9ebd4dc492a9a3039732e8a3194"
    },
    {
      "cell_type": "code",
      "source": "embedding_dim = len(embeddings_index.get('a'))\nnum_words = len(tokenizer.word_index) + 1\nembedding_matrix = np.zeros((num_words, embedding_dim))\nfor word, i in tokenizer.word_index.items():\n    embedding_vector = embeddings_index.get(word)\n    if embedding_vector is not None:\n        embedding_matrix[i] = embedding_vector",
      "metadata": {
        "id": "41eddee2-73d3-4af4-8540-afe8bd5bfa48",
        "tags": [],
        "source_hash": "b7b4f0d8",
        "execution_start": 1707937772778,
        "execution_millis": 143,
        "deepnote_to_be_reexecuted": false,
        "cell_id": "9da0a43ceae142b197499136a256ee88",
        "deepnote_cell_type": "code"
      },
      "outputs": [],
      "outputs_reference": null,
      "execution_count": 14,
      "block_group": "08508d086c774d5e8f7ca1f5a9851a69"
    },
    {
      "cell_type": "code",
      "source": "# Neural network model with GloVe embeddings\nmodel = Sequential([\n    Embedding(input_dim=num_words, output_dim=embedding_dim, weights=[embedding_matrix], input_length=max_sequence_length, trainable=False),\n    Flatten(), Dense(1, activation='sigmoid')])\nmodel.compile(optimizer='adam', loss='binary_crossentropy', metrics=['acc'])\nhistory = model.fit(X_train_padded, y_train, epochs=10, validation_data=(X_test_padded, y_test))",
      "metadata": {
        "id": "xKQ9SbB4mzpF",
        "colab": {
          "base_uri": "https://localhost:8080/"
        },
        "outputId": "3fe4df32-4d4b-49e7-923f-51334efbbbf4",
        "source_hash": "680dc90b",
        "execution_start": 1707937773051,
        "execution_millis": 99579,
        "deepnote_to_be_reexecuted": false,
        "cell_id": "cf529a16cca145269f05aa077e62710c",
        "deepnote_cell_type": "code"
      },
      "outputs": [
        {
          "name": "stderr",
          "text": "2024-02-14 19:09:32.924565: W tensorflow/stream_executor/platform/default/dso_loader.cc:64] Could not load dynamic library 'libcuda.so.1'; dlerror: libcuda.so.1: cannot open shared object file: No such file or directory\n2024-02-14 19:09:32.924613: W tensorflow/stream_executor/cuda/cuda_driver.cc:263] failed call to cuInit: UNKNOWN ERROR (303)\n2024-02-14 19:09:32.924661: I tensorflow/stream_executor/cuda/cuda_diagnostics.cc:156] kernel driver does not appear to be running on this host (p-8aba36e2-8533-4926-b208-ccdfd6b36899): /proc/driver/nvidia/version does not exist\n2024-02-14 19:09:32.924976: I tensorflow/core/platform/cpu_feature_guard.cc:193] This TensorFlow binary is optimized with oneAPI Deep Neural Network Library (oneDNN) to use the following CPU instructions in performance-critical operations:  AVX2 FMA\nTo enable them in other operations, rebuild TensorFlow with the appropriate compiler flags.\n2024-02-14 19:09:33.059958: W tensorflow/core/framework/cpu_allocator_impl.cc:82] Allocation of 56315200 exceeds 10% of free system memory.\n2024-02-14 19:09:33.100346: W tensorflow/core/framework/cpu_allocator_impl.cc:82] Allocation of 56315200 exceeds 10% of free system memory.\n2024-02-14 19:09:33.179375: W tensorflow/core/framework/cpu_allocator_impl.cc:82] Allocation of 56315200 exceeds 10% of free system memory.\nEpoch 1/10\n2024-02-14 19:09:33.328978: W tensorflow/core/framework/cpu_allocator_impl.cc:82] Allocation of 56315200 exceeds 10% of free system memory.\n4000/4000 [==============================] - 10s 3ms/step - loss: 0.5283 - acc: 0.7421 - val_loss: 0.5148 - val_acc: 0.7524\nEpoch 2/10\n4000/4000 [==============================] - 10s 2ms/step - loss: 0.5028 - acc: 0.7611 - val_loss: 0.5228 - val_acc: 0.7534\nEpoch 3/10\n4000/4000 [==============================] - 10s 2ms/step - loss: 0.4987 - acc: 0.7641 - val_loss: 0.5223 - val_acc: 0.7500\nEpoch 4/10\n4000/4000 [==============================] - 11s 3ms/step - loss: 0.4963 - acc: 0.7650 - val_loss: 0.5225 - val_acc: 0.7539\nEpoch 5/10\n4000/4000 [==============================] - 9s 2ms/step - loss: 0.4954 - acc: 0.7676 - val_loss: 0.5256 - val_acc: 0.7538\nEpoch 6/10\n4000/4000 [==============================] - 9s 2ms/step - loss: 0.4952 - acc: 0.7665 - val_loss: 0.5267 - val_acc: 0.7522\nEpoch 7/10\n4000/4000 [==============================] - 10s 2ms/step - loss: 0.4941 - acc: 0.7676 - val_loss: 0.5304 - val_acc: 0.7509\nEpoch 8/10\n4000/4000 [==============================] - 11s 3ms/step - loss: 0.4936 - acc: 0.7669 - val_loss: 0.5268 - val_acc: 0.7533\nEpoch 9/10\n4000/4000 [==============================] - 9s 2ms/step - loss: 0.4931 - acc: 0.7674 - val_loss: 0.5312 - val_acc: 0.7533\nEpoch 10/10\n4000/4000 [==============================] - 10s 2ms/step - loss: 0.4925 - acc: 0.7681 - val_loss: 0.5342 - val_acc: 0.7515\n",
          "output_type": "stream"
        }
      ],
      "outputs_reference": null,
      "execution_count": 15,
      "block_group": "7757a0b68853491cb784730b5895a53f"
    },
    {
      "cell_type": "code",
      "source": "model.summary()",
      "metadata": {
        "id": "07c8d806-9f21-4235-a14d-d3575c4623bd",
        "tags": [],
        "colab": {
          "base_uri": "https://localhost:8080/"
        },
        "outputId": "574c11a2-e215-4344-8a06-57118bfe7cc6",
        "source_hash": "4e6a3b95",
        "execution_start": 1707937872634,
        "execution_millis": 494,
        "deepnote_to_be_reexecuted": false,
        "cell_id": "0aa21082e9144838b744180d6c41069c",
        "deepnote_cell_type": "code"
      },
      "outputs": [
        {
          "name": "stdout",
          "text": "Model: \"sequential\"\n_________________________________________________________________\n Layer (type)                Output Shape              Param #   \n=================================================================\n embedding (Embedding)       (None, 46, 200)           14078800  \n                                                                 \n flatten (Flatten)           (None, 9200)              0         \n                                                                 \n dense (Dense)               (None, 1)                 9201      \n                                                                 \n=================================================================\nTotal params: 14,088,001\nTrainable params: 9,201\nNon-trainable params: 14,078,800\n_________________________________________________________________\n",
          "output_type": "stream"
        }
      ],
      "outputs_reference": null,
      "execution_count": 16,
      "block_group": "85ed9664e6c84b90af907aad0cf1893a"
    },
    {
      "cell_type": "code",
      "source": "plot_model(model, to_file='rnn_model.png', show_shapes=True, show_layer_names=True, expand_nested=True)",
      "metadata": {
        "id": "mlRv325iimvu",
        "colab": {
          "height": 422,
          "base_uri": "https://localhost:8080/"
        },
        "outputId": "f986dab7-30bc-4ef7-b1b5-e35bb253b7bd",
        "source_hash": "edf0c591",
        "execution_start": 1707937872698,
        "execution_millis": 430,
        "deepnote_to_be_reexecuted": false,
        "cell_id": "03e7b7324d4648ad8321f5edb3a2604d",
        "deepnote_cell_type": "code"
      },
      "outputs": [
        {
          "name": "stdout",
          "text": "You must install pydot (`pip install pydot`) and install graphviz (see instructions at https://graphviz.gitlab.io/download/) for plot_model to work.\n",
          "output_type": "stream"
        }
      ],
      "outputs_reference": null,
      "execution_count": 17,
      "block_group": "827c017f606c4250a086eb2d587b66e0"
    },
    {
      "cell_type": "code",
      "source": "# Plot\nplt.plot(history.history['loss'], label='Training Loss')\nplt.plot(history.history['val_loss'], label='Validation Loss')\nplt.xlabel('Epoch')\nplt.ylabel('Loss')\nplt.legend()\nplt.show()",
      "metadata": {
        "id": "a47f46bf-6cd6-4134-ae14-b22718846452",
        "tags": [],
        "colab": {
          "height": 449,
          "base_uri": "https://localhost:8080/"
        },
        "outputId": "1e2891aa-0a06-4382-a46e-9c3f16a0d5c5",
        "source_hash": "35df0de4",
        "execution_start": 1707937872719,
        "execution_millis": 410,
        "deepnote_to_be_reexecuted": false,
        "cell_id": "2dd42e368dec4e9ab773015f0e98dba3",
        "deepnote_cell_type": "code"
      },
      "outputs": [
        {
          "data": {
            "text/plain": "<Figure size 640x480 with 1 Axes>",
            "image/png": "[encoded data removed]"
          },
          "metadata": {
            "image/png": {
              "width": 576,
              "height": 432
            }
          },
          "output_type": "display_data"
        }
      ],
      "outputs_reference": null,
      "execution_count": 18,
      "block_group": "cb0fa775b3ec464eb1602f9c111f831c"
    },
    {
      "cell_type": "markdown",
      "source": "### Convolutional Neural Network (CNN):",
      "metadata": {
        "id": "ba3da09c-46ee-453d-9a67-9a385c145d62",
        "cell_id": "ab6994bc5b4446a3aa9349bfb908aaea",
        "deepnote_cell_type": "markdown"
      },
      "block_group": "fb7d353793c949ec8c55dfbf01334d40"
    },
    {
      "cell_type": "code",
      "source": "modelCNN = Sequential([\n    Embedding(input_dim=num_words, output_dim=embedding_dim, weights=[embedding_matrix], input_length=max_sequence_length, trainable=False),\n    Conv1D(128, 5, activation='relu'), Conv1D(128, 3, activation='relu'), Dense(64, activation='relu'), Dense(128, activation='relu'),\n    Dense(1, activation='sigmoid')])\n\nmodelCNN.compile(optimizer='adam', loss='binary_crossentropy', metrics=['acc'])\nhistoryCNN = modelCNN.fit(X_train_padded, y_train, epochs=10, validation_data=(X_test_padded, y_test))\ntest_loss, test_accuracy = modelCNN.evaluate(X_test_padded, y_test)\nprint(f'Test Accuracy: {test_accuracy * 100:.2f}%')\nprint(f'Test Loss: {test_loss:.4f}')",
      "metadata": {
        "id": "586faa6e-ce94-4380-9927-52c6ecc592ec",
        "tags": [],
        "colab": {
          "base_uri": "https://localhost:8080/"
        },
        "outputId": "bb33e28b-4907-4700-b1f3-436696f6019d",
        "source_hash": "4c2805f0",
        "execution_start": 1707937872998,
        "execution_millis": 1476983,
        "deepnote_to_be_reexecuted": false,
        "cell_id": "94966faf93cf4426aaf85fc61cd9adf3",
        "deepnote_cell_type": "code"
      },
      "outputs": [
        {
          "name": "stderr",
          "text": "2024-02-14 19:11:12.957185: W tensorflow/core/framework/cpu_allocator_impl.cc:82] Allocation of 56315200 exceeds 10% of free system memory.\nEpoch 1/10\n4000/4000 [==============================] - 149s 37ms/step - loss: 0.6665 - acc: 0.5587 - val_loss: 0.6616 - val_acc: 0.5634\nEpoch 2/10\n4000/4000 [==============================] - 151s 38ms/step - loss: 0.6599 - acc: 0.5647 - val_loss: 0.6602 - val_acc: 0.5647\nEpoch 3/10\n4000/4000 [==============================] - 144s 36ms/step - loss: 0.6561 - acc: 0.5693 - val_loss: 0.6612 - val_acc: 0.5647\nEpoch 4/10\n4000/4000 [==============================] - 144s 36ms/step - loss: 0.6523 - acc: 0.5728 - val_loss: 0.6616 - val_acc: 0.5645\nEpoch 5/10\n4000/4000 [==============================] - 143s 36ms/step - loss: 0.6485 - acc: 0.5756 - val_loss: 0.6631 - val_acc: 0.5640\nEpoch 6/10\n4000/4000 [==============================] - 145s 36ms/step - loss: 0.6449 - acc: 0.5778 - val_loss: 0.6641 - val_acc: 0.5627\nEpoch 7/10\n4000/4000 [==============================] - 151s 38ms/step - loss: 0.6417 - acc: 0.5803 - val_loss: 0.6675 - val_acc: 0.5627\nEpoch 8/10\n4000/4000 [==============================] - 146s 37ms/step - loss: 0.6387 - acc: 0.5826 - val_loss: 0.6705 - val_acc: 0.5622\nEpoch 9/10\n4000/4000 [==============================] - 144s 36ms/step - loss: 0.6358 - acc: 0.5843 - val_loss: 0.6741 - val_acc: 0.5619\nEpoch 10/10\n4000/4000 [==============================] - 147s 37ms/step - loss: 0.6333 - acc: 0.5861 - val_loss: 0.6743 - val_acc: 0.5610\n1000/1000 [==============================] - 12s 12ms/step - loss: 0.6743 - acc: 0.5610\nTest Accuracy: 56.10%\nTest Loss: 0.6743\n",
          "output_type": "stream"
        }
      ],
      "outputs_reference": null,
      "execution_count": 19,
      "block_group": "a6db8ef62b3245d3817fd2b25649025c"
    },
    {
      "cell_type": "code",
      "source": "modelCNN.summary()",
      "metadata": {
        "id": "c7b0f10e-34b5-4a51-b74c-b6c6495e1dfe",
        "tags": [],
        "colab": {
          "base_uri": "https://localhost:8080/"
        },
        "outputId": "3ea43e67-45db-4922-d85d-95b81b887413",
        "source_hash": "a6326691",
        "execution_start": 1707939349990,
        "execution_millis": 659,
        "deepnote_to_be_reexecuted": false,
        "cell_id": "4c1ff83b5c4d4c148cbec7ee530b8cbe",
        "deepnote_cell_type": "code"
      },
      "outputs": [
        {
          "name": "stdout",
          "text": "Model: \"sequential_1\"\n_________________________________________________________________\n Layer (type)                Output Shape              Param #   \n=================================================================\n embedding_1 (Embedding)     (None, 46, 200)           14078800  \n                                                                 \n conv1d (Conv1D)             (None, 42, 128)           128128    \n                                                                 \n conv1d_1 (Conv1D)           (None, 40, 128)           49280     \n                                                                 \n dense_1 (Dense)             (None, 40, 64)            8256      \n                                                                 \n dense_2 (Dense)             (None, 40, 128)           8320      \n                                                                 \n dense_3 (Dense)             (None, 40, 1)             129       \n                                                                 \n=================================================================\nTotal params: 14,272,913\nTrainable params: 194,113\nNon-trainable params: 14,078,800\n_________________________________________________________________\n",
          "output_type": "stream"
        }
      ],
      "outputs_reference": null,
      "execution_count": 20,
      "block_group": "ff6fadcd82ac4d3699d653854e895e0e"
    },
    {
      "cell_type": "code",
      "source": "plot_model(modelCNN, to_file='rnn_model.png', show_shapes=True, show_layer_names=True, expand_nested=True)",
      "metadata": {
        "id": "AQIcvX9SikhJ",
        "colab": {
          "height": 754,
          "base_uri": "https://localhost:8080/"
        },
        "outputId": "c69e4808-5644-456c-949b-d83a72e87143",
        "source_hash": "63fa7ae5",
        "execution_start": 1707939350053,
        "execution_millis": 596,
        "deepnote_to_be_reexecuted": false,
        "cell_id": "b4ceb97bde8141289d0495bdb37e2c9b",
        "deepnote_cell_type": "code"
      },
      "outputs": [
        {
          "name": "stdout",
          "text": "You must install pydot (`pip install pydot`) and install graphviz (see instructions at https://graphviz.gitlab.io/download/) for plot_model to work.\n",
          "output_type": "stream"
        }
      ],
      "outputs_reference": null,
      "execution_count": 21,
      "block_group": "5a7c3c36cf79469f97ff6e55a658a97f"
    },
    {
      "cell_type": "code",
      "source": "# Plot\nplt.plot(historyCNN.history['loss'], label='Training Loss')\nplt.plot(historyCNN.history['val_loss'], label='Validation Loss')\nplt.xlabel('Epoch')\nplt.ylabel('Loss')\nplt.legend()\nplt.show()",
      "metadata": {
        "id": "625e44cc-e715-4191-93f3-6312357a8f4d",
        "tags": [],
        "colab": {
          "height": 454,
          "base_uri": "https://localhost:8080/"
        },
        "outputId": "6ac26c16-d068-454a-d649-9cc4738c371f",
        "source_hash": "89477b95",
        "execution_start": 1707939350054,
        "execution_millis": 595,
        "deepnote_to_be_reexecuted": false,
        "cell_id": "33d9e7aea79d4c95865f0b18c5bf17b6",
        "deepnote_cell_type": "code"
      },
      "outputs": [
        {
          "data": {
            "text/plain": "<Figure size 640x480 with 1 Axes>",
            "image/png": "[encoded data removed]"
          },
          "metadata": {
            "image/png": {
              "width": 576,
              "height": 432
            }
          },
          "output_type": "display_data"
        }
      ],
      "outputs_reference": null,
      "execution_count": 22,
      "block_group": "992c3dcc11614d8fa4cbba3144f98292"
    },
    {
      "cell_type": "code",
      "source": "accuracy = historyCNN.history['acc']\nval_accuracy = historyCNN.history['val_acc']\nepochs = range(1, len(accuracy) + 1)\nplt.plot(epochs, accuracy, 'bo', label='Training accuracy')\nplt.plot(epochs, val_accuracy, 'b', label='Validation accuracy')\nplt.title('Training and validation accuracy')\nplt.xlabel('Epochs')\nplt.ylabel('Accuracy')\nplt.legend()\nplt.show()",
      "metadata": {
        "id": "22707317-083d-46a9-9d2c-3f26668e5803",
        "tags": [],
        "colab": {
          "height": 472,
          "base_uri": "https://localhost:8080/"
        },
        "outputId": "f0528cfa-26d3-44d1-b114-c6f39c9dd353",
        "source_hash": "b6b7613e",
        "execution_start": 1707939350269,
        "execution_millis": 380,
        "deepnote_to_be_reexecuted": false,
        "cell_id": "18ae88a9a3004c6db893b11b7430f5e6",
        "deepnote_cell_type": "code"
      },
      "outputs": [
        {
          "data": {
            "text/plain": "<Figure size 640x480 with 1 Axes>",
            "image/png": "[encoded data removed]"
          },
          "metadata": {
            "image/png": {
              "width": 584,
              "height": 455
            }
          },
          "output_type": "display_data"
        }
      ],
      "outputs_reference": null,
      "execution_count": 23,
      "block_group": "55cb61a509ca4e6c876322f99f8f2beb"
    },
    {
      "cell_type": "markdown",
      "source": "### RNN",
      "metadata": {
        "id": "d76d78d8-c4c5-4053-b791-c26048629c3f",
        "cell_id": "d99cb604792e4121b6f8238d241fca31",
        "deepnote_cell_type": "markdown"
      },
      "block_group": "ceeb8382e7114da6854462d4c5f149d0"
    },
    {
      "cell_type": "code",
      "source": "max_length = max(len(seq) for seq in sequences)\npadded_sequences = pad_sequences(sequences, maxlen=max_length, padding='post')\nmodelRNN = Sequential()\nmodelRNN.add(Embedding(input_dim=len(tokenizer.word_index) + 1, output_dim=embedding_dim, input_length=max_length))\nmodelRNN.add(SimpleRNN(units=64, activation='relu', return_sequences=True))\nmodelRNN.add(SimpleRNN(units=128, activation='relu', return_sequences=True))\nmodelRNN.add(Dense(units=1, activation='sigmoid'))\nmodelRNN.compile(optimizer='adam', loss='binary_crossentropy', metrics=['acc'])",
      "metadata": {
        "id": "74e2e94c-46b7-4fcd-8c7a-ec90a1f48e9c",
        "tags": [],
        "source_hash": "723694b",
        "execution_start": 1707940581205,
        "execution_millis": 610,
        "deepnote_to_be_reexecuted": false,
        "cell_id": "5b72fb0dc3b848f9924adef9425e06d5",
        "deepnote_cell_type": "code"
      },
      "outputs": [],
      "outputs_reference": null,
      "execution_count": 36,
      "block_group": "ce27f3acbf284f3ca259b3f3e27270f8"
    },
    {
      "cell_type": "code",
      "source": "epochs = 5\nhistoryRNN = modelRNN.fit(X_train_padded, y_train, epochs=epochs, validation_data=(X_test_padded, y_test))",
      "metadata": {
        "id": "704438c9-c613-4b48-8330-44aa8f196c8c",
        "tags": [],
        "colab": {
          "base_uri": "https://localhost:8080/"
        },
        "outputId": "a64ac8f9-3789-4b3a-b719-195093b4f8d8",
        "source_hash": "59d15af6",
        "execution_start": 1707940557006,
        "execution_millis": 11429,
        "deepnote_to_be_reexecuted": false,
        "cell_id": "8cea958b830a4d118b56c4a86d8b598f",
        "deepnote_cell_type": "code"
      },
      "outputs": [
        {
          "name": "stdout",
          "text": "Epoch 1/5\n  27/4000 [..............................] - ETA: 25:12 - loss: 0.6941 - acc: 0.5059",
          "output_type": "stream"
        },
        {
          "output_type": "error",
          "ename": "KeyboardInterrupt",
          "evalue": "",
          "traceback": [
            "\u001b[0;31m---------------------------------------------------------------------------\u001b[0m",
            "\u001b[0;31mKeyboardInterrupt\u001b[0m                         Traceback (most recent call last)",
            "Cell \u001b[0;32mIn [35], line 2\u001b[0m\n\u001b[1;32m      1\u001b[0m epochs \u001b[38;5;241m=\u001b[39m \u001b[38;5;241m5\u001b[39m\n\u001b[0;32m----> 2\u001b[0m historyRNN \u001b[38;5;241m=\u001b[39m \u001b[43mmodelRNN\u001b[49m\u001b[38;5;241;43m.\u001b[39;49m\u001b[43mfit\u001b[49m\u001b[43m(\u001b[49m\u001b[43mX_train_padded\u001b[49m\u001b[43m,\u001b[49m\u001b[43m \u001b[49m\u001b[43my_train\u001b[49m\u001b[43m,\u001b[49m\u001b[43m \u001b[49m\u001b[43mepochs\u001b[49m\u001b[38;5;241;43m=\u001b[39;49m\u001b[43mepochs\u001b[49m\u001b[43m,\u001b[49m\u001b[43m \u001b[49m\u001b[43mvalidation_data\u001b[49m\u001b[38;5;241;43m=\u001b[39;49m\u001b[43m(\u001b[49m\u001b[43mX_test_padded\u001b[49m\u001b[43m,\u001b[49m\u001b[43m \u001b[49m\u001b[43my_test\u001b[49m\u001b[43m)\u001b[49m\u001b[43m)\u001b[49m\n",
            "File \u001b[0;32m/shared-libs/python3.9/py/lib/python3.9/site-packages/keras/utils/traceback_utils.py:65\u001b[0m, in \u001b[0;36mfilter_traceback.<locals>.error_handler\u001b[0;34m(*args, **kwargs)\u001b[0m\n\u001b[1;32m     63\u001b[0m filtered_tb \u001b[38;5;241m=\u001b[39m \u001b[38;5;28;01mNone\u001b[39;00m\n\u001b[1;32m     64\u001b[0m \u001b[38;5;28;01mtry\u001b[39;00m:\n\u001b[0;32m---> 65\u001b[0m     \u001b[38;5;28;01mreturn\u001b[39;00m \u001b[43mfn\u001b[49m\u001b[43m(\u001b[49m\u001b[38;5;241;43m*\u001b[39;49m\u001b[43margs\u001b[49m\u001b[43m,\u001b[49m\u001b[43m \u001b[49m\u001b[38;5;241;43m*\u001b[39;49m\u001b[38;5;241;43m*\u001b[39;49m\u001b[43mkwargs\u001b[49m\u001b[43m)\u001b[49m\n\u001b[1;32m     66\u001b[0m \u001b[38;5;28;01mexcept\u001b[39;00m \u001b[38;5;167;01mException\u001b[39;00m \u001b[38;5;28;01mas\u001b[39;00m e:\n\u001b[1;32m     67\u001b[0m     filtered_tb \u001b[38;5;241m=\u001b[39m _process_traceback_frames(e\u001b[38;5;241m.\u001b[39m__traceback__)\n",
            "File \u001b[0;32m/shared-libs/python3.9/py/lib/python3.9/site-packages/keras/engine/training.py:1564\u001b[0m, in \u001b[0;36mModel.fit\u001b[0;34m(self, x, y, batch_size, epochs, verbose, callbacks, validation_split, validation_data, shuffle, class_weight, sample_weight, initial_epoch, steps_per_epoch, validation_steps, validation_batch_size, validation_freq, max_queue_size, workers, use_multiprocessing)\u001b[0m\n\u001b[1;32m   1556\u001b[0m \u001b[38;5;28;01mwith\u001b[39;00m tf\u001b[38;5;241m.\u001b[39mprofiler\u001b[38;5;241m.\u001b[39mexperimental\u001b[38;5;241m.\u001b[39mTrace(\n\u001b[1;32m   1557\u001b[0m     \u001b[38;5;124m\"\u001b[39m\u001b[38;5;124mtrain\u001b[39m\u001b[38;5;124m\"\u001b[39m,\n\u001b[1;32m   1558\u001b[0m     epoch_num\u001b[38;5;241m=\u001b[39mepoch,\n\u001b[0;32m   (...)\u001b[0m\n\u001b[1;32m   1561\u001b[0m     _r\u001b[38;5;241m=\u001b[39m\u001b[38;5;241m1\u001b[39m,\n\u001b[1;32m   1562\u001b[0m ):\n\u001b[1;32m   1563\u001b[0m     callbacks\u001b[38;5;241m.\u001b[39mon_train_batch_begin(step)\n\u001b[0;32m-> 1564\u001b[0m     tmp_logs \u001b[38;5;241m=\u001b[39m \u001b[38;5;28;43mself\u001b[39;49m\u001b[38;5;241;43m.\u001b[39;49m\u001b[43mtrain_function\u001b[49m\u001b[43m(\u001b[49m\u001b[43miterator\u001b[49m\u001b[43m)\u001b[49m\n\u001b[1;32m   1565\u001b[0m     \u001b[38;5;28;01mif\u001b[39;00m data_handler\u001b[38;5;241m.\u001b[39mshould_sync:\n\u001b[1;32m   1566\u001b[0m         context\u001b[38;5;241m.\u001b[39masync_wait()\n",
            "File \u001b[0;32m/shared-libs/python3.9/py/lib/python3.9/site-packages/tensorflow/python/util/traceback_utils.py:150\u001b[0m, in \u001b[0;36mfilter_traceback.<locals>.error_handler\u001b[0;34m(*args, **kwargs)\u001b[0m\n\u001b[1;32m    148\u001b[0m filtered_tb \u001b[38;5;241m=\u001b[39m \u001b[38;5;28;01mNone\u001b[39;00m\n\u001b[1;32m    149\u001b[0m \u001b[38;5;28;01mtry\u001b[39;00m:\n\u001b[0;32m--> 150\u001b[0m   \u001b[38;5;28;01mreturn\u001b[39;00m \u001b[43mfn\u001b[49m\u001b[43m(\u001b[49m\u001b[38;5;241;43m*\u001b[39;49m\u001b[43margs\u001b[49m\u001b[43m,\u001b[49m\u001b[43m \u001b[49m\u001b[38;5;241;43m*\u001b[39;49m\u001b[38;5;241;43m*\u001b[39;49m\u001b[43mkwargs\u001b[49m\u001b[43m)\u001b[49m\n\u001b[1;32m    151\u001b[0m \u001b[38;5;28;01mexcept\u001b[39;00m \u001b[38;5;167;01mException\u001b[39;00m \u001b[38;5;28;01mas\u001b[39;00m e:\n\u001b[1;32m    152\u001b[0m   filtered_tb \u001b[38;5;241m=\u001b[39m _process_traceback_frames(e\u001b[38;5;241m.\u001b[39m__traceback__)\n",
            "File \u001b[0;32m/shared-libs/python3.9/py/lib/python3.9/site-packages/tensorflow/python/eager/def_function.py:915\u001b[0m, in \u001b[0;36mFunction.__call__\u001b[0;34m(self, *args, **kwds)\u001b[0m\n\u001b[1;32m    912\u001b[0m compiler \u001b[38;5;241m=\u001b[39m \u001b[38;5;124m\"\u001b[39m\u001b[38;5;124mxla\u001b[39m\u001b[38;5;124m\"\u001b[39m \u001b[38;5;28;01mif\u001b[39;00m \u001b[38;5;28mself\u001b[39m\u001b[38;5;241m.\u001b[39m_jit_compile \u001b[38;5;28;01melse\u001b[39;00m \u001b[38;5;124m\"\u001b[39m\u001b[38;5;124mnonXla\u001b[39m\u001b[38;5;124m\"\u001b[39m\n\u001b[1;32m    914\u001b[0m \u001b[38;5;28;01mwith\u001b[39;00m OptionalXlaContext(\u001b[38;5;28mself\u001b[39m\u001b[38;5;241m.\u001b[39m_jit_compile):\n\u001b[0;32m--> 915\u001b[0m   result \u001b[38;5;241m=\u001b[39m \u001b[38;5;28;43mself\u001b[39;49m\u001b[38;5;241;43m.\u001b[39;49m\u001b[43m_call\u001b[49m\u001b[43m(\u001b[49m\u001b[38;5;241;43m*\u001b[39;49m\u001b[43margs\u001b[49m\u001b[43m,\u001b[49m\u001b[43m \u001b[49m\u001b[38;5;241;43m*\u001b[39;49m\u001b[38;5;241;43m*\u001b[39;49m\u001b[43mkwds\u001b[49m\u001b[43m)\u001b[49m\n\u001b[1;32m    917\u001b[0m new_tracing_count \u001b[38;5;241m=\u001b[39m \u001b[38;5;28mself\u001b[39m\u001b[38;5;241m.\u001b[39mexperimental_get_tracing_count()\n\u001b[1;32m    918\u001b[0m without_tracing \u001b[38;5;241m=\u001b[39m (tracing_count \u001b[38;5;241m==\u001b[39m new_tracing_count)\n",
            "File \u001b[0;32m/shared-libs/python3.9/py/lib/python3.9/site-packages/tensorflow/python/eager/def_function.py:947\u001b[0m, in \u001b[0;36mFunction._call\u001b[0;34m(self, *args, **kwds)\u001b[0m\n\u001b[1;32m    944\u001b[0m   \u001b[38;5;28mself\u001b[39m\u001b[38;5;241m.\u001b[39m_lock\u001b[38;5;241m.\u001b[39mrelease()\n\u001b[1;32m    945\u001b[0m   \u001b[38;5;66;03m# In this case we have created variables on the first call, so we run the\u001b[39;00m\n\u001b[1;32m    946\u001b[0m   \u001b[38;5;66;03m# defunned version which is guaranteed to never create variables.\u001b[39;00m\n\u001b[0;32m--> 947\u001b[0m   \u001b[38;5;28;01mreturn\u001b[39;00m \u001b[38;5;28;43mself\u001b[39;49m\u001b[38;5;241;43m.\u001b[39;49m\u001b[43m_stateless_fn\u001b[49m\u001b[43m(\u001b[49m\u001b[38;5;241;43m*\u001b[39;49m\u001b[43margs\u001b[49m\u001b[43m,\u001b[49m\u001b[43m \u001b[49m\u001b[38;5;241;43m*\u001b[39;49m\u001b[38;5;241;43m*\u001b[39;49m\u001b[43mkwds\u001b[49m\u001b[43m)\u001b[49m  \u001b[38;5;66;03m# pylint: disable=not-callable\u001b[39;00m\n\u001b[1;32m    948\u001b[0m \u001b[38;5;28;01melif\u001b[39;00m \u001b[38;5;28mself\u001b[39m\u001b[38;5;241m.\u001b[39m_stateful_fn \u001b[38;5;129;01mis\u001b[39;00m \u001b[38;5;129;01mnot\u001b[39;00m \u001b[38;5;28;01mNone\u001b[39;00m:\n\u001b[1;32m    949\u001b[0m   \u001b[38;5;66;03m# Release the lock early so that multiple threads can perform the call\u001b[39;00m\n\u001b[1;32m    950\u001b[0m   \u001b[38;5;66;03m# in parallel.\u001b[39;00m\n\u001b[1;32m    951\u001b[0m   \u001b[38;5;28mself\u001b[39m\u001b[38;5;241m.\u001b[39m_lock\u001b[38;5;241m.\u001b[39mrelease()\n",
            "File \u001b[0;32m/shared-libs/python3.9/py/lib/python3.9/site-packages/tensorflow/python/eager/function.py:2496\u001b[0m, in \u001b[0;36mFunction.__call__\u001b[0;34m(self, *args, **kwargs)\u001b[0m\n\u001b[1;32m   2493\u001b[0m \u001b[38;5;28;01mwith\u001b[39;00m \u001b[38;5;28mself\u001b[39m\u001b[38;5;241m.\u001b[39m_lock:\n\u001b[1;32m   2494\u001b[0m   (graph_function,\n\u001b[1;32m   2495\u001b[0m    filtered_flat_args) \u001b[38;5;241m=\u001b[39m \u001b[38;5;28mself\u001b[39m\u001b[38;5;241m.\u001b[39m_maybe_define_function(args, kwargs)\n\u001b[0;32m-> 2496\u001b[0m \u001b[38;5;28;01mreturn\u001b[39;00m \u001b[43mgraph_function\u001b[49m\u001b[38;5;241;43m.\u001b[39;49m\u001b[43m_call_flat\u001b[49m\u001b[43m(\u001b[49m\n\u001b[1;32m   2497\u001b[0m \u001b[43m    \u001b[49m\u001b[43mfiltered_flat_args\u001b[49m\u001b[43m,\u001b[49m\u001b[43m \u001b[49m\u001b[43mcaptured_inputs\u001b[49m\u001b[38;5;241;43m=\u001b[39;49m\u001b[43mgraph_function\u001b[49m\u001b[38;5;241;43m.\u001b[39;49m\u001b[43mcaptured_inputs\u001b[49m\u001b[43m)\u001b[49m\n",
            "File \u001b[0;32m/shared-libs/python3.9/py/lib/python3.9/site-packages/tensorflow/python/eager/function.py:1862\u001b[0m, in \u001b[0;36mConcreteFunction._call_flat\u001b[0;34m(self, args, captured_inputs, cancellation_manager)\u001b[0m\n\u001b[1;32m   1858\u001b[0m possible_gradient_type \u001b[38;5;241m=\u001b[39m gradients_util\u001b[38;5;241m.\u001b[39mPossibleTapeGradientTypes(args)\n\u001b[1;32m   1859\u001b[0m \u001b[38;5;28;01mif\u001b[39;00m (possible_gradient_type \u001b[38;5;241m==\u001b[39m gradients_util\u001b[38;5;241m.\u001b[39mPOSSIBLE_GRADIENT_TYPES_NONE\n\u001b[1;32m   1860\u001b[0m     \u001b[38;5;129;01mand\u001b[39;00m executing_eagerly):\n\u001b[1;32m   1861\u001b[0m   \u001b[38;5;66;03m# No tape is watching; skip to running the function.\u001b[39;00m\n\u001b[0;32m-> 1862\u001b[0m   \u001b[38;5;28;01mreturn\u001b[39;00m \u001b[38;5;28mself\u001b[39m\u001b[38;5;241m.\u001b[39m_build_call_outputs(\u001b[38;5;28;43mself\u001b[39;49m\u001b[38;5;241;43m.\u001b[39;49m\u001b[43m_inference_function\u001b[49m\u001b[38;5;241;43m.\u001b[39;49m\u001b[43mcall\u001b[49m\u001b[43m(\u001b[49m\n\u001b[1;32m   1863\u001b[0m \u001b[43m      \u001b[49m\u001b[43mctx\u001b[49m\u001b[43m,\u001b[49m\u001b[43m \u001b[49m\u001b[43margs\u001b[49m\u001b[43m,\u001b[49m\u001b[43m \u001b[49m\u001b[43mcancellation_manager\u001b[49m\u001b[38;5;241;43m=\u001b[39;49m\u001b[43mcancellation_manager\u001b[49m\u001b[43m)\u001b[49m)\n\u001b[1;32m   1864\u001b[0m forward_backward \u001b[38;5;241m=\u001b[39m \u001b[38;5;28mself\u001b[39m\u001b[38;5;241m.\u001b[39m_select_forward_and_backward_functions(\n\u001b[1;32m   1865\u001b[0m     args,\n\u001b[1;32m   1866\u001b[0m     possible_gradient_type,\n\u001b[1;32m   1867\u001b[0m     executing_eagerly)\n\u001b[1;32m   1868\u001b[0m forward_function, args_with_tangents \u001b[38;5;241m=\u001b[39m forward_backward\u001b[38;5;241m.\u001b[39mforward()\n",
            "File \u001b[0;32m/shared-libs/python3.9/py/lib/python3.9/site-packages/tensorflow/python/eager/function.py:499\u001b[0m, in \u001b[0;36m_EagerDefinedFunction.call\u001b[0;34m(self, ctx, args, cancellation_manager)\u001b[0m\n\u001b[1;32m    497\u001b[0m \u001b[38;5;28;01mwith\u001b[39;00m _InterpolateFunctionError(\u001b[38;5;28mself\u001b[39m):\n\u001b[1;32m    498\u001b[0m   \u001b[38;5;28;01mif\u001b[39;00m cancellation_manager \u001b[38;5;129;01mis\u001b[39;00m \u001b[38;5;28;01mNone\u001b[39;00m:\n\u001b[0;32m--> 499\u001b[0m     outputs \u001b[38;5;241m=\u001b[39m \u001b[43mexecute\u001b[49m\u001b[38;5;241;43m.\u001b[39;49m\u001b[43mexecute\u001b[49m\u001b[43m(\u001b[49m\n\u001b[1;32m    500\u001b[0m \u001b[43m        \u001b[49m\u001b[38;5;28;43mstr\u001b[39;49m\u001b[43m(\u001b[49m\u001b[38;5;28;43mself\u001b[39;49m\u001b[38;5;241;43m.\u001b[39;49m\u001b[43msignature\u001b[49m\u001b[38;5;241;43m.\u001b[39;49m\u001b[43mname\u001b[49m\u001b[43m)\u001b[49m\u001b[43m,\u001b[49m\n\u001b[1;32m    501\u001b[0m \u001b[43m        \u001b[49m\u001b[43mnum_outputs\u001b[49m\u001b[38;5;241;43m=\u001b[39;49m\u001b[38;5;28;43mself\u001b[39;49m\u001b[38;5;241;43m.\u001b[39;49m\u001b[43m_num_outputs\u001b[49m\u001b[43m,\u001b[49m\n\u001b[1;32m    502\u001b[0m \u001b[43m        \u001b[49m\u001b[43minputs\u001b[49m\u001b[38;5;241;43m=\u001b[39;49m\u001b[43margs\u001b[49m\u001b[43m,\u001b[49m\n\u001b[1;32m    503\u001b[0m \u001b[43m        \u001b[49m\u001b[43mattrs\u001b[49m\u001b[38;5;241;43m=\u001b[39;49m\u001b[43mattrs\u001b[49m\u001b[43m,\u001b[49m\n\u001b[1;32m    504\u001b[0m \u001b[43m        \u001b[49m\u001b[43mctx\u001b[49m\u001b[38;5;241;43m=\u001b[39;49m\u001b[43mctx\u001b[49m\u001b[43m)\u001b[49m\n\u001b[1;32m    505\u001b[0m   \u001b[38;5;28;01melse\u001b[39;00m:\n\u001b[1;32m    506\u001b[0m     outputs \u001b[38;5;241m=\u001b[39m execute\u001b[38;5;241m.\u001b[39mexecute_with_cancellation(\n\u001b[1;32m    507\u001b[0m         \u001b[38;5;28mstr\u001b[39m(\u001b[38;5;28mself\u001b[39m\u001b[38;5;241m.\u001b[39msignature\u001b[38;5;241m.\u001b[39mname),\n\u001b[1;32m    508\u001b[0m         num_outputs\u001b[38;5;241m=\u001b[39m\u001b[38;5;28mself\u001b[39m\u001b[38;5;241m.\u001b[39m_num_outputs,\n\u001b[0;32m   (...)\u001b[0m\n\u001b[1;32m    511\u001b[0m         ctx\u001b[38;5;241m=\u001b[39mctx,\n\u001b[1;32m    512\u001b[0m         cancellation_manager\u001b[38;5;241m=\u001b[39mcancellation_manager)\n",
            "File \u001b[0;32m/shared-libs/python3.9/py/lib/python3.9/site-packages/tensorflow/python/eager/execute.py:54\u001b[0m, in \u001b[0;36mquick_execute\u001b[0;34m(op_name, num_outputs, inputs, attrs, ctx, name)\u001b[0m\n\u001b[1;32m     52\u001b[0m \u001b[38;5;28;01mtry\u001b[39;00m:\n\u001b[1;32m     53\u001b[0m   ctx\u001b[38;5;241m.\u001b[39mensure_initialized()\n\u001b[0;32m---> 54\u001b[0m   tensors \u001b[38;5;241m=\u001b[39m \u001b[43mpywrap_tfe\u001b[49m\u001b[38;5;241;43m.\u001b[39;49m\u001b[43mTFE_Py_Execute\u001b[49m\u001b[43m(\u001b[49m\u001b[43mctx\u001b[49m\u001b[38;5;241;43m.\u001b[39;49m\u001b[43m_handle\u001b[49m\u001b[43m,\u001b[49m\u001b[43m \u001b[49m\u001b[43mdevice_name\u001b[49m\u001b[43m,\u001b[49m\u001b[43m \u001b[49m\u001b[43mop_name\u001b[49m\u001b[43m,\u001b[49m\n\u001b[1;32m     55\u001b[0m \u001b[43m                                      \u001b[49m\u001b[43minputs\u001b[49m\u001b[43m,\u001b[49m\u001b[43m \u001b[49m\u001b[43mattrs\u001b[49m\u001b[43m,\u001b[49m\u001b[43m \u001b[49m\u001b[43mnum_outputs\u001b[49m\u001b[43m)\u001b[49m\n\u001b[1;32m     56\u001b[0m \u001b[38;5;28;01mexcept\u001b[39;00m core\u001b[38;5;241m.\u001b[39m_NotOkStatusException \u001b[38;5;28;01mas\u001b[39;00m e:\n\u001b[1;32m     57\u001b[0m   \u001b[38;5;28;01mif\u001b[39;00m name \u001b[38;5;129;01mis\u001b[39;00m \u001b[38;5;129;01mnot\u001b[39;00m \u001b[38;5;28;01mNone\u001b[39;00m:\n",
            "\u001b[0;31mKeyboardInterrupt\u001b[0m: "
          ]
        }
      ],
      "outputs_reference": null,
      "execution_count": 35,
      "block_group": "566b9faad62e4e14a375ad9d86d830aa"
    },
    {
      "cell_type": "code",
      "source": "test_loss, test_accuracy = modelRNN.evaluate(X_test_padded, y_test)\nprint(f'Test Accuracy: {test_accuracy:.4f}')",
      "metadata": {
        "id": "50734136-56a4-4992-ba7f-8f687d4856ec",
        "source_hash": "2bb37fb",
        "deepnote_to_be_reexecuted": true,
        "cell_id": "a0088fe3eadf43f8bcd977b8b0fe1614",
        "deepnote_cell_type": "code"
      },
      "outputs": [],
      "outputs_reference": null,
      "execution_count": null,
      "block_group": "85df1e26a6f545a28561f2a7ebd4292d"
    },
    {
      "cell_type": "code",
      "source": "plt.plot(historyRNN.history['loss'])\nplt.plot(historyRNN.history['val_loss'])\nplt.title('Model Loss')\nplt.ylabel('Loss')\nplt.xlabel('Epoch')\nplt.legend(['Train', 'Validation'], loc='upper right')\nplt.show()",
      "metadata": {
        "id": "ewYWJTf_iT15",
        "source_hash": "854aa6ca",
        "deepnote_to_be_reexecuted": true,
        "cell_id": "ab67afcb746449c6bbc2b60bf9e72c95",
        "deepnote_cell_type": "code"
      },
      "outputs": [],
      "outputs_reference": null,
      "execution_count": null,
      "block_group": "774a20c2b59c431887e3e3dffc958a7b"
    },
    {
      "cell_type": "code",
      "source": "plot_model(modelRNN, to_file='rnn_model.png', show_shapes=True, show_layer_names=True, expand_nested=True)",
      "metadata": {
        "id": "f7n4dLh4idFs",
        "source_hash": "ffbb676",
        "deepnote_to_be_reexecuted": true,
        "cell_id": "d01cc6d4546740ea9595489fc0f69fda",
        "deepnote_cell_type": "code"
      },
      "outputs": [],
      "outputs_reference": null,
      "execution_count": null,
      "block_group": "b7f56bfad0cb4d0b9b9c6edf2f8f4a5d"
    },
    {
      "cell_type": "code",
      "source": "accuracy = historyRNN.history['acc']\nval_accuracy = historyRNN.history['val_acc']\nepochs = range(1, len(accuracy) + 1)\nplt.plot(epochs, accuracy, 'bo', label='Training accuracy')\nplt.plot(epochs, val_accuracy, 'b', label='Validation accuracy')\nplt.title('Training and validation accuracy')\nplt.xlabel('Epochs')\nplt.ylabel('Accuracy')\nplt.legend()\nplt.show()",
      "metadata": {
        "id": "xPzq633xq_d1",
        "source_hash": "4424e78a",
        "deepnote_to_be_reexecuted": true,
        "cell_id": "e7749988d866483c8206e1ac1e7505e2",
        "deepnote_cell_type": "code"
      },
      "outputs": [],
      "outputs_reference": null,
      "execution_count": null,
      "block_group": "1d991a7026fc494b87bd67a10c028a11"
    },
    {
      "cell_type": "markdown",
      "source": "<a style='text-decoration:none;line-height:16px;display:flex;color:#5B5B62;padding:10px;justify-content:end;' href='https://deepnote.com?utm_source=created-in-deepnote-cell&projectId=8aba36e2-8533-4926-b208-ccdfd6b36899' target=\"_blank\">\n<img alt='Created in deepnote.com' style='display:inline;max-height:16px;margin:0px;margin-right:7.5px;' src='data:image/svg+xml;base64,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' > </img>\nCreated in <span style='font-weight:600;margin-left:4px;'>Deepnote</span></a>",
      "metadata": {
        "created_in_deepnote_cell": true,
        "deepnote_cell_type": "markdown"
      }
    }
  ],
  "nbformat": 4,
  "nbformat_minor": 0,
  "metadata": {
    "deepnote_notebook_id": "e7c2006f11cb4e0e9bf1a1462de9a20c",
    "deepnote_execution_queue": []
  }
}